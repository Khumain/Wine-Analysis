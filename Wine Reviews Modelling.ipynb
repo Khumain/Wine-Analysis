{
 "cells": [
  {
   "cell_type": "code",
   "execution_count": 1,
   "id": "c5fe520e",
   "metadata": {},
   "outputs": [],
   "source": [
    "import pandas as pd\n",
    "import numpy as np\n",
    "import nltk\n",
    "from nltk import sent_tokenize, word_tokenize \n",
    "from vaderSentiment.vaderSentiment import SentimentIntensityAnalyzer\n",
    "import warnings\n",
    "warnings.filterwarnings('ignore')"
   ]
  },
  {
   "cell_type": "code",
   "execution_count": 106,
   "id": "6e40ee3b",
   "metadata": {},
   "outputs": [],
   "source": [
    "df = pd.read_csv(\"winemag-data-130k-v2.csv\")"
   ]
  },
  {
   "cell_type": "code",
   "execution_count": 107,
   "id": "9d8795b9",
   "metadata": {},
   "outputs": [
    {
     "data": {
      "text/html": [
       "<div>\n",
       "<style scoped>\n",
       "    .dataframe tbody tr th:only-of-type {\n",
       "        vertical-align: middle;\n",
       "    }\n",
       "\n",
       "    .dataframe tbody tr th {\n",
       "        vertical-align: top;\n",
       "    }\n",
       "\n",
       "    .dataframe thead th {\n",
       "        text-align: right;\n",
       "    }\n",
       "</style>\n",
       "<table border=\"1\" class=\"dataframe\">\n",
       "  <thead>\n",
       "    <tr style=\"text-align: right;\">\n",
       "      <th></th>\n",
       "      <th>country</th>\n",
       "      <th>description</th>\n",
       "      <th>designation</th>\n",
       "      <th>points</th>\n",
       "      <th>price</th>\n",
       "      <th>province</th>\n",
       "      <th>region_1</th>\n",
       "      <th>region_2</th>\n",
       "      <th>taster_name</th>\n",
       "      <th>taster_twitter_handle</th>\n",
       "      <th>title</th>\n",
       "      <th>variety</th>\n",
       "      <th>winery</th>\n",
       "    </tr>\n",
       "  </thead>\n",
       "  <tbody>\n",
       "    <tr>\n",
       "      <th>0</th>\n",
       "      <td>Italy</td>\n",
       "      <td>Aromas include tropical fruit, broom, brimston...</td>\n",
       "      <td>Vulkà Bianco</td>\n",
       "      <td>87</td>\n",
       "      <td>NaN</td>\n",
       "      <td>Sicily &amp; Sardinia</td>\n",
       "      <td>Etna</td>\n",
       "      <td>NaN</td>\n",
       "      <td>Kerin O’Keefe</td>\n",
       "      <td>@kerinokeefe</td>\n",
       "      <td>Nicosia 2013 Vulkà Bianco  (Etna)</td>\n",
       "      <td>White Blend</td>\n",
       "      <td>Nicosia</td>\n",
       "    </tr>\n",
       "    <tr>\n",
       "      <th>1</th>\n",
       "      <td>Portugal</td>\n",
       "      <td>This is ripe and fruity, a wine that is smooth...</td>\n",
       "      <td>Avidagos</td>\n",
       "      <td>87</td>\n",
       "      <td>15.0</td>\n",
       "      <td>Douro</td>\n",
       "      <td>NaN</td>\n",
       "      <td>NaN</td>\n",
       "      <td>Roger Voss</td>\n",
       "      <td>@vossroger</td>\n",
       "      <td>Quinta dos Avidagos 2011 Avidagos Red (Douro)</td>\n",
       "      <td>Portuguese Red</td>\n",
       "      <td>Quinta dos Avidagos</td>\n",
       "    </tr>\n",
       "    <tr>\n",
       "      <th>2</th>\n",
       "      <td>US</td>\n",
       "      <td>Tart and snappy, the flavors of lime flesh and...</td>\n",
       "      <td>NaN</td>\n",
       "      <td>87</td>\n",
       "      <td>14.0</td>\n",
       "      <td>Oregon</td>\n",
       "      <td>Willamette Valley</td>\n",
       "      <td>Willamette Valley</td>\n",
       "      <td>Paul Gregutt</td>\n",
       "      <td>@paulgwine</td>\n",
       "      <td>Rainstorm 2013 Pinot Gris (Willamette Valley)</td>\n",
       "      <td>Pinot Gris</td>\n",
       "      <td>Rainstorm</td>\n",
       "    </tr>\n",
       "    <tr>\n",
       "      <th>3</th>\n",
       "      <td>US</td>\n",
       "      <td>Pineapple rind, lemon pith and orange blossom ...</td>\n",
       "      <td>Reserve Late Harvest</td>\n",
       "      <td>87</td>\n",
       "      <td>13.0</td>\n",
       "      <td>Michigan</td>\n",
       "      <td>Lake Michigan Shore</td>\n",
       "      <td>NaN</td>\n",
       "      <td>Alexander Peartree</td>\n",
       "      <td>NaN</td>\n",
       "      <td>St. Julian 2013 Reserve Late Harvest Riesling ...</td>\n",
       "      <td>Riesling</td>\n",
       "      <td>St. Julian</td>\n",
       "    </tr>\n",
       "    <tr>\n",
       "      <th>4</th>\n",
       "      <td>US</td>\n",
       "      <td>Much like the regular bottling from 2012, this...</td>\n",
       "      <td>Vintner's Reserve Wild Child Block</td>\n",
       "      <td>87</td>\n",
       "      <td>65.0</td>\n",
       "      <td>Oregon</td>\n",
       "      <td>Willamette Valley</td>\n",
       "      <td>Willamette Valley</td>\n",
       "      <td>Paul Gregutt</td>\n",
       "      <td>@paulgwine</td>\n",
       "      <td>Sweet Cheeks 2012 Vintner's Reserve Wild Child...</td>\n",
       "      <td>Pinot Noir</td>\n",
       "      <td>Sweet Cheeks</td>\n",
       "    </tr>\n",
       "  </tbody>\n",
       "</table>\n",
       "</div>"
      ],
      "text/plain": [
       "    country                                        description  \\\n",
       "0     Italy  Aromas include tropical fruit, broom, brimston...   \n",
       "1  Portugal  This is ripe and fruity, a wine that is smooth...   \n",
       "2        US  Tart and snappy, the flavors of lime flesh and...   \n",
       "3        US  Pineapple rind, lemon pith and orange blossom ...   \n",
       "4        US  Much like the regular bottling from 2012, this...   \n",
       "\n",
       "                          designation  points  price           province  \\\n",
       "0                        Vulkà Bianco      87    NaN  Sicily & Sardinia   \n",
       "1                            Avidagos      87   15.0              Douro   \n",
       "2                                 NaN      87   14.0             Oregon   \n",
       "3                Reserve Late Harvest      87   13.0           Michigan   \n",
       "4  Vintner's Reserve Wild Child Block      87   65.0             Oregon   \n",
       "\n",
       "              region_1           region_2         taster_name  \\\n",
       "0                 Etna                NaN       Kerin O’Keefe   \n",
       "1                  NaN                NaN          Roger Voss   \n",
       "2    Willamette Valley  Willamette Valley        Paul Gregutt   \n",
       "3  Lake Michigan Shore                NaN  Alexander Peartree   \n",
       "4    Willamette Valley  Willamette Valley        Paul Gregutt   \n",
       "\n",
       "  taster_twitter_handle                                              title  \\\n",
       "0          @kerinokeefe                  Nicosia 2013 Vulkà Bianco  (Etna)   \n",
       "1            @vossroger      Quinta dos Avidagos 2011 Avidagos Red (Douro)   \n",
       "2           @paulgwine       Rainstorm 2013 Pinot Gris (Willamette Valley)   \n",
       "3                   NaN  St. Julian 2013 Reserve Late Harvest Riesling ...   \n",
       "4           @paulgwine   Sweet Cheeks 2012 Vintner's Reserve Wild Child...   \n",
       "\n",
       "          variety               winery  \n",
       "0     White Blend              Nicosia  \n",
       "1  Portuguese Red  Quinta dos Avidagos  \n",
       "2      Pinot Gris            Rainstorm  \n",
       "3        Riesling           St. Julian  \n",
       "4      Pinot Noir         Sweet Cheeks  "
      ]
     },
     "execution_count": 107,
     "metadata": {},
     "output_type": "execute_result"
    }
   ],
   "source": [
    "df = df.rename(columns= {'Unnamed: 0': 'col1'})\n",
    "df = df.drop(['col1'], axis = 1)\n",
    "df.head()"
   ]
  },
  {
   "cell_type": "code",
   "execution_count": 108,
   "id": "a8a37a21",
   "metadata": {},
   "outputs": [
    {
     "data": {
      "text/html": [
       "<div>\n",
       "<style scoped>\n",
       "    .dataframe tbody tr th:only-of-type {\n",
       "        vertical-align: middle;\n",
       "    }\n",
       "\n",
       "    .dataframe tbody tr th {\n",
       "        vertical-align: top;\n",
       "    }\n",
       "\n",
       "    .dataframe thead th {\n",
       "        text-align: right;\n",
       "    }\n",
       "</style>\n",
       "<table border=\"1\" class=\"dataframe\">\n",
       "  <thead>\n",
       "    <tr style=\"text-align: right;\">\n",
       "      <th></th>\n",
       "      <th>index</th>\n",
       "      <th>country</th>\n",
       "      <th>description</th>\n",
       "      <th>designation</th>\n",
       "      <th>points</th>\n",
       "      <th>price</th>\n",
       "      <th>province</th>\n",
       "      <th>region_1</th>\n",
       "      <th>region_2</th>\n",
       "      <th>taster_name</th>\n",
       "      <th>taster_twitter_handle</th>\n",
       "      <th>title</th>\n",
       "      <th>variety</th>\n",
       "      <th>winery</th>\n",
       "    </tr>\n",
       "  </thead>\n",
       "  <tbody>\n",
       "    <tr>\n",
       "      <th>0</th>\n",
       "      <td>1</td>\n",
       "      <td>Portugal</td>\n",
       "      <td>This is ripe and fruity, a wine that is smooth...</td>\n",
       "      <td>Avidagos</td>\n",
       "      <td>87</td>\n",
       "      <td>15.0</td>\n",
       "      <td>Douro</td>\n",
       "      <td>NaN</td>\n",
       "      <td>NaN</td>\n",
       "      <td>Roger Voss</td>\n",
       "      <td>@vossroger</td>\n",
       "      <td>Quinta dos Avidagos 2011 Avidagos Red (Douro)</td>\n",
       "      <td>Portuguese Red</td>\n",
       "      <td>Quinta dos Avidagos</td>\n",
       "    </tr>\n",
       "    <tr>\n",
       "      <th>1</th>\n",
       "      <td>2</td>\n",
       "      <td>US</td>\n",
       "      <td>Tart and snappy, the flavors of lime flesh and...</td>\n",
       "      <td>NaN</td>\n",
       "      <td>87</td>\n",
       "      <td>14.0</td>\n",
       "      <td>Oregon</td>\n",
       "      <td>Willamette Valley</td>\n",
       "      <td>Willamette Valley</td>\n",
       "      <td>Paul Gregutt</td>\n",
       "      <td>@paulgwine</td>\n",
       "      <td>Rainstorm 2013 Pinot Gris (Willamette Valley)</td>\n",
       "      <td>Pinot Gris</td>\n",
       "      <td>Rainstorm</td>\n",
       "    </tr>\n",
       "    <tr>\n",
       "      <th>2</th>\n",
       "      <td>3</td>\n",
       "      <td>US</td>\n",
       "      <td>Pineapple rind, lemon pith and orange blossom ...</td>\n",
       "      <td>Reserve Late Harvest</td>\n",
       "      <td>87</td>\n",
       "      <td>13.0</td>\n",
       "      <td>Michigan</td>\n",
       "      <td>Lake Michigan Shore</td>\n",
       "      <td>NaN</td>\n",
       "      <td>Alexander Peartree</td>\n",
       "      <td>NaN</td>\n",
       "      <td>St. Julian 2013 Reserve Late Harvest Riesling ...</td>\n",
       "      <td>Riesling</td>\n",
       "      <td>St. Julian</td>\n",
       "    </tr>\n",
       "    <tr>\n",
       "      <th>3</th>\n",
       "      <td>4</td>\n",
       "      <td>US</td>\n",
       "      <td>Much like the regular bottling from 2012, this...</td>\n",
       "      <td>Vintner's Reserve Wild Child Block</td>\n",
       "      <td>87</td>\n",
       "      <td>65.0</td>\n",
       "      <td>Oregon</td>\n",
       "      <td>Willamette Valley</td>\n",
       "      <td>Willamette Valley</td>\n",
       "      <td>Paul Gregutt</td>\n",
       "      <td>@paulgwine</td>\n",
       "      <td>Sweet Cheeks 2012 Vintner's Reserve Wild Child...</td>\n",
       "      <td>Pinot Noir</td>\n",
       "      <td>Sweet Cheeks</td>\n",
       "    </tr>\n",
       "    <tr>\n",
       "      <th>4</th>\n",
       "      <td>5</td>\n",
       "      <td>Spain</td>\n",
       "      <td>Blackberry and raspberry aromas show a typical...</td>\n",
       "      <td>Ars In Vitro</td>\n",
       "      <td>87</td>\n",
       "      <td>15.0</td>\n",
       "      <td>Northern Spain</td>\n",
       "      <td>Navarra</td>\n",
       "      <td>NaN</td>\n",
       "      <td>Michael Schachner</td>\n",
       "      <td>@wineschach</td>\n",
       "      <td>Tandem 2011 Ars In Vitro Tempranillo-Merlot (N...</td>\n",
       "      <td>Tempranillo-Merlot</td>\n",
       "      <td>Tandem</td>\n",
       "    </tr>\n",
       "  </tbody>\n",
       "</table>\n",
       "</div>"
      ],
      "text/plain": [
       "   index   country                                        description  \\\n",
       "0      1  Portugal  This is ripe and fruity, a wine that is smooth...   \n",
       "1      2        US  Tart and snappy, the flavors of lime flesh and...   \n",
       "2      3        US  Pineapple rind, lemon pith and orange blossom ...   \n",
       "3      4        US  Much like the regular bottling from 2012, this...   \n",
       "4      5     Spain  Blackberry and raspberry aromas show a typical...   \n",
       "\n",
       "                          designation  points  price        province  \\\n",
       "0                            Avidagos      87   15.0           Douro   \n",
       "1                                 NaN      87   14.0          Oregon   \n",
       "2                Reserve Late Harvest      87   13.0        Michigan   \n",
       "3  Vintner's Reserve Wild Child Block      87   65.0          Oregon   \n",
       "4                        Ars In Vitro      87   15.0  Northern Spain   \n",
       "\n",
       "              region_1           region_2         taster_name  \\\n",
       "0                  NaN                NaN          Roger Voss   \n",
       "1    Willamette Valley  Willamette Valley        Paul Gregutt   \n",
       "2  Lake Michigan Shore                NaN  Alexander Peartree   \n",
       "3    Willamette Valley  Willamette Valley        Paul Gregutt   \n",
       "4              Navarra                NaN   Michael Schachner   \n",
       "\n",
       "  taster_twitter_handle                                              title  \\\n",
       "0            @vossroger      Quinta dos Avidagos 2011 Avidagos Red (Douro)   \n",
       "1           @paulgwine       Rainstorm 2013 Pinot Gris (Willamette Valley)   \n",
       "2                   NaN  St. Julian 2013 Reserve Late Harvest Riesling ...   \n",
       "3           @paulgwine   Sweet Cheeks 2012 Vintner's Reserve Wild Child...   \n",
       "4           @wineschach  Tandem 2011 Ars In Vitro Tempranillo-Merlot (N...   \n",
       "\n",
       "              variety               winery  \n",
       "0      Portuguese Red  Quinta dos Avidagos  \n",
       "1          Pinot Gris            Rainstorm  \n",
       "2            Riesling           St. Julian  \n",
       "3          Pinot Noir         Sweet Cheeks  \n",
       "4  Tempranillo-Merlot               Tandem  "
      ]
     },
     "execution_count": 108,
     "metadata": {},
     "output_type": "execute_result"
    }
   ],
   "source": [
    "country_num =df['country'].unique()\n",
    "df = df.dropna(subset=['price','points','country','province','variety'])\n",
    "df = df[df['price']<200].reset_index()\n",
    "df.head()"
   ]
  },
  {
   "cell_type": "code",
   "execution_count": 109,
   "id": "d4d5fc9d",
   "metadata": {},
   "outputs": [
    {
     "data": {
      "text/html": [
       "<div>\n",
       "<style scoped>\n",
       "    .dataframe tbody tr th:only-of-type {\n",
       "        vertical-align: middle;\n",
       "    }\n",
       "\n",
       "    .dataframe tbody tr th {\n",
       "        vertical-align: top;\n",
       "    }\n",
       "\n",
       "    .dataframe thead th {\n",
       "        text-align: right;\n",
       "    }\n",
       "</style>\n",
       "<table border=\"1\" class=\"dataframe\">\n",
       "  <thead>\n",
       "    <tr style=\"text-align: right;\">\n",
       "      <th></th>\n",
       "      <th>country</th>\n",
       "      <th>description</th>\n",
       "      <th>points</th>\n",
       "      <th>price</th>\n",
       "      <th>province</th>\n",
       "    </tr>\n",
       "  </thead>\n",
       "  <tbody>\n",
       "    <tr>\n",
       "      <th>0</th>\n",
       "      <td>Portugal</td>\n",
       "      <td>This is ripe and fruity, a wine that is smooth...</td>\n",
       "      <td>87</td>\n",
       "      <td>15.0</td>\n",
       "      <td>Douro</td>\n",
       "    </tr>\n",
       "    <tr>\n",
       "      <th>1</th>\n",
       "      <td>US</td>\n",
       "      <td>Tart and snappy, the flavors of lime flesh and...</td>\n",
       "      <td>87</td>\n",
       "      <td>14.0</td>\n",
       "      <td>Oregon</td>\n",
       "    </tr>\n",
       "    <tr>\n",
       "      <th>2</th>\n",
       "      <td>US</td>\n",
       "      <td>Pineapple rind, lemon pith and orange blossom ...</td>\n",
       "      <td>87</td>\n",
       "      <td>13.0</td>\n",
       "      <td>Michigan</td>\n",
       "    </tr>\n",
       "    <tr>\n",
       "      <th>3</th>\n",
       "      <td>US</td>\n",
       "      <td>Much like the regular bottling from 2012, this...</td>\n",
       "      <td>87</td>\n",
       "      <td>65.0</td>\n",
       "      <td>Oregon</td>\n",
       "    </tr>\n",
       "    <tr>\n",
       "      <th>4</th>\n",
       "      <td>Spain</td>\n",
       "      <td>Blackberry and raspberry aromas show a typical...</td>\n",
       "      <td>87</td>\n",
       "      <td>15.0</td>\n",
       "      <td>Northern Spain</td>\n",
       "    </tr>\n",
       "  </tbody>\n",
       "</table>\n",
       "</div>"
      ],
      "text/plain": [
       "    country                                        description  points  price  \\\n",
       "0  Portugal  This is ripe and fruity, a wine that is smooth...      87   15.0   \n",
       "1        US  Tart and snappy, the flavors of lime flesh and...      87   14.0   \n",
       "2        US  Pineapple rind, lemon pith and orange blossom ...      87   13.0   \n",
       "3        US  Much like the regular bottling from 2012, this...      87   65.0   \n",
       "4     Spain  Blackberry and raspberry aromas show a typical...      87   15.0   \n",
       "\n",
       "         province  \n",
       "0           Douro  \n",
       "1          Oregon  \n",
       "2        Michigan  \n",
       "3          Oregon  \n",
       "4  Northern Spain  "
      ]
     },
     "execution_count": 109,
     "metadata": {},
     "output_type": "execute_result"
    }
   ],
   "source": [
    "df1 = df.drop(df.columns[[0,3,7,8,9,10,11,12,13]], axis = 1)\n",
    "df1.head()"
   ]
  },
  {
   "cell_type": "code",
   "execution_count": 6,
   "id": "a21b65cc",
   "metadata": {
    "scrolled": false
   },
   "outputs": [
    {
     "data": {
      "text/plain": [
       "{'Portugal': 0,\n",
       " 'US': 1,\n",
       " 'Spain': 2,\n",
       " 'Italy': 3,\n",
       " 'France': 4,\n",
       " 'Germany': 5,\n",
       " 'Argentina': 6,\n",
       " 'Chile': 7,\n",
       " 'Australia': 8,\n",
       " 'Austria': 9,\n",
       " 'South Africa': 10,\n",
       " 'New Zealand': 11,\n",
       " 'Israel': 12,\n",
       " 'Hungary': 13,\n",
       " 'Greece': 14,\n",
       " 'Romania': 15,\n",
       " 'Mexico': 16,\n",
       " 'Canada': 17,\n",
       " 'Turkey': 18,\n",
       " 'Czech Republic': 19,\n",
       " 'Slovenia': 20,\n",
       " 'Luxembourg': 21,\n",
       " 'Croatia': 22,\n",
       " 'Georgia': 23,\n",
       " 'Uruguay': 24,\n",
       " 'England': 25,\n",
       " 'Lebanon': 26,\n",
       " 'Serbia': 27,\n",
       " 'Brazil': 28,\n",
       " 'Moldova': 29,\n",
       " 'Morocco': 30,\n",
       " 'Peru': 31,\n",
       " 'India': 32,\n",
       " 'Bulgaria': 33,\n",
       " 'Cyprus': 34,\n",
       " 'Armenia': 35,\n",
       " 'Switzerland': 36,\n",
       " 'Bosnia and Herzegovina': 37,\n",
       " 'Ukraine': 38,\n",
       " 'Slovakia': 39,\n",
       " 'Macedonia': 40,\n",
       " 'China': 41}"
      ]
     },
     "execution_count": 6,
     "metadata": {},
     "output_type": "execute_result"
    }
   ],
   "source": [
    "l = list()\n",
    "l = df1['country'].unique()\n",
    "d = dict()\n",
    "for i in range(len(l)):\n",
    "    d[l[i]] = i \n",
    "d  "
   ]
  },
  {
   "cell_type": "code",
   "execution_count": 7,
   "id": "da6d1a1c",
   "metadata": {},
   "outputs": [],
   "source": [
    "df1['ct'] = np.zeros(120139)\n",
    "for i, country in enumerate(df1['country']):\n",
    "    df1['ct'][i] = d[country]"
   ]
  },
  {
   "cell_type": "code",
   "execution_count": 8,
   "id": "850ba1e7",
   "metadata": {
    "scrolled": true
   },
   "outputs": [
    {
     "data": {
      "text/html": [
       "<div>\n",
       "<style scoped>\n",
       "    .dataframe tbody tr th:only-of-type {\n",
       "        vertical-align: middle;\n",
       "    }\n",
       "\n",
       "    .dataframe tbody tr th {\n",
       "        vertical-align: top;\n",
       "    }\n",
       "\n",
       "    .dataframe thead th {\n",
       "        text-align: right;\n",
       "    }\n",
       "</style>\n",
       "<table border=\"1\" class=\"dataframe\">\n",
       "  <thead>\n",
       "    <tr style=\"text-align: right;\">\n",
       "      <th></th>\n",
       "      <th>country</th>\n",
       "      <th>description</th>\n",
       "      <th>points</th>\n",
       "      <th>price</th>\n",
       "      <th>province</th>\n",
       "      <th>ct</th>\n",
       "    </tr>\n",
       "  </thead>\n",
       "  <tbody>\n",
       "    <tr>\n",
       "      <th>0</th>\n",
       "      <td>Portugal</td>\n",
       "      <td>This is ripe and fruity, a wine that is smooth...</td>\n",
       "      <td>87</td>\n",
       "      <td>15.0</td>\n",
       "      <td>Douro</td>\n",
       "      <td>0.0</td>\n",
       "    </tr>\n",
       "    <tr>\n",
       "      <th>1</th>\n",
       "      <td>US</td>\n",
       "      <td>Tart and snappy, the flavors of lime flesh and...</td>\n",
       "      <td>87</td>\n",
       "      <td>14.0</td>\n",
       "      <td>Oregon</td>\n",
       "      <td>1.0</td>\n",
       "    </tr>\n",
       "    <tr>\n",
       "      <th>2</th>\n",
       "      <td>US</td>\n",
       "      <td>Pineapple rind, lemon pith and orange blossom ...</td>\n",
       "      <td>87</td>\n",
       "      <td>13.0</td>\n",
       "      <td>Michigan</td>\n",
       "      <td>1.0</td>\n",
       "    </tr>\n",
       "    <tr>\n",
       "      <th>3</th>\n",
       "      <td>US</td>\n",
       "      <td>Much like the regular bottling from 2012, this...</td>\n",
       "      <td>87</td>\n",
       "      <td>65.0</td>\n",
       "      <td>Oregon</td>\n",
       "      <td>1.0</td>\n",
       "    </tr>\n",
       "    <tr>\n",
       "      <th>4</th>\n",
       "      <td>Spain</td>\n",
       "      <td>Blackberry and raspberry aromas show a typical...</td>\n",
       "      <td>87</td>\n",
       "      <td>15.0</td>\n",
       "      <td>Northern Spain</td>\n",
       "      <td>2.0</td>\n",
       "    </tr>\n",
       "  </tbody>\n",
       "</table>\n",
       "</div>"
      ],
      "text/plain": [
       "    country                                        description  points  price  \\\n",
       "0  Portugal  This is ripe and fruity, a wine that is smooth...      87   15.0   \n",
       "1        US  Tart and snappy, the flavors of lime flesh and...      87   14.0   \n",
       "2        US  Pineapple rind, lemon pith and orange blossom ...      87   13.0   \n",
       "3        US  Much like the regular bottling from 2012, this...      87   65.0   \n",
       "4     Spain  Blackberry and raspberry aromas show a typical...      87   15.0   \n",
       "\n",
       "         province   ct  \n",
       "0           Douro  0.0  \n",
       "1          Oregon  1.0  \n",
       "2        Michigan  1.0  \n",
       "3          Oregon  1.0  \n",
       "4  Northern Spain  2.0  "
      ]
     },
     "execution_count": 8,
     "metadata": {},
     "output_type": "execute_result"
    }
   ],
   "source": [
    "df1.head()"
   ]
  },
  {
   "cell_type": "code",
   "execution_count": 10,
   "id": "62570194",
   "metadata": {},
   "outputs": [
    {
     "data": {
      "text/plain": [
       "-0.039172745257415986"
      ]
     },
     "execution_count": 10,
     "metadata": {},
     "output_type": "execute_result"
    }
   ],
   "source": [
    "df1['points'].corr(df1['ct'])"
   ]
  },
  {
   "cell_type": "code",
   "execution_count": 11,
   "id": "80ddfc1d",
   "metadata": {},
   "outputs": [
    {
     "data": {
      "text/plain": [
       "{'Douro': 0,\n",
       " 'Oregon': 1,\n",
       " 'Michigan': 2,\n",
       " 'Northern Spain': 3,\n",
       " 'Sicily & Sardinia': 4,\n",
       " 'Alsace': 5,\n",
       " 'Rheinhessen': 6,\n",
       " 'California': 7,\n",
       " 'Mosel': 8,\n",
       " 'Other': 9,\n",
       " 'Mendoza Province': 10,\n",
       " 'Virginia': 11,\n",
       " 'Colchagua Valley': 12,\n",
       " 'Southern Italy': 13,\n",
       " 'Beaujolais': 14,\n",
       " 'Maule Valley': 15,\n",
       " 'Bordeaux': 16,\n",
       " 'Maipo Valley': 17,\n",
       " 'Washington': 18,\n",
       " 'Central Italy': 19,\n",
       " 'Champagne': 20,\n",
       " 'Burgundy': 21,\n",
       " 'South Australia': 22,\n",
       " 'Rapel Valley': 23,\n",
       " 'Galicia': 24,\n",
       " 'France Other': 25,\n",
       " 'Tuscany': 26,\n",
       " 'Burgenland': 27,\n",
       " 'New York': 28,\n",
       " 'Leyda Valley': 29,\n",
       " 'Piedmont': 30,\n",
       " 'Stellenbosch': 31,\n",
       " 'Simonsberg-Stellenbosch': 32,\n",
       " 'Alentejano': 33,\n",
       " 'Central Spain': 34,\n",
       " 'Southwest France': 35,\n",
       " 'Aconcagua Valley': 36,\n",
       " 'Loncomilla Valley': 37,\n",
       " 'Marlborough': 38,\n",
       " 'Northeastern Italy': 39,\n",
       " 'Casablanca Valley': 40,\n",
       " 'Veneto': 41,\n",
       " 'Western Cape': 42,\n",
       " 'Judean Hills': 43,\n",
       " 'Alentejo': 44,\n",
       " 'Coastal Region': 45,\n",
       " 'Rhône Valley': 46,\n",
       " 'Galilee': 47,\n",
       " 'Beira Atlantico': 48,\n",
       " 'Tokaj': 49,\n",
       " 'Leithaberg': 50,\n",
       " 'Santorini': 51,\n",
       " 'Kremstal': 52,\n",
       " 'Catalonia': 53,\n",
       " 'Recas': 54,\n",
       " \"Hawke's Bay\": 55,\n",
       " 'Curicó Valley': 56,\n",
       " 'Limarí Valley': 57,\n",
       " 'Colchagua Costa': 58,\n",
       " 'Languedoc-Roussillon': 59,\n",
       " 'Provence': 60,\n",
       " 'Victoria': 61,\n",
       " 'Rheingau': 62,\n",
       " 'Valle de Guadalupe': 63,\n",
       " 'Central Valley': 64,\n",
       " 'Lontué Valley': 65,\n",
       " 'Italy Other': 66,\n",
       " 'Weinviertel': 67,\n",
       " 'Niederösterreich': 68,\n",
       " 'Wagram': 69,\n",
       " 'Loire Valley': 70,\n",
       " 'Lombardy': 71,\n",
       " 'Ontario': 72,\n",
       " 'Österreichischer Sekt': 73,\n",
       " 'Kamptal': 74,\n",
       " 'Steiermark': 75,\n",
       " 'Südsteiermark': 76,\n",
       " 'Crete': 77,\n",
       " 'Vinho Verde': 78,\n",
       " 'Idaho': 79,\n",
       " 'Tejo': 80,\n",
       " 'Western Australia': 81,\n",
       " 'Levante': 82,\n",
       " 'Martinborough': 83,\n",
       " 'Central Otago': 84,\n",
       " 'Lisboa': 85,\n",
       " 'Texas': 86,\n",
       " 'Península de Setúbal': 87,\n",
       " 'Australia Other': 88,\n",
       " 'Tasmania': 89,\n",
       " 'Franken': 90,\n",
       " 'Ahr': 91,\n",
       " 'Tokaji': 92,\n",
       " 'Nahe': 93,\n",
       " 'Dealu Mare': 94,\n",
       " 'Darling': 95,\n",
       " 'Port': 96,\n",
       " 'Chile': 97,\n",
       " 'Südoststeiermark': 98,\n",
       " 'Corinth': 99,\n",
       " 'Halkidiki': 100,\n",
       " 'Thrace': 101,\n",
       " 'Pfalz': 102,\n",
       " 'Robertson': 103,\n",
       " 'Dan': 104,\n",
       " 'Northwestern Italy': 105,\n",
       " 'Andalucia': 106,\n",
       " 'Awatere Valley': 107,\n",
       " 'Wiener Gemischter Satz': 108,\n",
       " 'Wachau': 109,\n",
       " 'Pennsylvania': 110,\n",
       " 'Swartland': 111,\n",
       " 'Dão': 112,\n",
       " 'Rio Claro': 113,\n",
       " 'Villány': 114,\n",
       " 'Cachapoal Valley': 115,\n",
       " 'Jidvei': 116,\n",
       " 'America': 117,\n",
       " 'Traisental': 118,\n",
       " 'Bairrada': 119,\n",
       " 'Negev Hills': 120,\n",
       " 'Ribatejano': 121,\n",
       " 'Duriense': 122,\n",
       " 'New Jersey': 123,\n",
       " 'Beiras': 124,\n",
       " 'Spanish Islands': 125,\n",
       " 'Upper Galilee': 126,\n",
       " 'Vinho Espumante': 127,\n",
       " 'Epanomi': 128,\n",
       " 'Nemea': 129,\n",
       " 'Peloponnese': 130,\n",
       " 'Aconcagua Costa': 131,\n",
       " 'Moravia': 132,\n",
       " 'Slovenia': 133,\n",
       " 'Terras do Dão': 134,\n",
       " 'Beira Interior': 135,\n",
       " 'Panciu': 136,\n",
       " 'Bío Bío Valley': 137,\n",
       " 'Romania': 138,\n",
       " 'Minho': 139,\n",
       " 'Missouri': 140,\n",
       " 'New Mexico': 141,\n",
       " 'Nevada': 142,\n",
       " 'Bucelas': 143,\n",
       " 'Peumo': 144,\n",
       " 'Thermenregion': 145,\n",
       " 'Carnuntum': 146,\n",
       " 'Estremadura': 147,\n",
       " 'Canterbury': 148,\n",
       " 'Spain Other': 149,\n",
       " 'Drama': 150,\n",
       " 'Ella Valley': 151,\n",
       " 'Moselle Luxembourgeoise': 152,\n",
       " 'Walker Bay': 153,\n",
       " 'Württemberg': 154,\n",
       " 'Baden': 155,\n",
       " 'Pangeon': 156,\n",
       " 'Elqui Valley': 157,\n",
       " 'Wairau Valley': 158,\n",
       " 'Portuguese Table Wine': 159,\n",
       " 'Istria': 160,\n",
       " 'Peljesac': 161,\n",
       " 'Kakheti': 162,\n",
       " 'Canelones': 163,\n",
       " 'England': 164,\n",
       " 'Marchigue': 165,\n",
       " 'Paarl': 166,\n",
       " 'Weinland Österreich': 167,\n",
       " 'Mantinia': 168,\n",
       " 'Chalkidiki': 169,\n",
       " 'Lebanon': 170,\n",
       " 'Setubal': 171,\n",
       " 'Mosel-Saar-Ruwer': 172,\n",
       " 'Colorado': 173,\n",
       " 'Pocerina': 174,\n",
       " 'British Columbia': 175,\n",
       " 'Puente Alto': 176,\n",
       " 'Kumeu': 177,\n",
       " 'Trás-os-Montes': 178,\n",
       " 'Shomron': 179,\n",
       " 'Rapsani': 180,\n",
       " 'New South Wales': 181,\n",
       " 'Nelson': 182,\n",
       " 'Waipara Valley': 183,\n",
       " 'Constantia': 184,\n",
       " 'Arizona': 185,\n",
       " 'San Antonio': 186,\n",
       " 'Pinto Bandeira': 187,\n",
       " 'Primorska': 188,\n",
       " 'Moldova': 189,\n",
       " 'Uruguay': 190,\n",
       " 'Zenata': 191,\n",
       " 'South Africa': 192,\n",
       " 'Massachusetts': 193,\n",
       " 'Ohio': 194,\n",
       " 'Ica': 195,\n",
       " 'San Vicente': 196,\n",
       " 'Nashik': 197,\n",
       " 'Franschhoek': 198,\n",
       " 'South Island': 199,\n",
       " 'Atlantida': 200,\n",
       " 'Thracian Valley': 201,\n",
       " 'Tarnave': 202,\n",
       " 'Vipavska Dolina': 203,\n",
       " 'Bekaa Valley': 204,\n",
       " 'Elgin': 205,\n",
       " 'Itata Valley': 206,\n",
       " 'Table wine': 207,\n",
       " 'Samson': 208,\n",
       " 'Wagram-Donauland': 209,\n",
       " 'Cyprus': 210,\n",
       " 'Pageon': 211,\n",
       " 'Naoussa': 212,\n",
       " 'Wellington': 213,\n",
       " 'Danube River Plains': 214,\n",
       " 'Gisborne': 215,\n",
       " 'Wairarapa': 216,\n",
       " 'Armenia': 217,\n",
       " 'Santa Cruz': 218,\n",
       " 'Korčula': 219,\n",
       " 'Viile Timisului': 220,\n",
       " 'Illinois': 221,\n",
       " 'Aegean': 222,\n",
       " 'Simonsberg-Paarl': 223,\n",
       " 'Juanico': 224,\n",
       " 'Black Sea Coastal': 225,\n",
       " 'Santa Catarina': 226,\n",
       " 'Overberg': 227,\n",
       " 'Atalanti Valley': 228,\n",
       " 'Sebes': 229,\n",
       " 'Moscatel de Setúbal': 230,\n",
       " 'Macedonia': 231,\n",
       " 'Ribatejo': 232,\n",
       " 'Germany': 233,\n",
       " 'Palmela': 234,\n",
       " 'Galil': 235,\n",
       " 'Kras': 236,\n",
       " 'Croatia': 237,\n",
       " 'Waipara': 238,\n",
       " 'Olifants River': 239,\n",
       " 'Montevideo': 240,\n",
       " 'Vienna': 241,\n",
       " 'Hungary': 242,\n",
       " 'Lolol Valley': 243,\n",
       " 'Cauquenes Valley': 244,\n",
       " 'Neusiedlersee': 245,\n",
       " 'Groenekloof': 246,\n",
       " 'Alenquer': 247,\n",
       " 'Goriska Brda': 248,\n",
       " 'Murfatlar': 249,\n",
       " 'Washington-Oregon': 250,\n",
       " 'New Zealand': 251,\n",
       " 'Serra Gaúcha': 252,\n",
       " 'San Jose': 253,\n",
       " 'Vale dos Vinhedos': 254,\n",
       " 'Mittelburgenland': 255,\n",
       " 'Lutzville Valley': 256,\n",
       " 'North Carolina': 257,\n",
       " 'Apalta': 258,\n",
       " 'Malleco': 259,\n",
       " 'Israel': 260,\n",
       " 'Guerrouane': 261,\n",
       " 'Valais': 262,\n",
       " 'Choapa Valley': 263,\n",
       " 'Georgia': 264,\n",
       " 'Ankara': 265,\n",
       " 'Samos': 266,\n",
       " 'Mittelrhein': 267,\n",
       " 'Durbanville': 268,\n",
       " 'Eisenberg': 269,\n",
       " 'Sagrada Familia': 270,\n",
       " 'Obidos': 271,\n",
       " 'Austria': 272,\n",
       " 'Mostar': 273,\n",
       " 'Iowa': 274,\n",
       " 'Patras': 275,\n",
       " 'Korinthia': 276,\n",
       " 'Greece': 277,\n",
       " 'San Clemente': 278,\n",
       " 'Podunavlje': 279,\n",
       " 'Florina': 280,\n",
       " 'Buin': 281,\n",
       " 'Haut-Judeé': 282,\n",
       " 'Ukraine': 283,\n",
       " 'Maipo Valley-Colchagua Valley': 284,\n",
       " 'Breedekloof': 285,\n",
       " 'Leyda Valley-Maipo Valley': 286,\n",
       " 'Cederberg': 287,\n",
       " 'Vermont': 288,\n",
       " 'Switzerland': 289,\n",
       " 'Waitaki Valley': 290,\n",
       " 'Eger': 291,\n",
       " 'Golan Heights': 292,\n",
       " 'Fruška Gora': 293,\n",
       " 'Philadelphia': 294,\n",
       " 'Muzla': 295,\n",
       " 'Mátra': 296,\n",
       " 'Pirque': 297,\n",
       " 'Vinho Espumante de Qualidade': 298,\n",
       " 'Negev': 299,\n",
       " 'Pitsilia Mountains': 300,\n",
       " 'East Coast': 301,\n",
       " 'Mavrodaphne of Patras': 302,\n",
       " 'Attica': 303,\n",
       " 'Brazil': 304,\n",
       " 'Progreso': 305,\n",
       " 'Elazığ-Diyarbakir': 306,\n",
       " 'Jonkershoek Valley': 307,\n",
       " 'Tikves': 308,\n",
       " 'Vale Trentino': 309,\n",
       " 'Turkey': 310,\n",
       " 'Waiheke Island': 311,\n",
       " 'Molina': 312,\n",
       " 'Serra do Sudeste': 313,\n",
       " 'Dalmatian Coast': 314,\n",
       " 'Eilandia': 315,\n",
       " 'Dealurile Munteniei': 316,\n",
       " 'Thraki': 317,\n",
       " 'Curicó and Maipo Valleys': 318,\n",
       " 'Štajerska': 319,\n",
       " 'Middle and South Dalmatia': 320,\n",
       " 'Kentucky': 321,\n",
       " 'Župa': 322,\n",
       " 'Pafos': 323,\n",
       " 'Monemvasia': 324,\n",
       " 'Szekszárd': 325,\n",
       " 'Tulbagh': 326,\n",
       " 'Madeira': 327,\n",
       " 'Elazığ': 328,\n",
       " 'Cappadocia': 329,\n",
       " 'Kutjevo': 330,\n",
       " 'Ismarikos': 331,\n",
       " 'Connecticut': 332,\n",
       " 'Sithonia': 333,\n",
       " 'Curicó and Leyda Valleys': 334,\n",
       " 'Agioritikos': 335,\n",
       " 'Casablanca-Curicó Valley': 336,\n",
       " 'Beotia': 337,\n",
       " 'Algarve': 338,\n",
       " 'Hemel en Aarde': 339,\n",
       " 'Retsina': 340,\n",
       " 'Amindeo': 341,\n",
       " 'Terras do Sado': 342,\n",
       " 'Coelemu': 343,\n",
       " 'Cape South Coast': 344,\n",
       " 'Sopron': 345,\n",
       " 'Bulgaria': 346,\n",
       " 'North Dalmatia': 347,\n",
       " 'Northern Cape': 348,\n",
       " 'Vinho da Mesa': 349,\n",
       " 'Hvar': 350,\n",
       " 'Cephalonia': 351,\n",
       " 'Lemesos': 352,\n",
       " 'Cahul': 353,\n",
       " 'Cyclades': 354,\n",
       " 'Breede River Valley': 355,\n",
       " 'Elim': 356,\n",
       " 'Ticino': 357,\n",
       " 'Moscatel do Douro': 358,\n",
       " 'Vlootenburg': 359,\n",
       " 'Brda': 360,\n",
       " 'Dingač': 361,\n",
       " 'Morocco': 362,\n",
       " 'Achaia': 363,\n",
       " 'Polkadraai Hills': 364,\n",
       " 'Bot River': 365,\n",
       " 'Rhode Island': 366,\n",
       " 'Amyndeon': 367,\n",
       " 'Vânju Mare': 368,\n",
       " 'Hrvatsko Primorje': 369,\n",
       " 'Central Greece': 370,\n",
       " 'Dolenjska': 371,\n",
       " 'Österreichischer Perlwein': 372,\n",
       " 'Requinoa': 373,\n",
       " 'Mavrodaphne de Cephalonie': 374,\n",
       " 'Goumenissa': 375,\n",
       " 'Portugal': 376,\n",
       " 'Messinia': 377,\n",
       " 'Lakonia': 378,\n",
       " 'Markopoulo': 379,\n",
       " 'Vinho Licoroso': 380,\n",
       " 'Campanha': 381,\n",
       " 'Paardeberg': 382,\n",
       " 'San Antonio de las Minas Valley': 383,\n",
       " 'Krania Olympus': 384,\n",
       " 'Corinthia': 385,\n",
       " 'Slovenska Istra': 386,\n",
       " 'Commandaria': 387,\n",
       " 'Gladstone': 388,\n",
       " 'Jerusalem Hills': 389,\n",
       " 'Mount Athos': 390,\n",
       " 'Colares': 391,\n",
       " 'Helderberg': 392,\n",
       " 'Casablanca & Leyda Valleys': 393,\n",
       " 'Dealurile Hușilor': 394,\n",
       " 'Urla-Thrace': 395,\n",
       " 'Südburgenland': 396,\n",
       " 'Cape Peninsula': 397,\n",
       " 'Codru Region': 398,\n",
       " 'Sterea Ellada': 399,\n",
       " 'Muscat of Patras': 400,\n",
       " 'Imathia': 401,\n",
       " 'Alenteo': 402,\n",
       " 'Canada Other': 403,\n",
       " 'Malgas': 404,\n",
       " 'Letrinon': 405,\n",
       " 'Muscat of Kefallonian': 406,\n",
       " 'Thessalikos': 407,\n",
       " 'Hawaii': 408,\n",
       " 'China': 409,\n",
       " 'Limnos': 410,\n",
       " 'Viile Timis': 411,\n",
       " 'Devon Valley': 412,\n",
       " 'Krk': 413,\n",
       " 'Arcadia': 414,\n",
       " 'Cape Agulhas': 415,\n",
       " 'Kathikas': 416,\n",
       " 'Vin de Pays de Velvendo': 417,\n",
       " 'Landwein Rhein': 418,\n",
       " 'Lesbos': 419,\n",
       " 'Távora-Varosa': 420,\n",
       " 'Neuchâtel': 421}"
      ]
     },
     "execution_count": 11,
     "metadata": {},
     "output_type": "execute_result"
    }
   ],
   "source": [
    "l1 = list()\n",
    "l1 = df['province'].unique()\n",
    "d1 = dict()\n",
    "for i in range(len(l1)):\n",
    "    d1[l1[i]] = i \n",
    "d1  "
   ]
  },
  {
   "cell_type": "code",
   "execution_count": 12,
   "id": "8bed7b43",
   "metadata": {},
   "outputs": [],
   "source": [
    "df1['pr'] = df1['ct']\n",
    "for i, province in enumerate(df1['province']):\n",
    "    df1['pr'][i] = d1[province]\n"
   ]
  },
  {
   "cell_type": "code",
   "execution_count": 13,
   "id": "b9773da2",
   "metadata": {},
   "outputs": [
    {
     "data": {
      "text/html": [
       "<div>\n",
       "<style scoped>\n",
       "    .dataframe tbody tr th:only-of-type {\n",
       "        vertical-align: middle;\n",
       "    }\n",
       "\n",
       "    .dataframe tbody tr th {\n",
       "        vertical-align: top;\n",
       "    }\n",
       "\n",
       "    .dataframe thead th {\n",
       "        text-align: right;\n",
       "    }\n",
       "</style>\n",
       "<table border=\"1\" class=\"dataframe\">\n",
       "  <thead>\n",
       "    <tr style=\"text-align: right;\">\n",
       "      <th></th>\n",
       "      <th>country</th>\n",
       "      <th>description</th>\n",
       "      <th>points</th>\n",
       "      <th>price</th>\n",
       "      <th>province</th>\n",
       "      <th>ct</th>\n",
       "      <th>pr</th>\n",
       "    </tr>\n",
       "  </thead>\n",
       "  <tbody>\n",
       "    <tr>\n",
       "      <th>0</th>\n",
       "      <td>Portugal</td>\n",
       "      <td>This is ripe and fruity, a wine that is smooth...</td>\n",
       "      <td>87</td>\n",
       "      <td>15.0</td>\n",
       "      <td>Douro</td>\n",
       "      <td>0.0</td>\n",
       "      <td>0.0</td>\n",
       "    </tr>\n",
       "    <tr>\n",
       "      <th>1</th>\n",
       "      <td>US</td>\n",
       "      <td>Tart and snappy, the flavors of lime flesh and...</td>\n",
       "      <td>87</td>\n",
       "      <td>14.0</td>\n",
       "      <td>Oregon</td>\n",
       "      <td>1.0</td>\n",
       "      <td>1.0</td>\n",
       "    </tr>\n",
       "    <tr>\n",
       "      <th>2</th>\n",
       "      <td>US</td>\n",
       "      <td>Pineapple rind, lemon pith and orange blossom ...</td>\n",
       "      <td>87</td>\n",
       "      <td>13.0</td>\n",
       "      <td>Michigan</td>\n",
       "      <td>1.0</td>\n",
       "      <td>2.0</td>\n",
       "    </tr>\n",
       "    <tr>\n",
       "      <th>3</th>\n",
       "      <td>US</td>\n",
       "      <td>Much like the regular bottling from 2012, this...</td>\n",
       "      <td>87</td>\n",
       "      <td>65.0</td>\n",
       "      <td>Oregon</td>\n",
       "      <td>1.0</td>\n",
       "      <td>1.0</td>\n",
       "    </tr>\n",
       "    <tr>\n",
       "      <th>4</th>\n",
       "      <td>Spain</td>\n",
       "      <td>Blackberry and raspberry aromas show a typical...</td>\n",
       "      <td>87</td>\n",
       "      <td>15.0</td>\n",
       "      <td>Northern Spain</td>\n",
       "      <td>2.0</td>\n",
       "      <td>3.0</td>\n",
       "    </tr>\n",
       "  </tbody>\n",
       "</table>\n",
       "</div>"
      ],
      "text/plain": [
       "    country                                        description  points  price  \\\n",
       "0  Portugal  This is ripe and fruity, a wine that is smooth...      87   15.0   \n",
       "1        US  Tart and snappy, the flavors of lime flesh and...      87   14.0   \n",
       "2        US  Pineapple rind, lemon pith and orange blossom ...      87   13.0   \n",
       "3        US  Much like the regular bottling from 2012, this...      87   65.0   \n",
       "4     Spain  Blackberry and raspberry aromas show a typical...      87   15.0   \n",
       "\n",
       "         province   ct   pr  \n",
       "0           Douro  0.0  0.0  \n",
       "1          Oregon  1.0  1.0  \n",
       "2        Michigan  1.0  2.0  \n",
       "3          Oregon  1.0  1.0  \n",
       "4  Northern Spain  2.0  3.0  "
      ]
     },
     "execution_count": 13,
     "metadata": {},
     "output_type": "execute_result"
    }
   ],
   "source": [
    "df1.head()"
   ]
  },
  {
   "cell_type": "code",
   "execution_count": 14,
   "id": "23b11d8d",
   "metadata": {},
   "outputs": [
    {
     "data": {
      "text/plain": [
       "-0.04332105254869729"
      ]
     },
     "execution_count": 14,
     "metadata": {},
     "output_type": "execute_result"
    }
   ],
   "source": [
    "df1['points'].corr(df1['pr'])"
   ]
  },
  {
   "cell_type": "code",
   "execution_count": 15,
   "id": "ab345ce3",
   "metadata": {},
   "outputs": [],
   "source": [
    "train_df = [df1['price'], df1['ct'], df1['pr'], df['points']]\n",
    "df_model = pd.concat(train_df, axis=1)"
   ]
  },
  {
   "cell_type": "code",
   "execution_count": 16,
   "id": "b2a3108f",
   "metadata": {},
   "outputs": [
    {
     "data": {
      "text/html": [
       "<div>\n",
       "<style scoped>\n",
       "    .dataframe tbody tr th:only-of-type {\n",
       "        vertical-align: middle;\n",
       "    }\n",
       "\n",
       "    .dataframe tbody tr th {\n",
       "        vertical-align: top;\n",
       "    }\n",
       "\n",
       "    .dataframe thead th {\n",
       "        text-align: right;\n",
       "    }\n",
       "</style>\n",
       "<table border=\"1\" class=\"dataframe\">\n",
       "  <thead>\n",
       "    <tr style=\"text-align: right;\">\n",
       "      <th></th>\n",
       "      <th>price</th>\n",
       "      <th>ct</th>\n",
       "      <th>pr</th>\n",
       "      <th>points</th>\n",
       "    </tr>\n",
       "  </thead>\n",
       "  <tbody>\n",
       "    <tr>\n",
       "      <th>0</th>\n",
       "      <td>15.0</td>\n",
       "      <td>0.0</td>\n",
       "      <td>0.0</td>\n",
       "      <td>87</td>\n",
       "    </tr>\n",
       "    <tr>\n",
       "      <th>1</th>\n",
       "      <td>14.0</td>\n",
       "      <td>1.0</td>\n",
       "      <td>1.0</td>\n",
       "      <td>87</td>\n",
       "    </tr>\n",
       "    <tr>\n",
       "      <th>2</th>\n",
       "      <td>13.0</td>\n",
       "      <td>1.0</td>\n",
       "      <td>2.0</td>\n",
       "      <td>87</td>\n",
       "    </tr>\n",
       "    <tr>\n",
       "      <th>3</th>\n",
       "      <td>65.0</td>\n",
       "      <td>1.0</td>\n",
       "      <td>1.0</td>\n",
       "      <td>87</td>\n",
       "    </tr>\n",
       "    <tr>\n",
       "      <th>4</th>\n",
       "      <td>15.0</td>\n",
       "      <td>2.0</td>\n",
       "      <td>3.0</td>\n",
       "      <td>87</td>\n",
       "    </tr>\n",
       "  </tbody>\n",
       "</table>\n",
       "</div>"
      ],
      "text/plain": [
       "   price   ct   pr  points\n",
       "0   15.0  0.0  0.0      87\n",
       "1   14.0  1.0  1.0      87\n",
       "2   13.0  1.0  2.0      87\n",
       "3   65.0  1.0  1.0      87\n",
       "4   15.0  2.0  3.0      87"
      ]
     },
     "execution_count": 16,
     "metadata": {},
     "output_type": "execute_result"
    }
   ],
   "source": [
    "df_model.head()"
   ]
  },
  {
   "cell_type": "code",
   "execution_count": 17,
   "id": "a5b88320",
   "metadata": {},
   "outputs": [],
   "source": [
    "from sklearn.model_selection import train_test_split\n",
    "train, test = train_test_split(df_model, test_size = 0.3)\n",
    "\n",
    "x_train = train.iloc[0:,0:3]#independent variables \n",
    "y_train = train['points']# last column \n",
    "x_test = test.iloc[0:,0:3]\n",
    "y_test = test['points']"
   ]
  },
  {
   "cell_type": "markdown",
   "id": "ba26b5e2",
   "metadata": {},
   "source": [
    "<h2>Correlation</h2>"
   ]
  },
  {
   "cell_type": "code",
   "execution_count": 18,
   "id": "28b56623",
   "metadata": {},
   "outputs": [
    {
     "name": "stdout",
     "output_type": "stream",
     "text": [
      "0.06654240799792209 0.004563470181493188 0.0005349749439554968\n"
     ]
    }
   ],
   "source": [
    "from sklearn import linear_model\n",
    "model = linear_model.LinearRegression()\n",
    "model.fit(x_train,y_train)\n",
    "a,b,c = model.coef_\n",
    "print(a,b,c)"
   ]
  },
  {
   "cell_type": "code",
   "execution_count": 19,
   "id": "4402f82f",
   "metadata": {},
   "outputs": [
    {
     "data": {
      "text/plain": [
       "86.13264286617273"
      ]
     },
     "execution_count": 19,
     "metadata": {},
     "output_type": "execute_result"
    }
   ],
   "source": [
    "intercept = model.intercept_\n",
    "intercept"
   ]
  },
  {
   "cell_type": "code",
   "execution_count": 20,
   "id": "055284be",
   "metadata": {},
   "outputs": [
    {
     "data": {
      "text/plain": [
       "array([87.73796895, 88.54236257, 90.46620768, ..., 89.14659399,\n",
       "       87.95531508, 92.15430068])"
      ]
     },
     "execution_count": 20,
     "metadata": {},
     "output_type": "execute_result"
    }
   ],
   "source": [
    "testing_predictions = model.predict(x_test)\n",
    "testing_predictions"
   ]
  },
  {
   "cell_type": "code",
   "execution_count": 21,
   "id": "dd389e30",
   "metadata": {},
   "outputs": [
    {
     "name": "stdout",
     "output_type": "stream",
     "text": [
      "                                 OLS Regression Results                                \n",
      "=======================================================================================\n",
      "Dep. Variable:                 points   R-squared (uncentered):                   0.668\n",
      "Model:                            OLS   Adj. R-squared (uncentered):              0.668\n",
      "Method:                 Least Squares   F-statistic:                          2.421e+05\n",
      "Date:                Mon, 05 Dec 2022   Prob (F-statistic):                        0.00\n",
      "Time:                        16:20:21   Log-Likelihood:                     -6.4266e+05\n",
      "No. Observations:              120139   AIC:                                  1.285e+06\n",
      "Df Residuals:                  120138   BIC:                                  1.285e+06\n",
      "Df Model:                           1                                                  \n",
      "Covariance Type:            nonrobust                                                  \n",
      "==============================================================================\n",
      "                 coef    std err          t      P>|t|      [0.025      0.975]\n",
      "------------------------------------------------------------------------------\n",
      "price          1.7528      0.004    492.078      0.000       1.746       1.760\n",
      "==============================================================================\n",
      "Omnibus:                    58519.407   Durbin-Watson:                   0.908\n",
      "Prob(Omnibus):                  0.000   Jarque-Bera (JB):           377609.247\n",
      "Skew:                          -2.294   Prob(JB):                         0.00\n",
      "Kurtosis:                      10.375   Cond. No.                         1.00\n",
      "==============================================================================\n",
      "\n",
      "Notes:\n",
      "[1] R² is computed without centering (uncentered) since the model does not contain a constant.\n",
      "[2] Standard Errors assume that the covariance matrix of the errors is correctly specified.\n"
     ]
    }
   ],
   "source": [
    "import statsmodels.api as sm\n",
    "print(sm.OLS(df1.points, df1.price).fit().summary())"
   ]
  },
  {
   "cell_type": "code",
   "execution_count": 22,
   "id": "784063ed",
   "metadata": {
    "scrolled": true
   },
   "outputs": [
    {
     "data": {
      "text/plain": [
       "<seaborn.axisgrid.FacetGrid at 0x7fa8b4713df0>"
      ]
     },
     "execution_count": 22,
     "metadata": {},
     "output_type": "execute_result"
    },
    {
     "data": {
      "image/png": "[encoded data removed]",
      "text/plain": [
       "<Figure size 360x360 with 1 Axes>"
      ]
     },
     "metadata": {
      "needs_background": "light"
     },
     "output_type": "display_data"
    }
   ],
   "source": [
    "import seaborn as sns\n",
    "sns.lmplot(y = 'points', x='price', data=df1)"
   ]
  },
  {
   "cell_type": "code",
   "execution_count": 24,
   "id": "f8e367e6",
   "metadata": {
    "scrolled": true
   },
   "outputs": [
    {
     "data": {
      "text/plain": [
       "<seaborn.axisgrid.FacetGrid at 0x7fa8b4789100>"
      ]
     },
     "execution_count": 24,
     "metadata": {},
     "output_type": "execute_result"
    },
    {
     "data": {
      "image/png": "[encoded data removed]",
      "text/plain": [
       "<Figure size 360x360 with 1 Axes>"
      ]
     },
     "metadata": {
      "needs_background": "light"
     },
     "output_type": "display_data"
    }
   ],
   "source": [
    "sns.lmplot(y = 'price', x='pr', data=df1)"
   ]
  },
  {
   "cell_type": "code",
   "execution_count": 28,
   "id": "698c317f",
   "metadata": {},
   "outputs": [
    {
     "data": {
      "text/plain": [
       "<seaborn.axisgrid.FacetGrid at 0x7fd091588cd0>"
      ]
     },
     "execution_count": 28,
     "metadata": {},
     "output_type": "execute_result"
    },
    {
     "data": {
      "image/png": "[encoded data removed]",
      "text/plain": [
       "<Figure size 360x360 with 1 Axes>"
      ]
     },
     "metadata": {
      "needs_background": "light"
     },
     "output_type": "display_data"
    }
   ],
   "source": [
    "sns.lmplot(y = 'points', x='ct', data=df1)"
   ]
  },
  {
   "cell_type": "markdown",
   "id": "1c9d4ce5",
   "metadata": {},
   "source": [
    "<h2>Regressive Model</h2>"
   ]
  },
  {
   "cell_type": "code",
   "execution_count": 25,
   "id": "f74855c9",
   "metadata": {},
   "outputs": [
    {
     "data": {
      "text/plain": [
       "array([87.73796895, 88.54236257, 90.46620768, ..., 89.14659399,\n",
       "       87.95531508, 92.15430068])"
      ]
     },
     "execution_count": 25,
     "metadata": {},
     "output_type": "execute_result"
    }
   ],
   "source": [
    "testing_predictions = model.predict(x_test)\n",
    "testing_predictions"
   ]
  },
  {
   "cell_type": "code",
   "execution_count": 26,
   "id": "447cd755",
   "metadata": {},
   "outputs": [
    {
     "data": {
      "text/plain": [
       "67669    86\n",
       "64266    86\n",
       "48906    87\n",
       "6396     89\n",
       "49789    88\n",
       "         ..\n",
       "89942    88\n",
       "7707     87\n",
       "41274    93\n",
       "57830    85\n",
       "71095    96\n",
       "Name: points, Length: 36042, dtype: int64"
      ]
     },
     "execution_count": 26,
     "metadata": {},
     "output_type": "execute_result"
    }
   ],
   "source": [
    "y_test"
   ]
  },
  {
   "cell_type": "code",
   "execution_count": 27,
   "id": "ce27073c",
   "metadata": {},
   "outputs": [
    {
     "data": {
      "text/plain": [
       "0.29722556105299136"
      ]
     },
     "execution_count": 27,
     "metadata": {},
     "output_type": "execute_result"
    }
   ],
   "source": [
    "from sklearn.metrics import confusion_matrix\n",
    "from sklearn.metrics import mean_squared_error\n",
    "import math\n",
    "from sklearn.metrics import r2_score\n",
    "r2_score(y_test, testing_predictions)"
   ]
  },
  {
   "cell_type": "code",
   "execution_count": 28,
   "id": "0bbb2613",
   "metadata": {},
   "outputs": [
    {
     "data": {
      "text/plain": [
       "array([88, 90, 93, ..., 90, 87, 90])"
      ]
     },
     "execution_count": 28,
     "metadata": {},
     "output_type": "execute_result"
    }
   ],
   "source": [
    "from sklearn.linear_model import LogisticRegression\n",
    "logit = LogisticRegression()\n",
    "logit.fit(x_train,y_train)\n",
    "\n",
    "y_pred = logit.predict(x_test)\n",
    "y_pred"
   ]
  },
  {
   "cell_type": "code",
   "execution_count": 29,
   "id": "e4d68717",
   "metadata": {},
   "outputs": [
    {
     "data": {
      "text/plain": [
       "0.16497419677043448"
      ]
     },
     "execution_count": 29,
     "metadata": {},
     "output_type": "execute_result"
    }
   ],
   "source": [
    "from sklearn import metrics\n",
    "metrics.accuracy_score(y_test, y_pred)"
   ]
  },
  {
   "cell_type": "markdown",
   "id": "a550c01b",
   "metadata": {},
   "source": [
    "<h2>Decision Tree</h2>"
   ]
  },
  {
   "cell_type": "code",
   "execution_count": 30,
   "id": "457c978e",
   "metadata": {},
   "outputs": [
    {
     "data": {
      "text/plain": [
       "DecisionTreeClassifier(random_state=10)"
      ]
     },
     "execution_count": 30,
     "metadata": {},
     "output_type": "execute_result"
    }
   ],
   "source": [
    "from sklearn.tree import DecisionTreeClassifier\n",
    "clf = DecisionTreeClassifier(random_state=10)\n",
    "clf.fit(X=x_train,y=y_train)"
   ]
  },
  {
   "cell_type": "code",
   "execution_count": 31,
   "id": "3030097d",
   "metadata": {},
   "outputs": [
    {
     "data": {
      "text/plain": [
       "0.18533932634149047"
      ]
     },
     "execution_count": 31,
     "metadata": {},
     "output_type": "execute_result"
    }
   ],
   "source": [
    "clf.score(X=x_test, y=y_test)"
   ]
  },
  {
   "cell_type": "code",
   "execution_count": 32,
   "id": "68861e66",
   "metadata": {},
   "outputs": [
    {
     "data": {
      "text/plain": [
       "DecisionTreeRegressor(max_depth=3)"
      ]
     },
     "execution_count": 32,
     "metadata": {},
     "output_type": "execute_result"
    }
   ],
   "source": [
    "from sklearn.tree import DecisionTreeRegressor\n",
    "from sklearn import tree\n",
    "model = tree.DecisionTreeRegressor(max_depth=3)\n",
    "#model = DecisionTreeRegressor(max_depth = 3)\n",
    "model.fit(x_train,y_train)"
   ]
  },
  {
   "cell_type": "markdown",
   "id": "a83a0cec",
   "metadata": {},
   "source": [
    "<h2>Sentiment Analysis</h2>"
   ]
  },
  {
   "cell_type": "code",
   "execution_count": 110,
   "id": "d7447be2",
   "metadata": {
    "scrolled": true
   },
   "outputs": [
    {
     "data": {
      "text/html": [
       "<div>\n",
       "<style scoped>\n",
       "    .dataframe tbody tr th:only-of-type {\n",
       "        vertical-align: middle;\n",
       "    }\n",
       "\n",
       "    .dataframe tbody tr th {\n",
       "        vertical-align: top;\n",
       "    }\n",
       "\n",
       "    .dataframe thead th {\n",
       "        text-align: right;\n",
       "    }\n",
       "</style>\n",
       "<table border=\"1\" class=\"dataframe\">\n",
       "  <thead>\n",
       "    <tr style=\"text-align: right;\">\n",
       "      <th></th>\n",
       "      <th>country</th>\n",
       "      <th>description</th>\n",
       "      <th>points</th>\n",
       "      <th>price</th>\n",
       "      <th>province</th>\n",
       "    </tr>\n",
       "  </thead>\n",
       "  <tbody>\n",
       "    <tr>\n",
       "      <th>0</th>\n",
       "      <td>Portugal</td>\n",
       "      <td>This is ripe and fruity, a wine that is smooth...</td>\n",
       "      <td>87</td>\n",
       "      <td>15.0</td>\n",
       "      <td>Douro</td>\n",
       "    </tr>\n",
       "    <tr>\n",
       "      <th>1</th>\n",
       "      <td>US</td>\n",
       "      <td>Tart and snappy, the flavors of lime flesh and...</td>\n",
       "      <td>87</td>\n",
       "      <td>14.0</td>\n",
       "      <td>Oregon</td>\n",
       "    </tr>\n",
       "    <tr>\n",
       "      <th>2</th>\n",
       "      <td>US</td>\n",
       "      <td>Pineapple rind, lemon pith and orange blossom ...</td>\n",
       "      <td>87</td>\n",
       "      <td>13.0</td>\n",
       "      <td>Michigan</td>\n",
       "    </tr>\n",
       "    <tr>\n",
       "      <th>3</th>\n",
       "      <td>US</td>\n",
       "      <td>Much like the regular bottling from 2012, this...</td>\n",
       "      <td>87</td>\n",
       "      <td>65.0</td>\n",
       "      <td>Oregon</td>\n",
       "    </tr>\n",
       "    <tr>\n",
       "      <th>4</th>\n",
       "      <td>Spain</td>\n",
       "      <td>Blackberry and raspberry aromas show a typical...</td>\n",
       "      <td>87</td>\n",
       "      <td>15.0</td>\n",
       "      <td>Northern Spain</td>\n",
       "    </tr>\n",
       "  </tbody>\n",
       "</table>\n",
       "</div>"
      ],
      "text/plain": [
       "    country                                        description  points  price  \\\n",
       "0  Portugal  This is ripe and fruity, a wine that is smooth...      87   15.0   \n",
       "1        US  Tart and snappy, the flavors of lime flesh and...      87   14.0   \n",
       "2        US  Pineapple rind, lemon pith and orange blossom ...      87   13.0   \n",
       "3        US  Much like the regular bottling from 2012, this...      87   65.0   \n",
       "4     Spain  Blackberry and raspberry aromas show a typical...      87   15.0   \n",
       "\n",
       "         province  \n",
       "0           Douro  \n",
       "1          Oregon  \n",
       "2        Michigan  \n",
       "3          Oregon  \n",
       "4  Northern Spain  "
      ]
     },
     "execution_count": 110,
     "metadata": {},
     "output_type": "execute_result"
    }
   ],
   "source": [
    "df1.head()"
   ]
  },
  {
   "cell_type": "code",
   "execution_count": 111,
   "id": "dd0a47ed",
   "metadata": {},
   "outputs": [
    {
     "data": {
      "text/html": [
       "<div>\n",
       "<style scoped>\n",
       "    .dataframe tbody tr th:only-of-type {\n",
       "        vertical-align: middle;\n",
       "    }\n",
       "\n",
       "    .dataframe tbody tr th {\n",
       "        vertical-align: top;\n",
       "    }\n",
       "\n",
       "    .dataframe thead th {\n",
       "        text-align: right;\n",
       "    }\n",
       "</style>\n",
       "<table border=\"1\" class=\"dataframe\">\n",
       "  <thead>\n",
       "    <tr style=\"text-align: right;\">\n",
       "      <th></th>\n",
       "      <th>country</th>\n",
       "      <th>description</th>\n",
       "      <th>points</th>\n",
       "      <th>price</th>\n",
       "      <th>province</th>\n",
       "    </tr>\n",
       "  </thead>\n",
       "  <tbody>\n",
       "    <tr>\n",
       "      <th>0</th>\n",
       "      <td>Portugal</td>\n",
       "      <td>this is ripe and fruity, a wine that is smooth...</td>\n",
       "      <td>87</td>\n",
       "      <td>15.0</td>\n",
       "      <td>Douro</td>\n",
       "    </tr>\n",
       "    <tr>\n",
       "      <th>1</th>\n",
       "      <td>US</td>\n",
       "      <td>tart and snappy, the flavors of lime flesh and...</td>\n",
       "      <td>87</td>\n",
       "      <td>14.0</td>\n",
       "      <td>Oregon</td>\n",
       "    </tr>\n",
       "    <tr>\n",
       "      <th>2</th>\n",
       "      <td>US</td>\n",
       "      <td>pineapple rind, lemon pith and orange blossom ...</td>\n",
       "      <td>87</td>\n",
       "      <td>13.0</td>\n",
       "      <td>Michigan</td>\n",
       "    </tr>\n",
       "  </tbody>\n",
       "</table>\n",
       "</div>"
      ],
      "text/plain": [
       "    country                                        description  points  price  \\\n",
       "0  Portugal  this is ripe and fruity, a wine that is smooth...      87   15.0   \n",
       "1        US  tart and snappy, the flavors of lime flesh and...      87   14.0   \n",
       "2        US  pineapple rind, lemon pith and orange blossom ...      87   13.0   \n",
       "\n",
       "   province  \n",
       "0     Douro  \n",
       "1    Oregon  \n",
       "2  Michigan  "
      ]
     },
     "execution_count": 111,
     "metadata": {},
     "output_type": "execute_result"
    }
   ],
   "source": [
    "df1['description'] = df1['description'].astype(str).str.lower()\n",
    "df1.head(3)"
   ]
  },
  {
   "cell_type": "code",
   "execution_count": 35,
   "id": "ef90a253",
   "metadata": {},
   "outputs": [
    {
     "name": "stdout",
     "output_type": "stream",
     "text": [
      "Collecting package metadata (current_repodata.json): done\n",
      "Solving environment: done\n",
      "\n",
      "## Package Plan ##\n",
      "\n",
      "  environment location: /Users/shrutiagarwal/opt/anaconda3\n",
      "\n",
      "  added / updated specs:\n",
      "    - nltk\n",
      "\n",
      "\n",
      "The following packages will be downloaded:\n",
      "\n",
      "    package                    |            build\n",
      "    ---------------------------|-----------------\n",
      "    conda-22.11.0              |   py39hecd8cb5_1         927 KB\n",
      "    ruamel.yaml-0.16.12        |   py39h9ed2024_1         180 KB  anaconda\n",
      "    ruamel.yaml.clib-0.2.6     |   py39hca72f7f_0         138 KB  anaconda\n",
      "    ------------------------------------------------------------\n",
      "                                           Total:         1.2 MB\n",
      "\n",
      "The following NEW packages will be INSTALLED:\n",
      "\n",
      "  ruamel.yaml        anaconda/osx-64::ruamel.yaml-0.16.12-py39h9ed2024_1 None\n",
      "  ruamel.yaml.clib   anaconda/osx-64::ruamel.yaml.clib-0.2.6-py39hca72f7f_0 None\n",
      "\n",
      "The following packages will be UPDATED:\n",
      "\n",
      "  conda              conda-forge::conda-22.9.0-py39h6e9494~ --> pkgs/main::conda-22.11.0-py39hecd8cb5_1 None\n",
      "\n",
      "The following packages will be SUPERSEDED by a higher-priority channel:\n",
      "\n",
      "  ca-certificates    conda-forge::ca-certificates-2022.9.2~ --> anaconda::ca-certificates-2022.4.26-hecd8cb5_0 None\n",
      "  certifi            conda-forge/noarch::certifi-2022.9.24~ --> anaconda/osx-64::certifi-2022.6.15-py39hecd8cb5_0 None\n",
      "  openssl            conda-forge::openssl-1.1.1s-hfd90126_0 --> anaconda::openssl-1.1.1o-hca72f7f_0 None\n",
      "\n",
      "\n",
      "\n",
      "Downloading and Extracting Packages\n",
      "conda-22.11.0        | 927 KB    | ##################################### | 100% \n",
      "ruamel.yaml.clib-0.2 | 138 KB    | ##################################### | 100% \n",
      "ruamel.yaml-0.16.12  | 180 KB    | ##################################### | 100% \n",
      "Preparing transaction: done\n",
      "Verifying transaction: done\n",
      "Executing transaction: done\n",
      "Retrieving notices: ...working... done\n",
      "\n",
      "Note: you may need to restart the kernel to use updated packages.\n"
     ]
    }
   ],
   "source": [
    "conda install -c anaconda nltk"
   ]
  },
  {
   "cell_type": "code",
   "execution_count": 112,
   "id": "dd45cdb1",
   "metadata": {},
   "outputs": [
    {
     "data": {
      "text/html": [
       "<div>\n",
       "<style scoped>\n",
       "    .dataframe tbody tr th:only-of-type {\n",
       "        vertical-align: middle;\n",
       "    }\n",
       "\n",
       "    .dataframe tbody tr th {\n",
       "        vertical-align: top;\n",
       "    }\n",
       "\n",
       "    .dataframe thead th {\n",
       "        text-align: right;\n",
       "    }\n",
       "</style>\n",
       "<table border=\"1\" class=\"dataframe\">\n",
       "  <thead>\n",
       "    <tr style=\"text-align: right;\">\n",
       "      <th></th>\n",
       "      <th>country</th>\n",
       "      <th>description</th>\n",
       "      <th>points</th>\n",
       "      <th>price</th>\n",
       "      <th>province</th>\n",
       "      <th>text_token</th>\n",
       "    </tr>\n",
       "  </thead>\n",
       "  <tbody>\n",
       "    <tr>\n",
       "      <th>0</th>\n",
       "      <td>Portugal</td>\n",
       "      <td>this is ripe and fruity, a wine that is smooth...</td>\n",
       "      <td>87</td>\n",
       "      <td>15.0</td>\n",
       "      <td>Douro</td>\n",
       "      <td>[this, is, ripe, and, fruity, a, wine, that, i...</td>\n",
       "    </tr>\n",
       "    <tr>\n",
       "      <th>1</th>\n",
       "      <td>US</td>\n",
       "      <td>tart and snappy, the flavors of lime flesh and...</td>\n",
       "      <td>87</td>\n",
       "      <td>14.0</td>\n",
       "      <td>Oregon</td>\n",
       "      <td>[tart, and, snappy, the, flavors, of, lime, fl...</td>\n",
       "    </tr>\n",
       "    <tr>\n",
       "      <th>2</th>\n",
       "      <td>US</td>\n",
       "      <td>pineapple rind, lemon pith and orange blossom ...</td>\n",
       "      <td>87</td>\n",
       "      <td>13.0</td>\n",
       "      <td>Michigan</td>\n",
       "      <td>[pineapple, rind, lemon, pith, and, orange, bl...</td>\n",
       "    </tr>\n",
       "  </tbody>\n",
       "</table>\n",
       "</div>"
      ],
      "text/plain": [
       "    country                                        description  points  price  \\\n",
       "0  Portugal  this is ripe and fruity, a wine that is smooth...      87   15.0   \n",
       "1        US  tart and snappy, the flavors of lime flesh and...      87   14.0   \n",
       "2        US  pineapple rind, lemon pith and orange blossom ...      87   13.0   \n",
       "\n",
       "   province                                         text_token  \n",
       "0     Douro  [this, is, ripe, and, fruity, a, wine, that, i...  \n",
       "1    Oregon  [tart, and, snappy, the, flavors, of, lime, fl...  \n",
       "2  Michigan  [pineapple, rind, lemon, pith, and, orange, bl...  "
      ]
     },
     "execution_count": 112,
     "metadata": {},
     "output_type": "execute_result"
    }
   ],
   "source": [
    "from nltk.tokenize import RegexpTokenizer\n",
    "\n",
    "regexp = RegexpTokenizer('\\w+')\n",
    "\n",
    "df1['text_token']=df1['description'].apply(regexp.tokenize)\n",
    "df1.head(3)\n"
   ]
  },
  {
   "cell_type": "code",
   "execution_count": 37,
   "id": "6ad66a00",
   "metadata": {},
   "outputs": [
    {
     "name": "stderr",
     "output_type": "stream",
     "text": [
      "[nltk_data] Downloading package stopwords to\n",
      "[nltk_data]     /Users/shrutiagarwal/nltk_data...\n",
      "[nltk_data]   Package stopwords is already up-to-date!\n"
     ]
    },
    {
     "data": {
      "text/plain": [
       "True"
      ]
     },
     "execution_count": 37,
     "metadata": {},
     "output_type": "execute_result"
    }
   ],
   "source": [
    "import nltk\n",
    "\n",
    "nltk.download('stopwords')"
   ]
  },
  {
   "cell_type": "code",
   "execution_count": 113,
   "id": "323cd282",
   "metadata": {},
   "outputs": [],
   "source": [
    "from nltk.corpus import stopwords\n",
    "\n",
    "# Make a list of english stopwords\n",
    "stopwords = nltk.corpus.stopwords.words(\"english\")\n",
    "\n",
    "# Extend the list with your own custom stopwords\n",
    "my_stopwords = ['https']\n",
    "stopwords.extend(my_stopwords)"
   ]
  },
  {
   "cell_type": "code",
   "execution_count": 114,
   "id": "0dffa24b",
   "metadata": {},
   "outputs": [
    {
     "data": {
      "text/html": [
       "<div>\n",
       "<style scoped>\n",
       "    .dataframe tbody tr th:only-of-type {\n",
       "        vertical-align: middle;\n",
       "    }\n",
       "\n",
       "    .dataframe tbody tr th {\n",
       "        vertical-align: top;\n",
       "    }\n",
       "\n",
       "    .dataframe thead th {\n",
       "        text-align: right;\n",
       "    }\n",
       "</style>\n",
       "<table border=\"1\" class=\"dataframe\">\n",
       "  <thead>\n",
       "    <tr style=\"text-align: right;\">\n",
       "      <th></th>\n",
       "      <th>country</th>\n",
       "      <th>description</th>\n",
       "      <th>points</th>\n",
       "      <th>price</th>\n",
       "      <th>province</th>\n",
       "      <th>text_token</th>\n",
       "    </tr>\n",
       "  </thead>\n",
       "  <tbody>\n",
       "    <tr>\n",
       "      <th>0</th>\n",
       "      <td>Portugal</td>\n",
       "      <td>this is ripe and fruity, a wine that is smooth...</td>\n",
       "      <td>87</td>\n",
       "      <td>15.0</td>\n",
       "      <td>Douro</td>\n",
       "      <td>[ripe, fruity, wine, smooth, still, structured...</td>\n",
       "    </tr>\n",
       "    <tr>\n",
       "      <th>1</th>\n",
       "      <td>US</td>\n",
       "      <td>tart and snappy, the flavors of lime flesh and...</td>\n",
       "      <td>87</td>\n",
       "      <td>14.0</td>\n",
       "      <td>Oregon</td>\n",
       "      <td>[tart, snappy, flavors, lime, flesh, rind, dom...</td>\n",
       "    </tr>\n",
       "    <tr>\n",
       "      <th>2</th>\n",
       "      <td>US</td>\n",
       "      <td>pineapple rind, lemon pith and orange blossom ...</td>\n",
       "      <td>87</td>\n",
       "      <td>13.0</td>\n",
       "      <td>Michigan</td>\n",
       "      <td>[pineapple, rind, lemon, pith, orange, blossom...</td>\n",
       "    </tr>\n",
       "  </tbody>\n",
       "</table>\n",
       "</div>"
      ],
      "text/plain": [
       "    country                                        description  points  price  \\\n",
       "0  Portugal  this is ripe and fruity, a wine that is smooth...      87   15.0   \n",
       "1        US  tart and snappy, the flavors of lime flesh and...      87   14.0   \n",
       "2        US  pineapple rind, lemon pith and orange blossom ...      87   13.0   \n",
       "\n",
       "   province                                         text_token  \n",
       "0     Douro  [ripe, fruity, wine, smooth, still, structured...  \n",
       "1    Oregon  [tart, snappy, flavors, lime, flesh, rind, dom...  \n",
       "2  Michigan  [pineapple, rind, lemon, pith, orange, blossom...  "
      ]
     },
     "execution_count": 114,
     "metadata": {},
     "output_type": "execute_result"
    }
   ],
   "source": [
    "# Remove stopwords\n",
    "df1['text_token'] = df1['text_token'].apply(lambda x: [item for item in x if item not in stopwords])\n",
    "df1.head(3)"
   ]
  },
  {
   "cell_type": "code",
   "execution_count": 115,
   "id": "ef178bf6",
   "metadata": {},
   "outputs": [],
   "source": [
    "df1['text_string'] = df1['text_token'].apply(lambda x: ' '.join([item for item in x if len(item)>2]))"
   ]
  },
  {
   "cell_type": "code",
   "execution_count": 116,
   "id": "85d0f4ee",
   "metadata": {},
   "outputs": [
    {
     "data": {
      "text/html": [
       "<div>\n",
       "<style scoped>\n",
       "    .dataframe tbody tr th:only-of-type {\n",
       "        vertical-align: middle;\n",
       "    }\n",
       "\n",
       "    .dataframe tbody tr th {\n",
       "        vertical-align: top;\n",
       "    }\n",
       "\n",
       "    .dataframe thead th {\n",
       "        text-align: right;\n",
       "    }\n",
       "</style>\n",
       "<table border=\"1\" class=\"dataframe\">\n",
       "  <thead>\n",
       "    <tr style=\"text-align: right;\">\n",
       "      <th></th>\n",
       "      <th>description</th>\n",
       "      <th>text_token</th>\n",
       "      <th>text_string</th>\n",
       "    </tr>\n",
       "  </thead>\n",
       "  <tbody>\n",
       "    <tr>\n",
       "      <th>0</th>\n",
       "      <td>this is ripe and fruity, a wine that is smooth...</td>\n",
       "      <td>[ripe, fruity, wine, smooth, still, structured...</td>\n",
       "      <td>ripe fruity wine smooth still structured firm ...</td>\n",
       "    </tr>\n",
       "    <tr>\n",
       "      <th>1</th>\n",
       "      <td>tart and snappy, the flavors of lime flesh and...</td>\n",
       "      <td>[tart, snappy, flavors, lime, flesh, rind, dom...</td>\n",
       "      <td>tart snappy flavors lime flesh rind dominate g...</td>\n",
       "    </tr>\n",
       "    <tr>\n",
       "      <th>2</th>\n",
       "      <td>pineapple rind, lemon pith and orange blossom ...</td>\n",
       "      <td>[pineapple, rind, lemon, pith, orange, blossom...</td>\n",
       "      <td>pineapple rind lemon pith orange blossom start...</td>\n",
       "    </tr>\n",
       "    <tr>\n",
       "      <th>3</th>\n",
       "      <td>much like the regular bottling from 2012, this...</td>\n",
       "      <td>[much, like, regular, bottling, 2012, comes, a...</td>\n",
       "      <td>much like regular bottling 2012 comes across r...</td>\n",
       "    </tr>\n",
       "    <tr>\n",
       "      <th>4</th>\n",
       "      <td>blackberry and raspberry aromas show a typical...</td>\n",
       "      <td>[blackberry, raspberry, aromas, show, typical,...</td>\n",
       "      <td>blackberry raspberry aromas show typical navar...</td>\n",
       "    </tr>\n",
       "  </tbody>\n",
       "</table>\n",
       "</div>"
      ],
      "text/plain": [
       "                                         description  \\\n",
       "0  this is ripe and fruity, a wine that is smooth...   \n",
       "1  tart and snappy, the flavors of lime flesh and...   \n",
       "2  pineapple rind, lemon pith and orange blossom ...   \n",
       "3  much like the regular bottling from 2012, this...   \n",
       "4  blackberry and raspberry aromas show a typical...   \n",
       "\n",
       "                                          text_token  \\\n",
       "0  [ripe, fruity, wine, smooth, still, structured...   \n",
       "1  [tart, snappy, flavors, lime, flesh, rind, dom...   \n",
       "2  [pineapple, rind, lemon, pith, orange, blossom...   \n",
       "3  [much, like, regular, bottling, 2012, comes, a...   \n",
       "4  [blackberry, raspberry, aromas, show, typical,...   \n",
       "\n",
       "                                         text_string  \n",
       "0  ripe fruity wine smooth still structured firm ...  \n",
       "1  tart snappy flavors lime flesh rind dominate g...  \n",
       "2  pineapple rind lemon pith orange blossom start...  \n",
       "3  much like regular bottling 2012 comes across r...  \n",
       "4  blackberry raspberry aromas show typical navar...  "
      ]
     },
     "execution_count": 116,
     "metadata": {},
     "output_type": "execute_result"
    }
   ],
   "source": [
    "df1[['description', 'text_token', 'text_string']].head()"
   ]
  },
  {
   "cell_type": "code",
   "execution_count": 117,
   "id": "ba88c5e0",
   "metadata": {},
   "outputs": [],
   "source": [
    "all_words = ' '.join([word for word in df1['text_string']])"
   ]
  },
  {
   "cell_type": "code",
   "execution_count": 118,
   "id": "070299f4",
   "metadata": {},
   "outputs": [
    {
     "name": "stderr",
     "output_type": "stream",
     "text": [
      "[nltk_data] Downloading package punkt to\n",
      "[nltk_data]     /Users/shrutiagarwal/nltk_data...\n",
      "[nltk_data]   Package punkt is already up-to-date!\n"
     ]
    }
   ],
   "source": [
    "import nltk\n",
    "nltk.download('punkt')\n",
    "tokenized_words = nltk.tokenize.word_tokenize(all_words)"
   ]
  },
  {
   "cell_type": "code",
   "execution_count": 119,
   "id": "9aba3605",
   "metadata": {},
   "outputs": [
    {
     "data": {
      "text/plain": [
       "FreqDist({'wine': 71398, 'flavors': 59859, 'fruit': 45942, 'aromas': 37285, 'palate': 36613, 'finish': 33500, 'acidity': 31282, 'tannins': 27748, 'cherry': 27683, 'drink': 27611, ...})"
      ]
     },
     "execution_count": 119,
     "metadata": {},
     "output_type": "execute_result"
    }
   ],
   "source": [
    "from nltk.probability import FreqDist\n",
    "\n",
    "fdist = FreqDist(tokenized_words)\n",
    "fdist"
   ]
  },
  {
   "cell_type": "code",
   "execution_count": 121,
   "id": "dd42358f",
   "metadata": {},
   "outputs": [
    {
     "data": {
      "text/plain": [
       "FreqDist({'fruit': 45942, 'aromas': 37285, 'palate': 36613, 'acidity': 31282, 'tannins': 27748, 'cherry': 27683, 'black': 26847, 'ripe': 24364, 'red': 20124, 'notes': 18034, ...})"
      ]
     },
     "execution_count": 121,
     "metadata": {},
     "output_type": "execute_result"
    }
   ],
   "source": [
    "# fdist.pop(\"wine\")\n",
    "# fdist.pop(\"finish\")\n",
    "# fdist.pop(\"flavors\")\n",
    "fdist.pop(\"drink\")\n",
    "fdist"
   ]
  },
  {
   "cell_type": "code",
   "execution_count": 122,
   "id": "9f32cbdc",
   "metadata": {},
   "outputs": [],
   "source": [
    "df1['text_string_fdist'] = df1['text_token'].apply(lambda x: ' '.join([item for item in x if fdist[item] >= 1 ]))"
   ]
  },
  {
   "cell_type": "code",
   "execution_count": 123,
   "id": "2a36ffcb",
   "metadata": {},
   "outputs": [
    {
     "data": {
      "text/html": [
       "<div>\n",
       "<style scoped>\n",
       "    .dataframe tbody tr th:only-of-type {\n",
       "        vertical-align: middle;\n",
       "    }\n",
       "\n",
       "    .dataframe tbody tr th {\n",
       "        vertical-align: top;\n",
       "    }\n",
       "\n",
       "    .dataframe thead th {\n",
       "        text-align: right;\n",
       "    }\n",
       "</style>\n",
       "<table border=\"1\" class=\"dataframe\">\n",
       "  <thead>\n",
       "    <tr style=\"text-align: right;\">\n",
       "      <th></th>\n",
       "      <th>description</th>\n",
       "      <th>text_token</th>\n",
       "      <th>text_string</th>\n",
       "      <th>text_string_fdist</th>\n",
       "    </tr>\n",
       "  </thead>\n",
       "  <tbody>\n",
       "    <tr>\n",
       "      <th>0</th>\n",
       "      <td>this is ripe and fruity, a wine that is smooth...</td>\n",
       "      <td>[ripe, fruity, wine, smooth, still, structured...</td>\n",
       "      <td>ripe fruity wine smooth still structured firm ...</td>\n",
       "      <td>ripe fruity smooth still structured firm tanni...</td>\n",
       "    </tr>\n",
       "    <tr>\n",
       "      <th>1</th>\n",
       "      <td>tart and snappy, the flavors of lime flesh and...</td>\n",
       "      <td>[tart, snappy, flavors, lime, flesh, rind, dom...</td>\n",
       "      <td>tart snappy flavors lime flesh rind dominate g...</td>\n",
       "      <td>tart snappy lime flesh rind dominate green pin...</td>\n",
       "    </tr>\n",
       "    <tr>\n",
       "      <th>2</th>\n",
       "      <td>pineapple rind, lemon pith and orange blossom ...</td>\n",
       "      <td>[pineapple, rind, lemon, pith, orange, blossom...</td>\n",
       "      <td>pineapple rind lemon pith orange blossom start...</td>\n",
       "      <td>pineapple rind lemon pith orange blossom start...</td>\n",
       "    </tr>\n",
       "    <tr>\n",
       "      <th>3</th>\n",
       "      <td>much like the regular bottling from 2012, this...</td>\n",
       "      <td>[much, like, regular, bottling, 2012, comes, a...</td>\n",
       "      <td>much like regular bottling 2012 comes across r...</td>\n",
       "      <td>much like regular bottling 2012 comes across r...</td>\n",
       "    </tr>\n",
       "    <tr>\n",
       "      <th>4</th>\n",
       "      <td>blackberry and raspberry aromas show a typical...</td>\n",
       "      <td>[blackberry, raspberry, aromas, show, typical,...</td>\n",
       "      <td>blackberry raspberry aromas show typical navar...</td>\n",
       "      <td>blackberry raspberry aromas show typical navar...</td>\n",
       "    </tr>\n",
       "  </tbody>\n",
       "</table>\n",
       "</div>"
      ],
      "text/plain": [
       "                                         description  \\\n",
       "0  this is ripe and fruity, a wine that is smooth...   \n",
       "1  tart and snappy, the flavors of lime flesh and...   \n",
       "2  pineapple rind, lemon pith and orange blossom ...   \n",
       "3  much like the regular bottling from 2012, this...   \n",
       "4  blackberry and raspberry aromas show a typical...   \n",
       "\n",
       "                                          text_token  \\\n",
       "0  [ripe, fruity, wine, smooth, still, structured...   \n",
       "1  [tart, snappy, flavors, lime, flesh, rind, dom...   \n",
       "2  [pineapple, rind, lemon, pith, orange, blossom...   \n",
       "3  [much, like, regular, bottling, 2012, comes, a...   \n",
       "4  [blackberry, raspberry, aromas, show, typical,...   \n",
       "\n",
       "                                         text_string  \\\n",
       "0  ripe fruity wine smooth still structured firm ...   \n",
       "1  tart snappy flavors lime flesh rind dominate g...   \n",
       "2  pineapple rind lemon pith orange blossom start...   \n",
       "3  much like regular bottling 2012 comes across r...   \n",
       "4  blackberry raspberry aromas show typical navar...   \n",
       "\n",
       "                                   text_string_fdist  \n",
       "0  ripe fruity smooth still structured firm tanni...  \n",
       "1  tart snappy lime flesh rind dominate green pin...  \n",
       "2  pineapple rind lemon pith orange blossom start...  \n",
       "3  much like regular bottling 2012 comes across r...  \n",
       "4  blackberry raspberry aromas show typical navar...  "
      ]
     },
     "execution_count": 123,
     "metadata": {},
     "output_type": "execute_result"
    }
   ],
   "source": [
    "df1[['description', 'text_token', 'text_string', 'text_string_fdist']].head()"
   ]
  },
  {
   "cell_type": "code",
   "execution_count": 53,
   "id": "3d7163fe",
   "metadata": {},
   "outputs": [
    {
     "name": "stderr",
     "output_type": "stream",
     "text": [
      "[nltk_data] Downloading package wordnet to\n",
      "[nltk_data]     /Users/shrutiagarwal/nltk_data...\n",
      "[nltk_data]   Package wordnet is already up-to-date!\n",
      "[nltk_data] Downloading package omw-1.4 to\n",
      "[nltk_data]     /Users/shrutiagarwal/nltk_data...\n",
      "[nltk_data]   Package omw-1.4 is already up-to-date!\n"
     ]
    },
    {
     "data": {
      "text/plain": [
       "True"
      ]
     },
     "execution_count": 53,
     "metadata": {},
     "output_type": "execute_result"
    }
   ],
   "source": [
    "nltk.download('wordnet')\n",
    "nltk.download('omw-1.4')"
   ]
  },
  {
   "cell_type": "code",
   "execution_count": 124,
   "id": "f0659e11",
   "metadata": {},
   "outputs": [],
   "source": [
    "from nltk.stem import WordNetLemmatizer\n",
    "\n",
    "wordnet_lem = WordNetLemmatizer()\n",
    "\n",
    "df1['text_string_lem'] = df1['text_string_fdist'].apply(wordnet_lem.lemmatize)"
   ]
  },
  {
   "cell_type": "code",
   "execution_count": 125,
   "id": "02a781b2",
   "metadata": {},
   "outputs": [],
   "source": [
    "# check if the columns are equal\n",
    "df1['is_equal']= (df1['text_string_fdist']==df1['text_string_lem'])"
   ]
  },
  {
   "cell_type": "code",
   "execution_count": 126,
   "id": "967a8b0d",
   "metadata": {},
   "outputs": [
    {
     "data": {
      "text/plain": [
       "True    120139\n",
       "Name: is_equal, dtype: int64"
      ]
     },
     "execution_count": 126,
     "metadata": {},
     "output_type": "execute_result"
    }
   ],
   "source": [
    "# show level count\n",
    "df1.is_equal.value_counts()"
   ]
  },
  {
   "cell_type": "code",
   "execution_count": 127,
   "id": "f08c1949",
   "metadata": {
    "scrolled": true
   },
   "outputs": [
    {
     "data": {
      "text/html": [
       "<div>\n",
       "<style scoped>\n",
       "    .dataframe tbody tr th:only-of-type {\n",
       "        vertical-align: middle;\n",
       "    }\n",
       "\n",
       "    .dataframe tbody tr th {\n",
       "        vertical-align: top;\n",
       "    }\n",
       "\n",
       "    .dataframe thead th {\n",
       "        text-align: right;\n",
       "    }\n",
       "</style>\n",
       "<table border=\"1\" class=\"dataframe\">\n",
       "  <thead>\n",
       "    <tr style=\"text-align: right;\">\n",
       "      <th></th>\n",
       "      <th>country</th>\n",
       "      <th>description</th>\n",
       "      <th>points</th>\n",
       "      <th>price</th>\n",
       "      <th>province</th>\n",
       "      <th>text_token</th>\n",
       "      <th>text_string</th>\n",
       "      <th>text_string_fdist</th>\n",
       "      <th>text_string_lem</th>\n",
       "      <th>is_equal</th>\n",
       "    </tr>\n",
       "  </thead>\n",
       "  <tbody>\n",
       "    <tr>\n",
       "      <th>0</th>\n",
       "      <td>Portugal</td>\n",
       "      <td>this is ripe and fruity, a wine that is smooth...</td>\n",
       "      <td>87</td>\n",
       "      <td>15.0</td>\n",
       "      <td>Douro</td>\n",
       "      <td>[ripe, fruity, wine, smooth, still, structured...</td>\n",
       "      <td>ripe fruity wine smooth still structured firm ...</td>\n",
       "      <td>ripe fruity smooth still structured firm tanni...</td>\n",
       "      <td>ripe fruity smooth still structured firm tanni...</td>\n",
       "      <td>True</td>\n",
       "    </tr>\n",
       "    <tr>\n",
       "      <th>1</th>\n",
       "      <td>US</td>\n",
       "      <td>tart and snappy, the flavors of lime flesh and...</td>\n",
       "      <td>87</td>\n",
       "      <td>14.0</td>\n",
       "      <td>Oregon</td>\n",
       "      <td>[tart, snappy, flavors, lime, flesh, rind, dom...</td>\n",
       "      <td>tart snappy flavors lime flesh rind dominate g...</td>\n",
       "      <td>tart snappy lime flesh rind dominate green pin...</td>\n",
       "      <td>tart snappy lime flesh rind dominate green pin...</td>\n",
       "      <td>True</td>\n",
       "    </tr>\n",
       "    <tr>\n",
       "      <th>2</th>\n",
       "      <td>US</td>\n",
       "      <td>pineapple rind, lemon pith and orange blossom ...</td>\n",
       "      <td>87</td>\n",
       "      <td>13.0</td>\n",
       "      <td>Michigan</td>\n",
       "      <td>[pineapple, rind, lemon, pith, orange, blossom...</td>\n",
       "      <td>pineapple rind lemon pith orange blossom start...</td>\n",
       "      <td>pineapple rind lemon pith orange blossom start...</td>\n",
       "      <td>pineapple rind lemon pith orange blossom start...</td>\n",
       "      <td>True</td>\n",
       "    </tr>\n",
       "    <tr>\n",
       "      <th>3</th>\n",
       "      <td>US</td>\n",
       "      <td>much like the regular bottling from 2012, this...</td>\n",
       "      <td>87</td>\n",
       "      <td>65.0</td>\n",
       "      <td>Oregon</td>\n",
       "      <td>[much, like, regular, bottling, 2012, comes, a...</td>\n",
       "      <td>much like regular bottling 2012 comes across r...</td>\n",
       "      <td>much like regular bottling 2012 comes across r...</td>\n",
       "      <td>much like regular bottling 2012 comes across r...</td>\n",
       "      <td>True</td>\n",
       "    </tr>\n",
       "    <tr>\n",
       "      <th>4</th>\n",
       "      <td>Spain</td>\n",
       "      <td>blackberry and raspberry aromas show a typical...</td>\n",
       "      <td>87</td>\n",
       "      <td>15.0</td>\n",
       "      <td>Northern Spain</td>\n",
       "      <td>[blackberry, raspberry, aromas, show, typical,...</td>\n",
       "      <td>blackberry raspberry aromas show typical navar...</td>\n",
       "      <td>blackberry raspberry aromas show typical navar...</td>\n",
       "      <td>blackberry raspberry aromas show typical navar...</td>\n",
       "      <td>True</td>\n",
       "    </tr>\n",
       "    <tr>\n",
       "      <th>...</th>\n",
       "      <td>...</td>\n",
       "      <td>...</td>\n",
       "      <td>...</td>\n",
       "      <td>...</td>\n",
       "      <td>...</td>\n",
       "      <td>...</td>\n",
       "      <td>...</td>\n",
       "      <td>...</td>\n",
       "      <td>...</td>\n",
       "      <td>...</td>\n",
       "    </tr>\n",
       "    <tr>\n",
       "      <th>120134</th>\n",
       "      <td>Germany</td>\n",
       "      <td>notes of honeysuckle and cantaloupe sweeten th...</td>\n",
       "      <td>90</td>\n",
       "      <td>28.0</td>\n",
       "      <td>Mosel</td>\n",
       "      <td>[notes, honeysuckle, cantaloupe, sweeten, deli...</td>\n",
       "      <td>notes honeysuckle cantaloupe sweeten delicious...</td>\n",
       "      <td>notes honeysuckle cantaloupe sweeten delicious...</td>\n",
       "      <td>notes honeysuckle cantaloupe sweeten delicious...</td>\n",
       "      <td>True</td>\n",
       "    </tr>\n",
       "    <tr>\n",
       "      <th>120135</th>\n",
       "      <td>US</td>\n",
       "      <td>citation is given as much as a decade of bottl...</td>\n",
       "      <td>90</td>\n",
       "      <td>75.0</td>\n",
       "      <td>Oregon</td>\n",
       "      <td>[citation, given, much, decade, bottle, age, p...</td>\n",
       "      <td>citation given much decade bottle age prior re...</td>\n",
       "      <td>citation given much decade bottle age prior re...</td>\n",
       "      <td>citation given much decade bottle age prior re...</td>\n",
       "      <td>True</td>\n",
       "    </tr>\n",
       "    <tr>\n",
       "      <th>120136</th>\n",
       "      <td>France</td>\n",
       "      <td>well-drained gravel soil gives this wine its c...</td>\n",
       "      <td>90</td>\n",
       "      <td>30.0</td>\n",
       "      <td>Alsace</td>\n",
       "      <td>[well, drained, gravel, soil, gives, wine, cri...</td>\n",
       "      <td>well drained gravel soil gives wine crisp dry ...</td>\n",
       "      <td>well drained gravel soil gives crisp dry chara...</td>\n",
       "      <td>well drained gravel soil gives crisp dry chara...</td>\n",
       "      <td>True</td>\n",
       "    </tr>\n",
       "    <tr>\n",
       "      <th>120137</th>\n",
       "      <td>France</td>\n",
       "      <td>a dry style of pinot gris, this is crisp with ...</td>\n",
       "      <td>90</td>\n",
       "      <td>32.0</td>\n",
       "      <td>Alsace</td>\n",
       "      <td>[dry, style, pinot, gris, crisp, acidity, also...</td>\n",
       "      <td>dry style pinot gris crisp acidity also weight...</td>\n",
       "      <td>dry style pinot gris crisp acidity also weight...</td>\n",
       "      <td>dry style pinot gris crisp acidity also weight...</td>\n",
       "      <td>True</td>\n",
       "    </tr>\n",
       "    <tr>\n",
       "      <th>120138</th>\n",
       "      <td>France</td>\n",
       "      <td>big, rich and off-dry, this is powered by inte...</td>\n",
       "      <td>90</td>\n",
       "      <td>21.0</td>\n",
       "      <td>Alsace</td>\n",
       "      <td>[big, rich, dry, powered, intense, spiciness, ...</td>\n",
       "      <td>big rich dry powered intense spiciness rounded...</td>\n",
       "      <td>big rich dry powered intense spiciness rounded...</td>\n",
       "      <td>big rich dry powered intense spiciness rounded...</td>\n",
       "      <td>True</td>\n",
       "    </tr>\n",
       "  </tbody>\n",
       "</table>\n",
       "<p>120139 rows × 10 columns</p>\n",
       "</div>"
      ],
      "text/plain": [
       "         country                                        description  points  \\\n",
       "0       Portugal  this is ripe and fruity, a wine that is smooth...      87   \n",
       "1             US  tart and snappy, the flavors of lime flesh and...      87   \n",
       "2             US  pineapple rind, lemon pith and orange blossom ...      87   \n",
       "3             US  much like the regular bottling from 2012, this...      87   \n",
       "4          Spain  blackberry and raspberry aromas show a typical...      87   \n",
       "...          ...                                                ...     ...   \n",
       "120134   Germany  notes of honeysuckle and cantaloupe sweeten th...      90   \n",
       "120135        US  citation is given as much as a decade of bottl...      90   \n",
       "120136    France  well-drained gravel soil gives this wine its c...      90   \n",
       "120137    France  a dry style of pinot gris, this is crisp with ...      90   \n",
       "120138    France  big, rich and off-dry, this is powered by inte...      90   \n",
       "\n",
       "        price        province  \\\n",
       "0        15.0           Douro   \n",
       "1        14.0          Oregon   \n",
       "2        13.0        Michigan   \n",
       "3        65.0          Oregon   \n",
       "4        15.0  Northern Spain   \n",
       "...       ...             ...   \n",
       "120134   28.0           Mosel   \n",
       "120135   75.0          Oregon   \n",
       "120136   30.0          Alsace   \n",
       "120137   32.0          Alsace   \n",
       "120138   21.0          Alsace   \n",
       "\n",
       "                                               text_token  \\\n",
       "0       [ripe, fruity, wine, smooth, still, structured...   \n",
       "1       [tart, snappy, flavors, lime, flesh, rind, dom...   \n",
       "2       [pineapple, rind, lemon, pith, orange, blossom...   \n",
       "3       [much, like, regular, bottling, 2012, comes, a...   \n",
       "4       [blackberry, raspberry, aromas, show, typical,...   \n",
       "...                                                   ...   \n",
       "120134  [notes, honeysuckle, cantaloupe, sweeten, deli...   \n",
       "120135  [citation, given, much, decade, bottle, age, p...   \n",
       "120136  [well, drained, gravel, soil, gives, wine, cri...   \n",
       "120137  [dry, style, pinot, gris, crisp, acidity, also...   \n",
       "120138  [big, rich, dry, powered, intense, spiciness, ...   \n",
       "\n",
       "                                              text_string  \\\n",
       "0       ripe fruity wine smooth still structured firm ...   \n",
       "1       tart snappy flavors lime flesh rind dominate g...   \n",
       "2       pineapple rind lemon pith orange blossom start...   \n",
       "3       much like regular bottling 2012 comes across r...   \n",
       "4       blackberry raspberry aromas show typical navar...   \n",
       "...                                                   ...   \n",
       "120134  notes honeysuckle cantaloupe sweeten delicious...   \n",
       "120135  citation given much decade bottle age prior re...   \n",
       "120136  well drained gravel soil gives wine crisp dry ...   \n",
       "120137  dry style pinot gris crisp acidity also weight...   \n",
       "120138  big rich dry powered intense spiciness rounded...   \n",
       "\n",
       "                                        text_string_fdist  \\\n",
       "0       ripe fruity smooth still structured firm tanni...   \n",
       "1       tart snappy lime flesh rind dominate green pin...   \n",
       "2       pineapple rind lemon pith orange blossom start...   \n",
       "3       much like regular bottling 2012 comes across r...   \n",
       "4       blackberry raspberry aromas show typical navar...   \n",
       "...                                                   ...   \n",
       "120134  notes honeysuckle cantaloupe sweeten delicious...   \n",
       "120135  citation given much decade bottle age prior re...   \n",
       "120136  well drained gravel soil gives crisp dry chara...   \n",
       "120137  dry style pinot gris crisp acidity also weight...   \n",
       "120138  big rich dry powered intense spiciness rounded...   \n",
       "\n",
       "                                          text_string_lem  is_equal  \n",
       "0       ripe fruity smooth still structured firm tanni...      True  \n",
       "1       tart snappy lime flesh rind dominate green pin...      True  \n",
       "2       pineapple rind lemon pith orange blossom start...      True  \n",
       "3       much like regular bottling 2012 comes across r...      True  \n",
       "4       blackberry raspberry aromas show typical navar...      True  \n",
       "...                                                   ...       ...  \n",
       "120134  notes honeysuckle cantaloupe sweeten delicious...      True  \n",
       "120135  citation given much decade bottle age prior re...      True  \n",
       "120136  well drained gravel soil gives crisp dry chara...      True  \n",
       "120137  dry style pinot gris crisp acidity also weight...      True  \n",
       "120138  big rich dry powered intense spiciness rounded...      True  \n",
       "\n",
       "[120139 rows x 10 columns]"
      ]
     },
     "execution_count": 127,
     "metadata": {},
     "output_type": "execute_result"
    }
   ],
   "source": [
    "df1"
   ]
  },
  {
   "cell_type": "code",
   "execution_count": 58,
   "id": "dde6e78f",
   "metadata": {},
   "outputs": [
    {
     "name": "stdout",
     "output_type": "stream",
     "text": [
      "Retrieving notices: ...working... done\n",
      "Collecting package metadata (current_repodata.json): done\n",
      "Solving environment: done\n",
      "\n",
      "## Package Plan ##\n",
      "\n",
      "  environment location: /Users/shrutiagarwal/opt/anaconda3\n",
      "\n",
      "  added / updated specs:\n",
      "    - wordcloud\n",
      "\n",
      "\n",
      "The following packages will be downloaded:\n",
      "\n",
      "    package                    |            build\n",
      "    ---------------------------|-----------------\n",
      "    openssl-1.1.1s             |       hfd90126_1         1.6 MB  conda-forge\n",
      "    ------------------------------------------------------------\n",
      "                                           Total:         1.6 MB\n",
      "\n",
      "The following packages will be UPDATED:\n",
      "\n",
      "  ca-certificates    anaconda::ca-certificates-2022.4.26-h~ --> conda-forge::ca-certificates-2022.9.24-h033912b_0 \n",
      "  certifi            anaconda/osx-64::certifi-2022.6.15-py~ --> conda-forge/noarch::certifi-2022.9.24-pyhd8ed1ab_0 \n",
      "  openssl               anaconda::openssl-1.1.1o-hca72f7f_0 --> conda-forge::openssl-1.1.1s-hfd90126_1 \n",
      "\n",
      "\n",
      "\n",
      "Downloading and Extracting Packages\n",
      "                                                                                \n",
      "Preparing transaction: done\n",
      "Verifying transaction: done\n",
      "Executing transaction: done\n",
      "\n",
      "Note: you may need to restart the kernel to use updated packages.\n"
     ]
    }
   ],
   "source": [
    "conda install -c conda-forge wordcloud"
   ]
  },
  {
   "cell_type": "code",
   "execution_count": 174,
   "id": "461b3565",
   "metadata": {},
   "outputs": [],
   "source": [
    "all_words_lem = ' '.join([word for word in df1['text_string_lem']])"
   ]
  },
  {
   "cell_type": "code",
   "execution_count": 175,
   "id": "cb485953",
   "metadata": {},
   "outputs": [
    {
     "data": {
      "image/png": "[encoded data removed]",
      "text/plain": [
       "<Figure size 720x504 with 1 Axes>"
      ]
     },
     "metadata": {
      "needs_background": "light"
     },
     "output_type": "display_data"
    }
   ],
   "source": [
    "%matplotlib inline\n",
    "import matplotlib.pyplot as plt\n",
    "from wordcloud import WordCloud\n",
    "\n",
    "wordcloud = WordCloud(width=600, \n",
    "                     height=400, \n",
    "                     random_state=2, \n",
    "                     max_font_size=100).generate(all_words_lem)\n",
    "\n",
    "plt.figure(figsize=(10, 7))\n",
    "plt.imshow(wordcloud, interpolation='bilinear')\n",
    "plt.axis('off');"
   ]
  },
  {
   "cell_type": "code",
   "execution_count": 100,
   "id": "0e16a8ac",
   "metadata": {},
   "outputs": [
    {
     "name": "stderr",
     "output_type": "stream",
     "text": [
      "[nltk_data] Downloading package punkt to\n",
      "[nltk_data]     /Users/shrutiagarwal/nltk_data...\n",
      "[nltk_data]   Package punkt is already up-to-date!\n"
     ]
    },
    {
     "data": {
      "text/plain": [
       "True"
      ]
     },
     "execution_count": 100,
     "metadata": {},
     "output_type": "execute_result"
    }
   ],
   "source": [
    "nltk.download('punkt')"
   ]
  },
  {
   "cell_type": "code",
   "execution_count": 176,
   "id": "36beac69",
   "metadata": {},
   "outputs": [],
   "source": [
    "from nltk.tokenize import word_tokenize\n",
    "from nltk.probability import FreqDist\n",
    "\n",
    "words = nltk.word_tokenize(all_words_lem)\n",
    "fd = FreqDist(words)"
   ]
  },
  {
   "cell_type": "code",
   "execution_count": 177,
   "id": "3597a6d3",
   "metadata": {},
   "outputs": [
    {
     "data": {
      "text/plain": [
       "[('fruit', 45942), ('aromas', 37285), ('palate', 36613)]"
      ]
     },
     "execution_count": 177,
     "metadata": {},
     "output_type": "execute_result"
    }
   ],
   "source": [
    "fd.most_common(3)"
   ]
  },
  {
   "cell_type": "code",
   "execution_count": 178,
   "id": "ce4eb790",
   "metadata": {},
   "outputs": [
    {
     "name": "stdout",
     "output_type": "stream",
     "text": [
      " fruit aromas palate \n",
      " 45942  37285  36613 \n"
     ]
    }
   ],
   "source": [
    "fd.tabulate(3)"
   ]
  },
  {
   "cell_type": "code",
   "execution_count": 179,
   "id": "50470281",
   "metadata": {},
   "outputs": [],
   "source": [
    "# Obtain top 10 words\n",
    "top_10 = fd.most_common(10)\n",
    "\n",
    "# Create pandas series to make plotting easier\n",
    "fdist = pd.Series(dict(top_10))"
   ]
  },
  {
   "cell_type": "code",
   "execution_count": 180,
   "id": "7009d04e",
   "metadata": {},
   "outputs": [
    {
     "data": {
      "image/png": "[encoded data removed]",
      "text/plain": [
       "<Figure size 432x288 with 1 Axes>"
      ]
     },
     "metadata": {},
     "output_type": "display_data"
    }
   ],
   "source": [
    "import seaborn as sns\n",
    "sns.set_theme(style=\"ticks\")\n",
    "\n",
    "sns.barplot(y=fdist.index, x=fdist.values, color='blue');"
   ]
  },
  {
   "cell_type": "code",
   "execution_count": 136,
   "id": "5a4ddf93",
   "metadata": {},
   "outputs": [
    {
     "name": "stderr",
     "output_type": "stream",
     "text": [
      "[nltk_data] Downloading package vader_lexicon to\n",
      "[nltk_data]     /Users/shrutiagarwal/nltk_data...\n",
      "[nltk_data]   Package vader_lexicon is already up-to-date!\n"
     ]
    },
    {
     "data": {
      "text/plain": [
       "True"
      ]
     },
     "execution_count": 136,
     "metadata": {},
     "output_type": "execute_result"
    }
   ],
   "source": [
    "nltk.download('vader_lexicon')"
   ]
  },
  {
   "cell_type": "code",
   "execution_count": 68,
   "id": "2403984d",
   "metadata": {},
   "outputs": [],
   "source": [
    "from nltk.sentiment import SentimentIntensityAnalyzer\n",
    "\n",
    "analyzer = SentimentIntensityAnalyzer()"
   ]
  },
  {
   "cell_type": "code",
   "execution_count": 181,
   "id": "ebb27e5c",
   "metadata": {},
   "outputs": [
    {
     "data": {
      "text/html": [
       "<div>\n",
       "<style scoped>\n",
       "    .dataframe tbody tr th:only-of-type {\n",
       "        vertical-align: middle;\n",
       "    }\n",
       "\n",
       "    .dataframe tbody tr th {\n",
       "        vertical-align: top;\n",
       "    }\n",
       "\n",
       "    .dataframe thead th {\n",
       "        text-align: right;\n",
       "    }\n",
       "</style>\n",
       "<table border=\"1\" class=\"dataframe\">\n",
       "  <thead>\n",
       "    <tr style=\"text-align: right;\">\n",
       "      <th></th>\n",
       "      <th>country</th>\n",
       "      <th>description</th>\n",
       "      <th>points</th>\n",
       "      <th>price</th>\n",
       "      <th>province</th>\n",
       "      <th>text_token</th>\n",
       "      <th>text_string</th>\n",
       "      <th>text_string_fdist</th>\n",
       "      <th>text_string_lem</th>\n",
       "      <th>is_equal</th>\n",
       "      <th>polarity</th>\n",
       "    </tr>\n",
       "  </thead>\n",
       "  <tbody>\n",
       "    <tr>\n",
       "      <th>120136</th>\n",
       "      <td>France</td>\n",
       "      <td>well-drained gravel soil gives this wine its c...</td>\n",
       "      <td>90</td>\n",
       "      <td>30.0</td>\n",
       "      <td>Alsace</td>\n",
       "      <td>[well, drained, gravel, soil, gives, wine, cri...</td>\n",
       "      <td>well drained gravel soil gives wine crisp dry ...</td>\n",
       "      <td>well drained gravel soil gives crisp dry chara...</td>\n",
       "      <td>well drained gravel soil gives crisp dry chara...</td>\n",
       "      <td>True</td>\n",
       "      <td>{'neg': 0.211, 'neu': 0.598, 'pos': 0.191, 'co...</td>\n",
       "    </tr>\n",
       "    <tr>\n",
       "      <th>120137</th>\n",
       "      <td>France</td>\n",
       "      <td>a dry style of pinot gris, this is crisp with ...</td>\n",
       "      <td>90</td>\n",
       "      <td>32.0</td>\n",
       "      <td>Alsace</td>\n",
       "      <td>[dry, style, pinot, gris, crisp, acidity, also...</td>\n",
       "      <td>dry style pinot gris crisp acidity also weight...</td>\n",
       "      <td>dry style pinot gris crisp acidity also weight...</td>\n",
       "      <td>dry style pinot gris crisp acidity also weight...</td>\n",
       "      <td>True</td>\n",
       "      <td>{'neg': 0.0, 'neu': 0.804, 'pos': 0.196, 'comp...</td>\n",
       "    </tr>\n",
       "    <tr>\n",
       "      <th>120138</th>\n",
       "      <td>France</td>\n",
       "      <td>big, rich and off-dry, this is powered by inte...</td>\n",
       "      <td>90</td>\n",
       "      <td>21.0</td>\n",
       "      <td>Alsace</td>\n",
       "      <td>[big, rich, dry, powered, intense, spiciness, ...</td>\n",
       "      <td>big rich dry powered intense spiciness rounded...</td>\n",
       "      <td>big rich dry powered intense spiciness rounded...</td>\n",
       "      <td>big rich dry powered intense spiciness rounded...</td>\n",
       "      <td>True</td>\n",
       "      <td>{'neg': 0.072, 'neu': 0.577, 'pos': 0.351, 'co...</td>\n",
       "    </tr>\n",
       "  </tbody>\n",
       "</table>\n",
       "</div>"
      ],
      "text/plain": [
       "       country                                        description  points  \\\n",
       "120136  France  well-drained gravel soil gives this wine its c...      90   \n",
       "120137  France  a dry style of pinot gris, this is crisp with ...      90   \n",
       "120138  France  big, rich and off-dry, this is powered by inte...      90   \n",
       "\n",
       "        price province                                         text_token  \\\n",
       "120136   30.0   Alsace  [well, drained, gravel, soil, gives, wine, cri...   \n",
       "120137   32.0   Alsace  [dry, style, pinot, gris, crisp, acidity, also...   \n",
       "120138   21.0   Alsace  [big, rich, dry, powered, intense, spiciness, ...   \n",
       "\n",
       "                                              text_string  \\\n",
       "120136  well drained gravel soil gives wine crisp dry ...   \n",
       "120137  dry style pinot gris crisp acidity also weight...   \n",
       "120138  big rich dry powered intense spiciness rounded...   \n",
       "\n",
       "                                        text_string_fdist  \\\n",
       "120136  well drained gravel soil gives crisp dry chara...   \n",
       "120137  dry style pinot gris crisp acidity also weight...   \n",
       "120138  big rich dry powered intense spiciness rounded...   \n",
       "\n",
       "                                          text_string_lem  is_equal  \\\n",
       "120136  well drained gravel soil gives crisp dry chara...      True   \n",
       "120137  dry style pinot gris crisp acidity also weight...      True   \n",
       "120138  big rich dry powered intense spiciness rounded...      True   \n",
       "\n",
       "                                                 polarity  \n",
       "120136  {'neg': 0.211, 'neu': 0.598, 'pos': 0.191, 'co...  \n",
       "120137  {'neg': 0.0, 'neu': 0.804, 'pos': 0.196, 'comp...  \n",
       "120138  {'neg': 0.072, 'neu': 0.577, 'pos': 0.351, 'co...  "
      ]
     },
     "execution_count": 181,
     "metadata": {},
     "output_type": "execute_result"
    }
   ],
   "source": [
    "df1['polarity'] = df1['text_string_lem'].apply(lambda x: analyzer.polarity_scores(x))\n",
    "df1.tail(3)"
   ]
  },
  {
   "cell_type": "code",
   "execution_count": 182,
   "id": "9ea50b12",
   "metadata": {},
   "outputs": [
    {
     "data": {
      "text/html": [
       "<div>\n",
       "<style scoped>\n",
       "    .dataframe tbody tr th:only-of-type {\n",
       "        vertical-align: middle;\n",
       "    }\n",
       "\n",
       "    .dataframe tbody tr th {\n",
       "        vertical-align: top;\n",
       "    }\n",
       "\n",
       "    .dataframe thead th {\n",
       "        text-align: right;\n",
       "    }\n",
       "</style>\n",
       "<table border=\"1\" class=\"dataframe\">\n",
       "  <thead>\n",
       "    <tr style=\"text-align: right;\">\n",
       "      <th></th>\n",
       "      <th>country</th>\n",
       "      <th>description</th>\n",
       "      <th>points</th>\n",
       "      <th>price</th>\n",
       "      <th>province</th>\n",
       "      <th>text_token</th>\n",
       "      <th>text_string</th>\n",
       "      <th>text_string_fdist</th>\n",
       "      <th>text_string_lem</th>\n",
       "      <th>is_equal</th>\n",
       "      <th>neg</th>\n",
       "      <th>neu</th>\n",
       "      <th>pos</th>\n",
       "      <th>compound</th>\n",
       "    </tr>\n",
       "  </thead>\n",
       "  <tbody>\n",
       "    <tr>\n",
       "      <th>0</th>\n",
       "      <td>Portugal</td>\n",
       "      <td>this is ripe and fruity, a wine that is smooth...</td>\n",
       "      <td>87</td>\n",
       "      <td>15.0</td>\n",
       "      <td>Douro</td>\n",
       "      <td>[ripe, fruity, wine, smooth, still, structured...</td>\n",
       "      <td>ripe fruity wine smooth still structured firm ...</td>\n",
       "      <td>ripe fruity smooth still structured firm tanni...</td>\n",
       "      <td>ripe fruity smooth still structured firm tanni...</td>\n",
       "      <td>True</td>\n",
       "      <td>0.000</td>\n",
       "      <td>0.773</td>\n",
       "      <td>0.227</td>\n",
       "      <td>0.6486</td>\n",
       "    </tr>\n",
       "    <tr>\n",
       "      <th>1</th>\n",
       "      <td>US</td>\n",
       "      <td>tart and snappy, the flavors of lime flesh and...</td>\n",
       "      <td>87</td>\n",
       "      <td>14.0</td>\n",
       "      <td>Oregon</td>\n",
       "      <td>[tart, snappy, flavors, lime, flesh, rind, dom...</td>\n",
       "      <td>tart snappy flavors lime flesh rind dominate g...</td>\n",
       "      <td>tart snappy lime flesh rind dominate green pin...</td>\n",
       "      <td>tart snappy lime flesh rind dominate green pin...</td>\n",
       "      <td>True</td>\n",
       "      <td>0.097</td>\n",
       "      <td>0.903</td>\n",
       "      <td>0.000</td>\n",
       "      <td>-0.1280</td>\n",
       "    </tr>\n",
       "    <tr>\n",
       "      <th>2</th>\n",
       "      <td>US</td>\n",
       "      <td>pineapple rind, lemon pith and orange blossom ...</td>\n",
       "      <td>87</td>\n",
       "      <td>13.0</td>\n",
       "      <td>Michigan</td>\n",
       "      <td>[pineapple, rind, lemon, pith, orange, blossom...</td>\n",
       "      <td>pineapple rind lemon pith orange blossom start...</td>\n",
       "      <td>pineapple rind lemon pith orange blossom start...</td>\n",
       "      <td>pineapple rind lemon pith orange blossom start...</td>\n",
       "      <td>True</td>\n",
       "      <td>0.000</td>\n",
       "      <td>0.893</td>\n",
       "      <td>0.107</td>\n",
       "      <td>0.3400</td>\n",
       "    </tr>\n",
       "  </tbody>\n",
       "</table>\n",
       "</div>"
      ],
      "text/plain": [
       "    country                                        description  points  price  \\\n",
       "0  Portugal  this is ripe and fruity, a wine that is smooth...      87   15.0   \n",
       "1        US  tart and snappy, the flavors of lime flesh and...      87   14.0   \n",
       "2        US  pineapple rind, lemon pith and orange blossom ...      87   13.0   \n",
       "\n",
       "   province                                         text_token  \\\n",
       "0     Douro  [ripe, fruity, wine, smooth, still, structured...   \n",
       "1    Oregon  [tart, snappy, flavors, lime, flesh, rind, dom...   \n",
       "2  Michigan  [pineapple, rind, lemon, pith, orange, blossom...   \n",
       "\n",
       "                                         text_string  \\\n",
       "0  ripe fruity wine smooth still structured firm ...   \n",
       "1  tart snappy flavors lime flesh rind dominate g...   \n",
       "2  pineapple rind lemon pith orange blossom start...   \n",
       "\n",
       "                                   text_string_fdist  \\\n",
       "0  ripe fruity smooth still structured firm tanni...   \n",
       "1  tart snappy lime flesh rind dominate green pin...   \n",
       "2  pineapple rind lemon pith orange blossom start...   \n",
       "\n",
       "                                     text_string_lem  is_equal    neg    neu  \\\n",
       "0  ripe fruity smooth still structured firm tanni...      True  0.000  0.773   \n",
       "1  tart snappy lime flesh rind dominate green pin...      True  0.097  0.903   \n",
       "2  pineapple rind lemon pith orange blossom start...      True  0.000  0.893   \n",
       "\n",
       "     pos  compound  \n",
       "0  0.227    0.6486  \n",
       "1  0.000   -0.1280  \n",
       "2  0.107    0.3400  "
      ]
     },
     "execution_count": 182,
     "metadata": {},
     "output_type": "execute_result"
    }
   ],
   "source": [
    "# Change data structure\n",
    "df1 = pd.concat(\n",
    "    [df1.drop(['polarity'], axis=1), \n",
    "     df1['polarity'].apply(pd.Series)], axis=1)\n",
    "df1.head(3)"
   ]
  },
  {
   "cell_type": "code",
   "execution_count": 183,
   "id": "d7873067",
   "metadata": {},
   "outputs": [
    {
     "data": {
      "text/html": [
       "<div>\n",
       "<style scoped>\n",
       "    .dataframe tbody tr th:only-of-type {\n",
       "        vertical-align: middle;\n",
       "    }\n",
       "\n",
       "    .dataframe tbody tr th {\n",
       "        vertical-align: top;\n",
       "    }\n",
       "\n",
       "    .dataframe thead th {\n",
       "        text-align: right;\n",
       "    }\n",
       "</style>\n",
       "<table border=\"1\" class=\"dataframe\">\n",
       "  <thead>\n",
       "    <tr style=\"text-align: right;\">\n",
       "      <th></th>\n",
       "      <th>country</th>\n",
       "      <th>description</th>\n",
       "      <th>points</th>\n",
       "      <th>price</th>\n",
       "      <th>province</th>\n",
       "      <th>text_token</th>\n",
       "      <th>text_string</th>\n",
       "      <th>text_string_fdist</th>\n",
       "      <th>text_string_lem</th>\n",
       "      <th>is_equal</th>\n",
       "      <th>neg</th>\n",
       "      <th>neu</th>\n",
       "      <th>pos</th>\n",
       "      <th>compound</th>\n",
       "      <th>sentiment</th>\n",
       "    </tr>\n",
       "  </thead>\n",
       "  <tbody>\n",
       "    <tr>\n",
       "      <th>0</th>\n",
       "      <td>Portugal</td>\n",
       "      <td>this is ripe and fruity, a wine that is smooth...</td>\n",
       "      <td>87</td>\n",
       "      <td>15.0</td>\n",
       "      <td>Douro</td>\n",
       "      <td>[ripe, fruity, wine, smooth, still, structured...</td>\n",
       "      <td>ripe fruity wine smooth still structured firm ...</td>\n",
       "      <td>ripe fruity smooth still structured firm tanni...</td>\n",
       "      <td>ripe fruity smooth still structured firm tanni...</td>\n",
       "      <td>True</td>\n",
       "      <td>0.000</td>\n",
       "      <td>0.773</td>\n",
       "      <td>0.227</td>\n",
       "      <td>0.6486</td>\n",
       "      <td>positive</td>\n",
       "    </tr>\n",
       "    <tr>\n",
       "      <th>1</th>\n",
       "      <td>US</td>\n",
       "      <td>tart and snappy, the flavors of lime flesh and...</td>\n",
       "      <td>87</td>\n",
       "      <td>14.0</td>\n",
       "      <td>Oregon</td>\n",
       "      <td>[tart, snappy, flavors, lime, flesh, rind, dom...</td>\n",
       "      <td>tart snappy flavors lime flesh rind dominate g...</td>\n",
       "      <td>tart snappy lime flesh rind dominate green pin...</td>\n",
       "      <td>tart snappy lime flesh rind dominate green pin...</td>\n",
       "      <td>True</td>\n",
       "      <td>0.097</td>\n",
       "      <td>0.903</td>\n",
       "      <td>0.000</td>\n",
       "      <td>-0.1280</td>\n",
       "      <td>negative</td>\n",
       "    </tr>\n",
       "    <tr>\n",
       "      <th>2</th>\n",
       "      <td>US</td>\n",
       "      <td>pineapple rind, lemon pith and orange blossom ...</td>\n",
       "      <td>87</td>\n",
       "      <td>13.0</td>\n",
       "      <td>Michigan</td>\n",
       "      <td>[pineapple, rind, lemon, pith, orange, blossom...</td>\n",
       "      <td>pineapple rind lemon pith orange blossom start...</td>\n",
       "      <td>pineapple rind lemon pith orange blossom start...</td>\n",
       "      <td>pineapple rind lemon pith orange blossom start...</td>\n",
       "      <td>True</td>\n",
       "      <td>0.000</td>\n",
       "      <td>0.893</td>\n",
       "      <td>0.107</td>\n",
       "      <td>0.3400</td>\n",
       "      <td>positive</td>\n",
       "    </tr>\n",
       "    <tr>\n",
       "      <th>3</th>\n",
       "      <td>US</td>\n",
       "      <td>much like the regular bottling from 2012, this...</td>\n",
       "      <td>87</td>\n",
       "      <td>65.0</td>\n",
       "      <td>Oregon</td>\n",
       "      <td>[much, like, regular, bottling, 2012, comes, a...</td>\n",
       "      <td>much like regular bottling 2012 comes across r...</td>\n",
       "      <td>much like regular bottling 2012 comes across r...</td>\n",
       "      <td>much like regular bottling 2012 comes across r...</td>\n",
       "      <td>True</td>\n",
       "      <td>0.000</td>\n",
       "      <td>0.712</td>\n",
       "      <td>0.288</td>\n",
       "      <td>0.8176</td>\n",
       "      <td>positive</td>\n",
       "    </tr>\n",
       "  </tbody>\n",
       "</table>\n",
       "</div>"
      ],
      "text/plain": [
       "    country                                        description  points  price  \\\n",
       "0  Portugal  this is ripe and fruity, a wine that is smooth...      87   15.0   \n",
       "1        US  tart and snappy, the flavors of lime flesh and...      87   14.0   \n",
       "2        US  pineapple rind, lemon pith and orange blossom ...      87   13.0   \n",
       "3        US  much like the regular bottling from 2012, this...      87   65.0   \n",
       "\n",
       "   province                                         text_token  \\\n",
       "0     Douro  [ripe, fruity, wine, smooth, still, structured...   \n",
       "1    Oregon  [tart, snappy, flavors, lime, flesh, rind, dom...   \n",
       "2  Michigan  [pineapple, rind, lemon, pith, orange, blossom...   \n",
       "3    Oregon  [much, like, regular, bottling, 2012, comes, a...   \n",
       "\n",
       "                                         text_string  \\\n",
       "0  ripe fruity wine smooth still structured firm ...   \n",
       "1  tart snappy flavors lime flesh rind dominate g...   \n",
       "2  pineapple rind lemon pith orange blossom start...   \n",
       "3  much like regular bottling 2012 comes across r...   \n",
       "\n",
       "                                   text_string_fdist  \\\n",
       "0  ripe fruity smooth still structured firm tanni...   \n",
       "1  tart snappy lime flesh rind dominate green pin...   \n",
       "2  pineapple rind lemon pith orange blossom start...   \n",
       "3  much like regular bottling 2012 comes across r...   \n",
       "\n",
       "                                     text_string_lem  is_equal    neg    neu  \\\n",
       "0  ripe fruity smooth still structured firm tanni...      True  0.000  0.773   \n",
       "1  tart snappy lime flesh rind dominate green pin...      True  0.097  0.903   \n",
       "2  pineapple rind lemon pith orange blossom start...      True  0.000  0.893   \n",
       "3  much like regular bottling 2012 comes across r...      True  0.000  0.712   \n",
       "\n",
       "     pos  compound sentiment  \n",
       "0  0.227    0.6486  positive  \n",
       "1  0.000   -0.1280  negative  \n",
       "2  0.107    0.3400  positive  \n",
       "3  0.288    0.8176  positive  "
      ]
     },
     "execution_count": 183,
     "metadata": {},
     "output_type": "execute_result"
    }
   ],
   "source": [
    "# Create new variable with sentiment \"neutral,\" \"positive\" and \"negative\"\n",
    "df1['sentiment'] = df1['compound'].apply(lambda x: 'positive' if x >0 else 'neutral' if x==0 else 'negative')\n",
    "df1.head(4)"
   ]
  },
  {
   "cell_type": "code",
   "execution_count": 230,
   "id": "eb4093fa",
   "metadata": {},
   "outputs": [
    {
     "data": {
      "text/plain": [
       "<AxesSubplot:title={'center':'Sentiment towards wine by Country'}, xlabel='country'>"
      ]
     },
     "execution_count": 230,
     "metadata": {},
     "output_type": "execute_result"
    },
    {
     "data": {
      "image/png": "[encoded data removed]",
      "text/plain": [
       "<Figure size 1080x576 with 1 Axes>"
      ]
     },
     "metadata": {},
     "output_type": "display_data"
    }
   ],
   "source": [
    "Count = df1.groupby(['country', 'sentiment'])\n",
    "Count.size().unstack().plot(kind='bar', title = \"Sentiment towards wine by Country\", figsize=(15,8))"
   ]
  },
  {
   "cell_type": "markdown",
   "id": "cb6529a3",
   "metadata": {},
   "source": [
    "People have a positive sentiment towards wine in all the countries"
   ]
  },
  {
   "cell_type": "code",
   "execution_count": 184,
   "id": "d8e2f9d6",
   "metadata": {},
   "outputs": [
    {
     "data": {
      "text/plain": [
       "LinearRegression()"
      ]
     },
     "execution_count": 184,
     "metadata": {},
     "output_type": "execute_result"
    }
   ],
   "source": [
    "import numpy as np\n",
    "from sklearn.linear_model import LinearRegression\n",
    "x = np.array(df1['compound']).reshape((-1,1))\n",
    "y = np.array(df1['points'])\n",
    "model = LinearRegression()\n",
    "model.fit(x,y)"
   ]
  },
  {
   "cell_type": "code",
   "execution_count": 185,
   "id": "757b9970",
   "metadata": {},
   "outputs": [
    {
     "data": {
      "text/plain": [
       "0.09404096020396036"
      ]
     },
     "execution_count": 185,
     "metadata": {},
     "output_type": "execute_result"
    }
   ],
   "source": [
    "r_sq = model.score(x, y)\n",
    "r_sq"
   ]
  },
  {
   "cell_type": "code",
   "execution_count": 186,
   "id": "8f06c288",
   "metadata": {},
   "outputs": [
    {
     "data": {
      "text/plain": [
       "87.02300347994989"
      ]
     },
     "execution_count": 186,
     "metadata": {},
     "output_type": "execute_result"
    }
   ],
   "source": [
    "intercept = model.intercept_\n",
    "intercept"
   ]
  },
  {
   "cell_type": "code",
   "execution_count": 187,
   "id": "bd5c6169",
   "metadata": {},
   "outputs": [
    {
     "data": {
      "text/plain": [
       "array([2.55526919])"
      ]
     },
     "execution_count": 187,
     "metadata": {},
     "output_type": "execute_result"
    }
   ],
   "source": [
    "slope = model.coef_\n",
    "slope"
   ]
  },
  {
   "cell_type": "code",
   "execution_count": 188,
   "id": "8a82a8ee",
   "metadata": {},
   "outputs": [
    {
     "data": {
      "image/png": "[encoded data removed]",
      "text/plain": [
       "<Figure size 432x288 with 1 Axes>"
      ]
     },
     "metadata": {},
     "output_type": "display_data"
    }
   ],
   "source": [
    "def myfunc(x):\n",
    "      return slope * x + intercept\n",
    "\n",
    "mymodel = list(map(myfunc, x))\n",
    "\n",
    "plt.scatter(x, y)\n",
    "plt.plot(x, mymodel)\n",
    "plt.show()"
   ]
  },
  {
   "cell_type": "markdown",
   "id": "8251a0da",
   "metadata": {},
   "source": [
    "Note: Plot a hist/bar graph. Group by Country and sentiment the count of wines and show for top 10."
   ]
  },
  {
   "cell_type": "code",
   "execution_count": 189,
   "id": "bfe22d33",
   "metadata": {},
   "outputs": [
    {
     "data": {
      "text/plain": [
       "array([88.68035108, 86.69592902, 87.89179501, ..., 87.35007794,\n",
       "       88.36886376, 88.8124585 ])"
      ]
     },
     "execution_count": 189,
     "metadata": {},
     "output_type": "execute_result"
    }
   ],
   "source": [
    "y_pred = model.predict(x)\n",
    "y_pred"
   ]
  }
 ],
 "metadata": {
  "kernelspec": {
   "display_name": "Python 3 (ipykernel)",
   "language": "python",
   "name": "python3"
  },
  "language_info": {
   "codemirror_mode": {
    "name": "ipython",
    "version": 3
   },
   "file_extension": ".py",
   "mimetype": "text/x-python",
   "name": "python",
   "nbconvert_exporter": "python",
   "pygments_lexer": "ipython3",
   "version": "3.9.12"
  }
 },
 "nbformat": 4,
 "nbformat_minor": 5
}
