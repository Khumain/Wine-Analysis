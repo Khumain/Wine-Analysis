{
 "cells": [
  {
   "cell_type": "code",
   "execution_count": 3,
   "metadata": {},
   "outputs": [],
   "source": [
    "import pandas as pd\n",
    "import numpy as np\n",
    "import nltk\n",
    "from nltk import sent_tokenize,word_tokenize \n",
    "from vaderSentiment.vaderSentiment import SentimentIntensityAnalyzer\n",
    "import warnings\n",
    "warnings.filterwarnings('ignore')\n",
    "from sklearn.metrics import confusion_matrix\n",
    "from sklearn.metrics import mean_squared_error\n",
    "import math\n",
    "from sklearn.metrics import r2_score\n",
    "import folium\n",
    "import seaborn as sns\n",
    "from scipy import stats\n",
    "import json\n",
    "from gensim import corpora\n",
    "from gensim.models.ldamodel import LdaModel\n",
    "from gensim.parsing.preprocessing import STOPWORDS\n",
    "import pprint\n",
    "import pyLDAvis\n",
    "#import pyLDAvis.gensim_models as gensimvis\n",
    "from sklearn.feature_extraction import text\n",
    "from sklearn.feature_extraction.text import TfidfVectorizer\n",
    "from sklearn.cluster import KMeans\n",
    "from nltk.tokenize import RegexpTokenizer\n",
    "from nltk.stem.snowball import SnowballStemmer\n",
    "\n",
    "\n",
    "import nltk\n",
    "from nltk.corpus import PlaintextCorpusReader\n",
    "from nltk.tokenize import word_tokenize, sent_tokenize\n",
    "from nltk.probability import FreqDist\n",
    "from nltk.corpus import stopwords\n",
    "from collections import OrderedDict\n",
    "\n",
    "import pprint\n",
    "import warnings\n",
    "warnings.filterwarnings('ignore')\n",
    "#!pip install wordcloud\n",
    "from wordcloud import WordCloud, STOPWORDS, ImageColorGenerator\n",
    "import matplotlib\n",
    "import matplotlib.pyplot as plt\n",
    "import matplotlib.colors\n",
    "\n",
    "from nltk.draw.dispersion import dispersion_plot"
   ]
  },
  {
   "cell_type": "code",
   "execution_count": 4,
   "metadata": {},
   "outputs": [
    {
     "name": "stdout",
     "output_type": "stream",
     "text": [
      "Requirement already satisfied: gensim==3.6.0 in c:\\users\\devan\\anaconda3\\lib\\site-packages (3.6.0)\n",
      "Requirement already satisfied: six>=1.5.0 in c:\\users\\devan\\anaconda3\\lib\\site-packages (from gensim==3.6.0) (1.16.0)\n",
      "Requirement already satisfied: scipy>=0.18.1 in c:\\users\\devan\\anaconda3\\lib\\site-packages (from gensim==3.6.0) (1.9.3)\n",
      "Requirement already satisfied: numpy>=1.11.3 in c:\\users\\devan\\anaconda3\\lib\\site-packages (from gensim==3.6.0) (1.23.5)\n",
      "Requirement already satisfied: smart-open>=1.2.1 in c:\\users\\devan\\anaconda3\\lib\\site-packages (from gensim==3.6.0) (5.2.1)\n",
      "gensim                    3.6.0                    pypi_0    pypi\n"
     ]
    }
   ],
   "source": [
    "#!pip install gensim==3.6.0\n",
    "#! conda list| findstr gensim"
   ]
  },
  {
   "cell_type": "code",
   "execution_count": 5,
   "metadata": {},
   "outputs": [],
   "source": [
    "dataset = 'winemag-data-130k-v2.csv'"
   ]
  },
  {
   "cell_type": "code",
   "execution_count": 12,
   "metadata": {},
   "outputs": [],
   "source": [
    "df = pd.read_csv(dataset, index_col = 'Unnamed: 0')"
   ]
  },
  {
   "cell_type": "code",
   "execution_count": 13,
   "metadata": {},
   "outputs": [
    {
     "data": {
      "text/html": [
       "<div>\n",
       "<style scoped>\n",
       "    .dataframe tbody tr th:only-of-type {\n",
       "        vertical-align: middle;\n",
       "    }\n",
       "\n",
       "    .dataframe tbody tr th {\n",
       "        vertical-align: top;\n",
       "    }\n",
       "\n",
       "    .dataframe thead th {\n",
       "        text-align: right;\n",
       "    }\n",
       "</style>\n",
       "<table border=\"1\" class=\"dataframe\">\n",
       "  <thead>\n",
       "    <tr style=\"text-align: right;\">\n",
       "      <th></th>\n",
       "      <th>country</th>\n",
       "      <th>description</th>\n",
       "      <th>designation</th>\n",
       "      <th>points</th>\n",
       "      <th>price</th>\n",
       "      <th>province</th>\n",
       "      <th>region_1</th>\n",
       "      <th>region_2</th>\n",
       "      <th>taster_name</th>\n",
       "      <th>taster_twitter_handle</th>\n",
       "      <th>title</th>\n",
       "      <th>variety</th>\n",
       "      <th>winery</th>\n",
       "    </tr>\n",
       "  </thead>\n",
       "  <tbody>\n",
       "    <tr>\n",
       "      <th>0</th>\n",
       "      <td>Portugal</td>\n",
       "      <td>This is ripe and fruity, a wine that is smooth...</td>\n",
       "      <td>Avidagos</td>\n",
       "      <td>87</td>\n",
       "      <td>15.0</td>\n",
       "      <td>Douro</td>\n",
       "      <td>NaN</td>\n",
       "      <td>NaN</td>\n",
       "      <td>Roger Voss</td>\n",
       "      <td>@vossroger</td>\n",
       "      <td>Quinta dos Avidagos 2011 Avidagos Red (Douro)</td>\n",
       "      <td>Portuguese Red</td>\n",
       "      <td>Quinta dos Avidagos</td>\n",
       "    </tr>\n",
       "    <tr>\n",
       "      <th>1</th>\n",
       "      <td>United States of America</td>\n",
       "      <td>Tart and snappy, the flavors of lime flesh and...</td>\n",
       "      <td>NaN</td>\n",
       "      <td>87</td>\n",
       "      <td>14.0</td>\n",
       "      <td>Oregon</td>\n",
       "      <td>Willamette Valley</td>\n",
       "      <td>Willamette Valley</td>\n",
       "      <td>Paul Gregutt</td>\n",
       "      <td>@paulgwine</td>\n",
       "      <td>Rainstorm 2013 Pinot Gris (Willamette Valley)</td>\n",
       "      <td>Pinot Gris</td>\n",
       "      <td>Rainstorm</td>\n",
       "    </tr>\n",
       "    <tr>\n",
       "      <th>2</th>\n",
       "      <td>United States of America</td>\n",
       "      <td>Pineapple rind, lemon pith and orange blossom ...</td>\n",
       "      <td>Reserve Late Harvest</td>\n",
       "      <td>87</td>\n",
       "      <td>13.0</td>\n",
       "      <td>Michigan</td>\n",
       "      <td>Lake Michigan Shore</td>\n",
       "      <td>NaN</td>\n",
       "      <td>Alexander Peartree</td>\n",
       "      <td>NaN</td>\n",
       "      <td>St. Julian 2013 Reserve Late Harvest Riesling ...</td>\n",
       "      <td>Riesling</td>\n",
       "      <td>St. Julian</td>\n",
       "    </tr>\n",
       "    <tr>\n",
       "      <th>3</th>\n",
       "      <td>United States of America</td>\n",
       "      <td>Much like the regular bottling from 2012, this...</td>\n",
       "      <td>Vintner's Reserve Wild Child Block</td>\n",
       "      <td>87</td>\n",
       "      <td>65.0</td>\n",
       "      <td>Oregon</td>\n",
       "      <td>Willamette Valley</td>\n",
       "      <td>Willamette Valley</td>\n",
       "      <td>Paul Gregutt</td>\n",
       "      <td>@paulgwine</td>\n",
       "      <td>Sweet Cheeks 2012 Vintner's Reserve Wild Child...</td>\n",
       "      <td>Pinot Noir</td>\n",
       "      <td>Sweet Cheeks</td>\n",
       "    </tr>\n",
       "    <tr>\n",
       "      <th>4</th>\n",
       "      <td>Spain</td>\n",
       "      <td>Blackberry and raspberry aromas show a typical...</td>\n",
       "      <td>Ars In Vitro</td>\n",
       "      <td>87</td>\n",
       "      <td>15.0</td>\n",
       "      <td>Northern Spain</td>\n",
       "      <td>Navarra</td>\n",
       "      <td>NaN</td>\n",
       "      <td>Michael Schachner</td>\n",
       "      <td>@wineschach</td>\n",
       "      <td>Tandem 2011 Ars In Vitro Tempranillo-Merlot (N...</td>\n",
       "      <td>Tempranillo-Merlot</td>\n",
       "      <td>Tandem</td>\n",
       "    </tr>\n",
       "    <tr>\n",
       "      <th>...</th>\n",
       "      <td>...</td>\n",
       "      <td>...</td>\n",
       "      <td>...</td>\n",
       "      <td>...</td>\n",
       "      <td>...</td>\n",
       "      <td>...</td>\n",
       "      <td>...</td>\n",
       "      <td>...</td>\n",
       "      <td>...</td>\n",
       "      <td>...</td>\n",
       "      <td>...</td>\n",
       "      <td>...</td>\n",
       "      <td>...</td>\n",
       "    </tr>\n",
       "    <tr>\n",
       "      <th>120910</th>\n",
       "      <td>Germany</td>\n",
       "      <td>Notes of honeysuckle and cantaloupe sweeten th...</td>\n",
       "      <td>Brauneberger Juffer-Sonnenuhr Spätlese</td>\n",
       "      <td>90</td>\n",
       "      <td>28.0</td>\n",
       "      <td>Mosel</td>\n",
       "      <td>NaN</td>\n",
       "      <td>NaN</td>\n",
       "      <td>Anna Lee C. Iijima</td>\n",
       "      <td>NaN</td>\n",
       "      <td>Dr. H. Thanisch (Erben Müller-Burggraef) 2013 ...</td>\n",
       "      <td>Riesling</td>\n",
       "      <td>Dr. H. Thanisch (Erben Müller-Burggraef)</td>\n",
       "    </tr>\n",
       "    <tr>\n",
       "      <th>120911</th>\n",
       "      <td>United States of America</td>\n",
       "      <td>Citation is given as much as a decade of bottl...</td>\n",
       "      <td>NaN</td>\n",
       "      <td>90</td>\n",
       "      <td>75.0</td>\n",
       "      <td>Oregon</td>\n",
       "      <td>Oregon</td>\n",
       "      <td>Oregon Other</td>\n",
       "      <td>Paul Gregutt</td>\n",
       "      <td>@paulgwine</td>\n",
       "      <td>Citation 2004 Pinot Noir (Oregon)</td>\n",
       "      <td>Pinot Noir</td>\n",
       "      <td>Citation</td>\n",
       "    </tr>\n",
       "    <tr>\n",
       "      <th>120912</th>\n",
       "      <td>France</td>\n",
       "      <td>Well-drained gravel soil gives this wine its c...</td>\n",
       "      <td>Kritt</td>\n",
       "      <td>90</td>\n",
       "      <td>30.0</td>\n",
       "      <td>Alsace</td>\n",
       "      <td>Alsace</td>\n",
       "      <td>NaN</td>\n",
       "      <td>Roger Voss</td>\n",
       "      <td>@vossroger</td>\n",
       "      <td>Domaine Gresser 2013 Kritt Gewurztraminer (Als...</td>\n",
       "      <td>Gewürztraminer</td>\n",
       "      <td>Domaine Gresser</td>\n",
       "    </tr>\n",
       "    <tr>\n",
       "      <th>120913</th>\n",
       "      <td>France</td>\n",
       "      <td>A dry style of Pinot Gris, this is crisp with ...</td>\n",
       "      <td>NaN</td>\n",
       "      <td>90</td>\n",
       "      <td>32.0</td>\n",
       "      <td>Alsace</td>\n",
       "      <td>Alsace</td>\n",
       "      <td>NaN</td>\n",
       "      <td>Roger Voss</td>\n",
       "      <td>@vossroger</td>\n",
       "      <td>Domaine Marcel Deiss 2012 Pinot Gris (Alsace)</td>\n",
       "      <td>Pinot Gris</td>\n",
       "      <td>Domaine Marcel Deiss</td>\n",
       "    </tr>\n",
       "    <tr>\n",
       "      <th>120914</th>\n",
       "      <td>France</td>\n",
       "      <td>Big, rich and off-dry, this is powered by inte...</td>\n",
       "      <td>Lieu-dit Harth Cuvée Caroline</td>\n",
       "      <td>90</td>\n",
       "      <td>21.0</td>\n",
       "      <td>Alsace</td>\n",
       "      <td>Alsace</td>\n",
       "      <td>NaN</td>\n",
       "      <td>Roger Voss</td>\n",
       "      <td>@vossroger</td>\n",
       "      <td>Domaine Schoffit 2012 Lieu-dit Harth Cuvée Car...</td>\n",
       "      <td>Gewürztraminer</td>\n",
       "      <td>Domaine Schoffit</td>\n",
       "    </tr>\n",
       "  </tbody>\n",
       "</table>\n",
       "<p>111511 rows × 13 columns</p>\n",
       "</div>"
      ],
      "text/plain": [
       "                         country  \\\n",
       "0                       Portugal   \n",
       "1       United States of America   \n",
       "2       United States of America   \n",
       "3       United States of America   \n",
       "4                          Spain   \n",
       "...                          ...   \n",
       "120910                   Germany   \n",
       "120911  United States of America   \n",
       "120912                    France   \n",
       "120913                    France   \n",
       "120914                    France   \n",
       "\n",
       "                                              description  \\\n",
       "0       This is ripe and fruity, a wine that is smooth...   \n",
       "1       Tart and snappy, the flavors of lime flesh and...   \n",
       "2       Pineapple rind, lemon pith and orange blossom ...   \n",
       "3       Much like the regular bottling from 2012, this...   \n",
       "4       Blackberry and raspberry aromas show a typical...   \n",
       "...                                                   ...   \n",
       "120910  Notes of honeysuckle and cantaloupe sweeten th...   \n",
       "120911  Citation is given as much as a decade of bottl...   \n",
       "120912  Well-drained gravel soil gives this wine its c...   \n",
       "120913  A dry style of Pinot Gris, this is crisp with ...   \n",
       "120914  Big, rich and off-dry, this is powered by inte...   \n",
       "\n",
       "                                   designation  points  price        province  \\\n",
       "0                                     Avidagos      87   15.0           Douro   \n",
       "1                                          NaN      87   14.0          Oregon   \n",
       "2                         Reserve Late Harvest      87   13.0        Michigan   \n",
       "3           Vintner's Reserve Wild Child Block      87   65.0          Oregon   \n",
       "4                                 Ars In Vitro      87   15.0  Northern Spain   \n",
       "...                                        ...     ...    ...             ...   \n",
       "120910  Brauneberger Juffer-Sonnenuhr Spätlese      90   28.0           Mosel   \n",
       "120911                                     NaN      90   75.0          Oregon   \n",
       "120912                                   Kritt      90   30.0          Alsace   \n",
       "120913                                     NaN      90   32.0          Alsace   \n",
       "120914           Lieu-dit Harth Cuvée Caroline      90   21.0          Alsace   \n",
       "\n",
       "                   region_1           region_2         taster_name  \\\n",
       "0                       NaN                NaN          Roger Voss   \n",
       "1         Willamette Valley  Willamette Valley        Paul Gregutt   \n",
       "2       Lake Michigan Shore                NaN  Alexander Peartree   \n",
       "3         Willamette Valley  Willamette Valley        Paul Gregutt   \n",
       "4                   Navarra                NaN   Michael Schachner   \n",
       "...                     ...                ...                 ...   \n",
       "120910                  NaN                NaN  Anna Lee C. Iijima   \n",
       "120911               Oregon       Oregon Other        Paul Gregutt   \n",
       "120912               Alsace                NaN          Roger Voss   \n",
       "120913               Alsace                NaN          Roger Voss   \n",
       "120914               Alsace                NaN          Roger Voss   \n",
       "\n",
       "       taster_twitter_handle  \\\n",
       "0                 @vossroger   \n",
       "1                @paulgwine    \n",
       "2                        NaN   \n",
       "3                @paulgwine    \n",
       "4                @wineschach   \n",
       "...                      ...   \n",
       "120910                   NaN   \n",
       "120911           @paulgwine    \n",
       "120912            @vossroger   \n",
       "120913            @vossroger   \n",
       "120914            @vossroger   \n",
       "\n",
       "                                                    title             variety  \\\n",
       "0           Quinta dos Avidagos 2011 Avidagos Red (Douro)      Portuguese Red   \n",
       "1           Rainstorm 2013 Pinot Gris (Willamette Valley)          Pinot Gris   \n",
       "2       St. Julian 2013 Reserve Late Harvest Riesling ...            Riesling   \n",
       "3       Sweet Cheeks 2012 Vintner's Reserve Wild Child...          Pinot Noir   \n",
       "4       Tandem 2011 Ars In Vitro Tempranillo-Merlot (N...  Tempranillo-Merlot   \n",
       "...                                                   ...                 ...   \n",
       "120910  Dr. H. Thanisch (Erben Müller-Burggraef) 2013 ...            Riesling   \n",
       "120911                  Citation 2004 Pinot Noir (Oregon)          Pinot Noir   \n",
       "120912  Domaine Gresser 2013 Kritt Gewurztraminer (Als...      Gewürztraminer   \n",
       "120913      Domaine Marcel Deiss 2012 Pinot Gris (Alsace)          Pinot Gris   \n",
       "120914  Domaine Schoffit 2012 Lieu-dit Harth Cuvée Car...      Gewürztraminer   \n",
       "\n",
       "                                          winery  \n",
       "0                            Quinta dos Avidagos  \n",
       "1                                      Rainstorm  \n",
       "2                                     St. Julian  \n",
       "3                                   Sweet Cheeks  \n",
       "4                                         Tandem  \n",
       "...                                          ...  \n",
       "120910  Dr. H. Thanisch (Erben Müller-Burggraef)  \n",
       "120911                                  Citation  \n",
       "120912                           Domaine Gresser  \n",
       "120913                      Domaine Marcel Deiss  \n",
       "120914                          Domaine Schoffit  \n",
       "\n",
       "[111511 rows x 13 columns]"
      ]
     },
     "execution_count": 13,
     "metadata": {},
     "output_type": "execute_result"
    }
   ],
   "source": [
    "df = df.dropna(subset=[\"country\", \"description\", \"points\", \"price\", \"province\", \"variety\"]).reset_index().drop(\"index\", axis=1)\n",
    "df = df.drop_duplicates(\"description\")\n",
    "df[\"country\"] = np.where(df[\"country\"] == \"US\", \"United States of America\", df[\"country\"])\n",
    "df"
   ]
  },
  {
   "cell_type": "markdown",
   "metadata": {},
   "source": [
    "# Data Cleaning\n"
   ]
  },
  {
   "cell_type": "code",
   "execution_count": 14,
   "metadata": {},
   "outputs": [
    {
     "name": "stdout",
     "output_type": "stream",
     "text": [
      "<class 'pandas.core.frame.DataFrame'>\n",
      "Int64Index: 111511 entries, 0 to 120914\n",
      "Data columns (total 13 columns):\n",
      " #   Column                 Non-Null Count   Dtype  \n",
      "---  ------                 --------------   -----  \n",
      " 0   country                111511 non-null  object \n",
      " 1   description            111511 non-null  object \n",
      " 2   designation            79472 non-null   object \n",
      " 3   points                 111511 non-null  int64  \n",
      " 4   price                  111511 non-null  float64\n",
      " 5   province               111511 non-null  object \n",
      " 6   region_1               93556 non-null   object \n",
      " 7   region_2               46559 non-null   object \n",
      " 8   taster_name            88244 non-null   object \n",
      " 9   taster_twitter_handle  83761 non-null   object \n",
      " 10  title                  111511 non-null  object \n",
      " 11  variety                111511 non-null  object \n",
      " 12  winery                 111511 non-null  object \n",
      "dtypes: float64(1), int64(1), object(11)\n",
      "memory usage: 11.9+ MB\n"
     ]
    }
   ],
   "source": [
    "#Trying to understand and clean the data\n",
    "#Dropping Nan values\n",
    "df.info()\n",
    "df.isnull().any()\n",
    "df = df.drop(columns = ['designation','region_1','region_2','taster_name','taster_twitter_handle','title','winery'])"
   ]
  },
  {
   "cell_type": "code",
   "execution_count": 15,
   "metadata": {},
   "outputs": [],
   "source": [
    "#Data cleaning for outliers\n",
    "df = df[df['price']<100]"
   ]
  },
  {
   "cell_type": "code",
   "execution_count": 16,
   "metadata": {},
   "outputs": [],
   "source": [
    "#df = df.dropna(subset=['price','points','country','province','variety','winery']).reset_index(drop=True)"
   ]
  },
  {
   "cell_type": "markdown",
   "metadata": {},
   "source": [
    "# EDA"
   ]
  },
  {
   "cell_type": "code",
   "execution_count": 17,
   "metadata": {},
   "outputs": [
    {
     "data": {
      "text/plain": [
       "<AxesSubplot:xlabel='points'>"
      ]
     },
     "execution_count": 17,
     "metadata": {},
     "output_type": "execute_result"
    },
    {
     "data": {
      "image/png": "[encoded data removed]",
      "text/plain": [
       "<Figure size 640x480 with 1 Axes>"
      ]
     },
     "metadata": {},
     "output_type": "display_data"
    }
   ],
   "source": [
    "sns.distplot(df['points'], kde=False, fit=stats.norm)"
   ]
  },
  {
   "cell_type": "code",
   "execution_count": 18,
   "metadata": {},
   "outputs": [
    {
     "data": {
      "text/plain": [
       "<AxesSubplot:ylabel='Frequency'>"
      ]
     },
     "execution_count": 18,
     "metadata": {},
     "output_type": "execute_result"
    },
    {
     "data": {
      "image/png": "[encoded data removed]",
      "text/plain": [
       "<Figure size 640x480 with 1 Axes>"
      ]
     },
     "metadata": {},
     "output_type": "display_data"
    }
   ],
   "source": [
    "df[df['price'] < 100]['price'].plot.hist()"
   ]
  },
  {
   "cell_type": "code",
   "execution_count": 19,
   "metadata": {},
   "outputs": [
    {
     "data": {
      "text/plain": [
       "<AxesSubplot:xlabel='price', ylabel='points'>"
      ]
     },
     "execution_count": 19,
     "metadata": {},
     "output_type": "execute_result"
    },
    {
     "data": {
      "image/png": "[encoded data removed]",
      "text/plain": [
       "<Figure size 640x480 with 1 Axes>"
      ]
     },
     "metadata": {},
     "output_type": "display_data"
    }
   ],
   "source": [
    "sns.kdeplot(data=df[df['price'] < 100].loc[:, ['price', 'points']].sample(10000), x='price', y='points')"
   ]
  },
  {
   "cell_type": "code",
   "execution_count": 20,
   "metadata": {},
   "outputs": [
    {
     "data": {
      "text/plain": [
       "<seaborn.axisgrid.JointGrid at 0x1d365fef4f0>"
      ]
     },
     "execution_count": 20,
     "metadata": {},
     "output_type": "execute_result"
    },
    {
     "data": {
      "image/png": "[encoded data removed]",
      "text/plain": [
       "<Figure size 600x600 with 3 Axes>"
      ]
     },
     "metadata": {},
     "output_type": "display_data"
    }
   ],
   "source": [
    "sns.jointplot(x='price', y='points', data=df[df['price'] < 100], kind='hex', gridsize=20)"
   ]
  },
  {
   "cell_type": "code",
   "execution_count": 21,
   "metadata": {},
   "outputs": [
    {
     "data": {
      "text/plain": [
       "<AxesSubplot:xlabel='variety', ylabel='points'>"
      ]
     },
     "execution_count": 21,
     "metadata": {},
     "output_type": "execute_result"
    },
    {
     "data": {
      "image/png": "[encoded data removed]",
      "text/plain": [
       "<Figure size 640x480 with 1 Axes>"
      ]
     },
     "metadata": {},
     "output_type": "display_data"
    }
   ],
   "source": [
    "df_top_5 = df[df[\"variety\"].isin(df[\"variety\"].value_counts().head(5).index)]\n",
    "sns.boxplot(data=df_top_5, x=\"variety\", y=\"points\")"
   ]
  },
  {
   "cell_type": "code",
   "execution_count": 22,
   "metadata": {},
   "outputs": [
    {
     "data": {
      "text/plain": [
       "<AxesSubplot:xlabel='points'>"
      ]
     },
     "execution_count": 22,
     "metadata": {},
     "output_type": "execute_result"
    },
    {
     "data": {
      "image/png": "[encoded data removed]",
      "text/plain": [
       "<Figure size 640x480 with 1 Axes>"
      ]
     },
     "metadata": {},
     "output_type": "display_data"
    }
   ],
   "source": [
    "df_top_5[[\"points\", \"variety\"]].value_counts().unstack().plot.bar(stacked=True)"
   ]
  },
  {
   "cell_type": "code",
   "execution_count": 23,
   "metadata": {},
   "outputs": [
    {
     "data": {
      "text/plain": [
       "<AxesSubplot:xlabel='points', ylabel='description_length'>"
      ]
     },
     "execution_count": 23,
     "metadata": {},
     "output_type": "execute_result"
    },
    {
     "data": {
      "image/png": "[encoded data removed]",
      "text/plain": [
       "<Figure size 640x480 with 1 Axes>"
      ]
     },
     "metadata": {},
     "output_type": "display_data"
    }
   ],
   "source": [
    "df[\"description_length\"] = df[\"description\"].apply(len)\n",
    "sns.boxplot(data=df, x=\"points\", y=\"description_length\")\n"
   ]
  },
  {
   "cell_type": "code",
   "execution_count": 24,
   "metadata": {},
   "outputs": [],
   "source": [
    "\n",
    "# JSON cleaning\n",
    "with open(\"countries.json\") as f:\n",
    "    raw_countries_json = json.load(f)\n",
    "countries_json = {\"type\": \"FeatureCollection\", \"features\" : []}\n",
    "for feature in raw_countries_json[\"features\"]:\n",
    "    if feature[\"properties\"][\"name\"] in df[\"country\"].unique():\n",
    "        countries_json[\"features\"].append(feature)\n"
   ]
  },
  {
   "cell_type": "code",
   "execution_count": 25,
   "metadata": {},
   "outputs": [
    {
     "data": {
      "text/html": [
       "<div style=\"width:100%;\"><div style=\"position:relative;width:100%;height:0;padding-bottom:60%;\"><span style=\"color:#565656\">Make this Notebook Trusted to load map: File -> Trust Notebook</span><iframe srcdoc=\"&lt;!DOCTYPE html&gt;\n",
       "&lt;head&gt;    \n",
       "    &lt;meta http-equiv=&quot;content-type&quot; content=&quot;text/html; charset=UTF-8&quot; /&gt;\n",
       "    \n",
       "        &lt;script&gt;\n",
       "            L_NO_TOUCH = false;\n",
       "            L_DISABLE_3D = false;\n",
       "        &lt;/script&gt;\n",
       "    \n",
       "    &lt;style&gt;html, body {width: 100%;height: 100%;margin: 0;padding: 0;}&lt;/style&gt;\n",
       "    &lt;style&gt;#map {position:absolute;top:0;bottom:0;right:0;left:0;}&lt;/style&gt;\n",
       "    &lt;script src=&quot;https://cdn.jsdelivr.net/npm/leaflet@1.6.0/dist/leaflet.js&quot;&gt;&lt;/script&gt;\n",
       "    &lt;script src=&quot;https://code.jquery.com/jquery-1.12.4.min.js&quot;&gt;&lt;/script&gt;\n",
       "    &lt;script src=&quot;https://maxcdn.bootstrapcdn.com/bootstrap/3.2.0/js/bootstrap.min.js&quot;&gt;&lt;/script&gt;\n",
       "    &lt;script src=&quot;https://cdnjs.cloudflare.com/ajax/libs/Leaflet.awesome-markers/2.0.2/leaflet.awesome-markers.js&quot;&gt;&lt;/script&gt;\n",
       "    &lt;link rel=&quot;stylesheet&quot; href=&quot;https://cdn.jsdelivr.net/npm/leaflet@1.6.0/dist/leaflet.css&quot;/&gt;\n",
       "    &lt;link rel=&quot;stylesheet&quot; href=&quot;https://maxcdn.bootstrapcdn.com/bootstrap/3.2.0/css/bootstrap.min.css&quot;/&gt;\n",
       "    &lt;link rel=&quot;stylesheet&quot; href=&quot;https://maxcdn.bootstrapcdn.com/bootstrap/3.2.0/css/bootstrap-theme.min.css&quot;/&gt;\n",
       "    &lt;link rel=&quot;stylesheet&quot; href=&quot;https://maxcdn.bootstrapcdn.com/font-awesome/4.6.3/css/font-awesome.min.css&quot;/&gt;\n",
       "    &lt;link rel=&quot;stylesheet&quot; href=&quot;https://cdnjs.cloudflare.com/ajax/libs/Leaflet.awesome-markers/2.0.2/leaflet.awesome-markers.css&quot;/&gt;\n",
       "    &lt;link rel=&quot;stylesheet&quot; href=&quot;https://cdn.jsdelivr.net/gh/python-visualization/folium/folium/templates/leaflet.awesome.rotate.min.css&quot;/&gt;\n",
       "    \n",
       "            &lt;meta name=&quot;viewport&quot; content=&quot;width=device-width,\n",
       "                initial-scale=1.0, maximum-scale=1.0, user-scalable=no&quot; /&gt;\n",
       "            &lt;style&gt;\n",
       "                #map_bd841cefdd41efcb90a79389d2308bf3 {\n",
       "                    position: relative;\n",
       "                    width: 100.0%;\n",
       "                    height: 100.0%;\n",
       "                    left: 0.0%;\n",
       "                    top: 0.0%;\n",
       "                }\n",
       "            &lt;/style&gt;\n",
       "        \n",
       "    &lt;script src=&quot;https://cdnjs.cloudflare.com/ajax/libs/d3/3.5.5/d3.min.js&quot;&gt;&lt;/script&gt;\n",
       "&lt;/head&gt;\n",
       "&lt;body&gt;    \n",
       "    \n",
       "            &lt;div class=&quot;folium-map&quot; id=&quot;map_bd841cefdd41efcb90a79389d2308bf3&quot; &gt;&lt;/div&gt;\n",
       "        \n",
       "&lt;/body&gt;\n",
       "&lt;script&gt;    \n",
       "    \n",
       "            var map_bd841cefdd41efcb90a79389d2308bf3 = L.map(\n",
       "                &quot;map_bd841cefdd41efcb90a79389d2308bf3&quot;,\n",
       "                {\n",
       "                    center: [0.0, 0.0],\n",
       "                    crs: L.CRS.EPSG3857,\n",
       "                    zoom: 2,\n",
       "                    zoomControl: true,\n",
       "                    preferCanvas: false,\n",
       "                }\n",
       "            );\n",
       "\n",
       "            \n",
       "\n",
       "        \n",
       "    \n",
       "            var tile_layer_e5671ac8a664d84ca467bdeb15f16cd8 = L.tileLayer(\n",
       "                &quot;https://{s}.tile.openstreetmap.org/{z}/{x}/{y}.png&quot;,\n",
       "                {&quot;attribution&quot;: &quot;Data by \\u0026copy; \\u003ca href=\\&quot;http://openstreetmap.org\\&quot;\\u003eOpenStreetMap\\u003c/a\\u003e, under \\u003ca href=\\&quot;http://www.openstreetmap.org/copyright\\&quot;\\u003eODbL\\u003c/a\\u003e.&quot;, &quot;detectRetina&quot;: false, &quot;maxNativeZoom&quot;: 18, &quot;maxZoom&quot;: 18, &quot;minZoom&quot;: 0, &quot;noWrap&quot;: false, &quot;opacity&quot;: 1, &quot;subdomains&quot;: &quot;abc&quot;, &quot;tms&quot;: false}\n",
       "            ).addTo(map_bd841cefdd41efcb90a79389d2308bf3);\n",
       "        \n",
       "    \n",
       "            var choropleth_b71b89d023dcb9f7a9a23593571f50cc = L.featureGroup(\n",
       "                {}\n",
       "            ).addTo(map_bd841cefdd41efcb90a79389d2308bf3);\n",
       "        \n",
       "    \n",
       "        function geo_json_5420b8bce7aa8b2ceb636d93e126ea9b_styler(feature) {\n",
       "            switch(feature.id) {\n",
       "                case &quot;ARG&quot;: case &quot;CAN&quot;: case &quot;LBN&quot;: case &quot;PRT&quot;: case &quot;SVN&quot;: \n",
       "                    return {&quot;color&quot;: &quot;black&quot;, &quot;fillColor&quot;: &quot;#fd8d3c&quot;, &quot;fillOpacity&quot;: 0.7, &quot;opacity&quot;: 0.2, &quot;weight&quot;: 1};\n",
       "                case &quot;AUS&quot;: \n",
       "                    return {&quot;color&quot;: &quot;black&quot;, &quot;fillColor&quot;: &quot;#f03b20&quot;, &quot;fillOpacity&quot;: 0.7, &quot;opacity&quot;: 0.2, &quot;weight&quot;: 1};\n",
       "                case &quot;AUT&quot;: case &quot;USA&quot;: \n",
       "                    return {&quot;color&quot;: &quot;black&quot;, &quot;fillColor&quot;: &quot;#bd0026&quot;, &quot;fillOpacity&quot;: 0.7, &quot;opacity&quot;: 0.2, &quot;weight&quot;: 1};\n",
       "                case &quot;BGR&quot;: case &quot;CHE&quot;: case &quot;DEU&quot;: case &quot;FRA&quot;: case &quot;HUN&quot;: case &quot;ISR&quot;: case &quot;LUX&quot;: case &quot;TUR&quot;: case &quot;URY&quot;: \n",
       "                    return {&quot;color&quot;: &quot;black&quot;, &quot;fillColor&quot;: &quot;#fed976&quot;, &quot;fillOpacity&quot;: 0.7, &quot;opacity&quot;: 0.2, &quot;weight&quot;: 1};\n",
       "                case &quot;BRA&quot;: case &quot;GRC&quot;: case &quot;HRV&quot;: case &quot;ITA&quot;: case &quot;NZL&quot;: case &quot;ZAF&quot;: \n",
       "                    return {&quot;color&quot;: &quot;black&quot;, &quot;fillColor&quot;: &quot;#feb24c&quot;, &quot;fillOpacity&quot;: 0.7, &quot;opacity&quot;: 0.2, &quot;weight&quot;: 1};\n",
       "                default:\n",
       "                    return {&quot;color&quot;: &quot;black&quot;, &quot;fillColor&quot;: &quot;#ffffb2&quot;, &quot;fillOpacity&quot;: 0.7, &quot;opacity&quot;: 0.2, &quot;weight&quot;: 1};\n",
       "            }\n",
       "        }\n",
       "\n",
       "        function geo_json_5420b8bce7aa8b2ceb636d93e126ea9b_onEachFeature(feature, layer) {\n",
       "            layer.on({\n",
       "            });\n",
       "        };\n",
       "        var geo_json_5420b8bce7aa8b2ceb636d93e126ea9b = L.geoJson(null, {\n",
       "                onEachFeature: geo_json_5420b8bce7aa8b2ceb636d93e126ea9b_onEachFeature,\n",
       "            \n",
       "                style: geo_json_5420b8bce7aa8b2ceb636d93e126ea9b_styler,\n",
       "        });\n",
       "\n",
       "        function geo_json_5420b8bce7aa8b2ceb636d93e126ea9b_add (data) {\n",
       "            geo_json_5420b8bce7aa8b2ceb636d93e126ea9b\n",
       "                .addData(data)\n",
       "                .addTo(choropleth_b71b89d023dcb9f7a9a23593571f50cc);\n",
       "        }\n",
       "            geo_json_5420b8bce7aa8b2ceb636d93e126ea9b_add({&quot;features&quot;: [{&quot;geometry&quot;: {&quot;coordinates&quot;: [[[[-65.5, -55.2], [-66.45, -55.25], [-66.95992, -54.89681], [-67.56244, -54.87001], [-68.63335, -54.8695], [-68.63401, -52.63637], [-68.25, -53.1], [-67.75, -53.85], [-66.45, -54.45], [-65.05, -54.7], [-65.5, -55.2]]], [[[-64.964892, -22.075862], [-64.377021, -22.798091], [-63.986838, -21.993644], [-62.846468, -22.034985], [-62.685057, -22.249029], [-60.846565, -23.880713], [-60.028966, -24.032796], [-58.807128, -24.771459], [-57.777217, -25.16234], [-57.63366, -25.603657], [-58.618174, -27.123719], [-57.60976, -27.395899], [-56.486702, -27.548499], [-55.695846, -27.387837], [-54.788795, -26.621786], [-54.625291, -25.739255], [-54.13005, -25.547639], [-53.628349, -26.124865], [-53.648735, -26.923473], [-54.490725, -27.474757], [-55.162286, -27.881915], [-56.2909, -28.852761], [-57.625133, -30.216295], [-57.874937, -31.016556], [-58.14244, -32.044504], [-58.132648, -33.040567], [-58.349611, -33.263189], [-58.427074, -33.909454], [-58.495442, -34.43149], [-57.22583, -35.288027], [-57.362359, -35.97739], [-56.737487, -36.413126], [-56.788285, -36.901572], [-57.749157, -38.183871], [-59.231857, -38.72022], [-61.237445, -38.928425], [-62.335957, -38.827707], [-62.125763, -39.424105], [-62.330531, -40.172586], [-62.145994, -40.676897], [-62.745803, -41.028761], [-63.770495, -41.166789], [-64.73209, -40.802677], [-65.118035, -41.064315], [-64.978561, -42.058001], [-64.303408, -42.359016], [-63.755948, -42.043687], [-63.458059, -42.563138], [-64.378804, -42.873558], [-65.181804, -43.495381], [-65.328823, -44.501366], [-65.565269, -45.036786], [-66.509966, -45.039628], [-67.293794, -45.551896], [-67.580546, -46.301773], [-66.597066, -47.033925], [-65.641027, -47.236135], [-65.985088, -48.133289], [-67.166179, -48.697337], [-67.816088, -49.869669], [-68.728745, -50.264218], [-69.138539, -50.73251], [-68.815561, -51.771104], [-68.149995, -52.349983], [-68.571545, -52.299444], [-69.498362, -52.142761], [-71.914804, -52.009022], [-72.329404, -51.425956], [-72.309974, -50.67701], [-72.975747, -50.74145], [-73.328051, -50.378785], [-73.415436, -49.318436], [-72.648247, -48.878618], [-72.331161, -48.244238], [-72.447355, -47.738533], [-71.917258, -46.884838], [-71.552009, -45.560733], [-71.659316, -44.973689], [-71.222779, -44.784243], [-71.329801, -44.407522], [-71.793623, -44.207172], [-71.464056, -43.787611], [-71.915424, -43.408565], [-72.148898, -42.254888], [-71.746804, -42.051386], [-71.915734, -40.832339], [-71.680761, -39.808164], [-71.413517, -38.916022], [-70.814664, -38.552995], [-71.118625, -37.576827], [-71.121881, -36.658124], [-70.364769, -36.005089], [-70.388049, -35.169688], [-69.817309, -34.193571], [-69.814777, -33.273886], [-70.074399, -33.09121], [-70.535069, -31.36501], [-69.919008, -30.336339], [-70.01355, -29.367923], [-69.65613, -28.459141], [-69.001235, -27.521214], [-68.295542, -26.89934], [-68.5948, -26.506909], [-68.386001, -26.185016], [-68.417653, -24.518555], [-67.328443, -24.025303], [-66.985234, -22.986349], [-67.106674, -22.735925], [-66.273339, -21.83231], [-64.964892, -22.075862]]]], &quot;type&quot;: &quot;MultiPolygon&quot;}, &quot;id&quot;: &quot;ARG&quot;, &quot;properties&quot;: {&quot;name&quot;: &quot;Argentina&quot;}, &quot;type&quot;: &quot;Feature&quot;}, {&quot;geometry&quot;: {&quot;coordinates&quot;: [[[43.582746, 41.092143], [44.97248, 41.248129], [45.179496, 40.985354], [45.560351, 40.81229], [45.359175, 40.561504], [45.891907, 40.218476], [45.610012, 39.899994], [46.034534, 39.628021], [46.483499, 39.464155], [46.50572, 38.770605], [46.143623, 38.741201], [45.735379, 39.319719], [45.739978, 39.473999], [45.298145, 39.471751], [45.001987, 39.740004], [44.79399, 39.713003], [44.400009, 40.005], [43.656436, 40.253564], [43.752658, 40.740201], [43.582746, 41.092143]]], &quot;type&quot;: &quot;Polygon&quot;}, &quot;id&quot;: &quot;ARM&quot;, &quot;properties&quot;: {&quot;name&quot;: &quot;Armenia&quot;}, &quot;type&quot;: &quot;Feature&quot;}, {&quot;geometry&quot;: {&quot;coordinates&quot;: [[[[145.397978, -40.792549], [146.364121, -41.137695], [146.908584, -41.000546], [147.689259, -40.808258], [148.289068, -40.875438], [148.359865, -42.062445], [148.017301, -42.407024], [147.914052, -43.211522], [147.564564, -42.937689], [146.870343, -43.634597], [146.663327, -43.580854], [146.048378, -43.549745], [145.43193, -42.693776], [145.29509, -42.03361], [144.718071, -41.162552], [144.743755, -40.703975], [145.397978, -40.792549]]], [[[143.561811, -13.763656], [143.922099, -14.548311], [144.563714, -14.171176], [144.894908, -14.594458], [145.374724, -14.984976], [145.271991, -15.428205], [145.48526, -16.285672], [145.637033, -16.784918], [145.888904, -16.906926], [146.160309, -17.761655], [146.063674, -18.280073], [146.387478, -18.958274], [147.471082, -19.480723], [148.177602, -19.955939], [148.848414, -20.39121], [148.717465, -20.633469], [149.28942, -21.260511], [149.678337, -22.342512], [150.077382, -22.122784], [150.482939, -22.556142], [150.727265, -22.402405], [150.899554, -23.462237], [151.609175, -24.076256], [152.07354, -24.457887], [152.855197, -25.267501], [153.136162, -26.071173], [153.161949, -26.641319], [153.092909, -27.2603], [153.569469, -28.110067], [153.512108, -28.995077], [153.339095, -29.458202], [153.069241, -30.35024], [153.089602, -30.923642], [152.891578, -31.640446], [152.450002, -32.550003], [151.709117, -33.041342], [151.343972, -33.816023], [151.010555, -34.31036], [150.714139, -35.17346], [150.32822, -35.671879], [150.075212, -36.420206], [149.946124, -37.109052], [149.997284, -37.425261], [149.423882, -37.772681], [148.304622, -37.809061], [147.381733, -38.219217], [146.922123, -38.606532], [146.317922, -39.035757], [145.489652, -38.593768], [144.876976, -38.417448], [145.032212, -37.896188], [144.485682, -38.085324], [143.609974, -38.809465], [142.745427, -38.538268], [142.17833, -38.380034], [141.606582, -38.308514], [140.638579, -38.019333], [139.992158, -37.402936], [139.806588, -36.643603], [139.574148, -36.138362], [139.082808, -35.732754], [138.120748, -35.612296], [138.449462, -35.127261], [138.207564, -34.384723], [137.71917, -35.076825], [136.829406, -35.260535], [137.352371, -34.707339], [137.503886, -34.130268], [137.890116, -33.640479], [137.810328, -32.900007], [136.996837, -33.752771], [136.372069, -34.094766], [135.989043, -34.890118], [135.208213, -34.47867], [135.239218, -33.947953], [134.613417, -33.222778], [134.085904, -32.848072], [134.273903, -32.617234], [132.990777, -32.011224], [132.288081, -31.982647], [131.326331, -31.495803], [129.535794, -31.590423], [128.240938, -31.948489], [127.102867, -32.282267], [126.148714, -32.215966], [125.088623, -32.728751], [124.221648, -32.959487], [124.028947, -33.483847], [123.659667, -33.890179], [122.811036, -33.914467], [122.183064, -34.003402], [121.299191, -33.821036], [120.580268, -33.930177], [119.893695, -33.976065], [119.298899, -34.509366], [119.007341, -34.464149], [118.505718, -34.746819], [118.024972, -35.064733], [117.295507, -35.025459], [116.625109, -35.025097], [115.564347, -34.386428], [115.026809, -34.196517], [115.048616, -33.623425], [115.545123, -33.487258], [115.714674, -33.259572], [115.679379, -32.900369], [115.801645, -32.205062], [115.689611, -31.612437], [115.160909, -30.601594], [114.997043, -30.030725], [115.040038, -29.461095], [114.641974, -28.810231], [114.616498, -28.516399], [114.173579, -28.118077], [114.048884, -27.334765], [113.477498, -26.543134], [113.338953, -26.116545], [113.778358, -26.549025], [113.440962, -25.621278], [113.936901, -25.911235], [114.232852, -26.298446], [114.216161, -25.786281], [113.721255, -24.998939], [113.625344, -24.683971], [113.393523, -24.384764], [113.502044, -23.80635], [113.706993, -23.560215], [113.843418, -23.059987], [113.736552, -22.475475], [114.149756, -21.755881], [114.225307, -22.517488], [114.647762, -21.82952], [115.460167, -21.495173], [115.947373, -21.068688], [116.711615, -20.701682], [117.166316, -20.623599], [117.441545, -20.746899], [118.229559, -20.374208], [118.836085, -20.263311], [118.987807, -20.044203], [119.252494, -19.952942], [119.805225, -19.976506], [120.85622, -19.683708], [121.399856, -19.239756], [121.655138, -18.705318], [122.241665, -18.197649], [122.286624, -17.798603], [122.312772, -17.254967], [123.012574, -16.4052], [123.433789, -17.268558], [123.859345, -17.069035], [123.503242, -16.596506], [123.817073, -16.111316], [124.258287, -16.327944], [124.379726, -15.56706], [124.926153, -15.0751], [125.167275, -14.680396], [125.670087, -14.51007], [125.685796, -14.230656], [126.125149, -14.347341], [126.142823, -14.095987], [126.582589, -13.952791], [127.065867, -13.817968], [127.804633, -14.276906], [128.35969, -14.86917], [128.985543, -14.875991], [129.621473, -14.969784], [129.4096, -14.42067], [129.888641, -13.618703], [130.339466, -13.357376], [130.183506, -13.10752], [130.617795, -12.536392], [131.223495, -12.183649], [131.735091, -12.302453], [132.575298, -12.114041], [132.557212, -11.603012], [131.824698, -11.273782], [132.357224, -11.128519], [133.019561, -11.376411], [133.550846, -11.786515], [134.393068, -12.042365], [134.678632, -11.941183], [135.298491, -12.248606], [135.882693, -11.962267], [136.258381, -12.049342], [136.492475, -11.857209], [136.95162, -12.351959], [136.685125, -12.887223], [136.305407, -13.29123], [135.961758, -13.324509], [136.077617, -13.724278], [135.783836, -14.223989], [135.428664, -14.715432], [135.500184, -14.997741], [136.295175, -15.550265], [137.06536, -15.870762], [137.580471, -16.215082], [138.303217, -16.807604], [138.585164, -16.806622], [139.108543, -17.062679], [139.260575, -17.371601], [140.215245, -17.710805], [140.875463, -17.369069], [141.07111, -16.832047], [141.274095, -16.38887], [141.398222, -15.840532], [141.702183, -15.044921], [141.56338, -14.561333], [141.63552, -14.270395], [141.519869, -13.698078], [141.65092, -12.944688], [141.842691, -12.741548], [141.68699, -12.407614], [141.928629, -11.877466], [142.118488, -11.328042], [142.143706, -11.042737], [142.51526, -10.668186], [142.79731, -11.157355], [142.866763, -11.784707], [143.115947, -11.90563], [143.158632, -12.325656], [143.522124, -12.834358], [143.597158, -13.400422], [143.561811, -13.763656]]]], &quot;type&quot;: &quot;MultiPolygon&quot;}, &quot;id&quot;: &quot;AUS&quot;, &quot;properties&quot;: {&quot;name&quot;: &quot;Australia&quot;}, &quot;type&quot;: &quot;Feature&quot;}, {&quot;geometry&quot;: {&quot;coordinates&quot;: [[[16.979667, 48.123497], [16.903754, 47.714866], [16.340584, 47.712902], [16.534268, 47.496171], [16.202298, 46.852386], [16.011664, 46.683611], [15.137092, 46.658703], [14.632472, 46.431817], [13.806475, 46.509306], [12.376485, 46.767559], [12.153088, 47.115393], [11.164828, 46.941579], [11.048556, 46.751359], [10.442701, 46.893546], [9.932448, 46.920728], [9.47997, 47.10281], [9.632932, 47.347601], [9.594226, 47.525058], [9.896068, 47.580197], [10.402084, 47.302488], [10.544504, 47.566399], [11.426414, 47.523766], [12.141357, 47.703083], [12.62076, 47.672388], [12.932627, 47.467646], [13.025851, 47.637584], [12.884103, 48.289146], [13.243357, 48.416115], [13.595946, 48.877172], [14.338898, 48.555305], [14.901447, 48.964402], [15.253416, 49.039074], [16.029647, 48.733899], [16.499283, 48.785808], [16.960288, 48.596982], [16.879983, 48.470013], [16.979667, 48.123497]]], &quot;type&quot;: &quot;Polygon&quot;}, &quot;id&quot;: &quot;AUT&quot;, &quot;properties&quot;: {&quot;name&quot;: &quot;Austria&quot;}, &quot;type&quot;: &quot;Feature&quot;}, {&quot;geometry&quot;: {&quot;coordinates&quot;: [[[22.65715, 44.234923], [22.944832, 43.823785], [23.332302, 43.897011], [24.100679, 43.741051], [25.569272, 43.688445], [26.065159, 43.943494], [27.2424, 44.175986], [27.970107, 43.812468], [28.558081, 43.707462], [28.039095, 43.293172], [27.673898, 42.577892], [27.99672, 42.007359], [27.135739, 42.141485], [26.117042, 41.826905], [26.106138, 41.328899], [25.197201, 41.234486], [24.492645, 41.583896], [23.692074, 41.309081], [22.952377, 41.337994], [22.881374, 41.999297], [22.380526, 42.32026], [22.545012, 42.461362], [22.436595, 42.580321], [22.604801, 42.898519], [22.986019, 43.211161], [22.500157, 43.642814], [22.410446, 44.008063], [22.65715, 44.234923]]], &quot;type&quot;: &quot;Polygon&quot;}, &quot;id&quot;: &quot;BGR&quot;, &quot;properties&quot;: {&quot;name&quot;: &quot;Bulgaria&quot;}, &quot;type&quot;: &quot;Feature&quot;}, {&quot;geometry&quot;: {&quot;coordinates&quot;: [[[19.005486, 44.860234], [19.36803, 44.863], [19.11761, 44.42307], [19.59976, 44.03847], [19.454, 43.5681], [19.21852, 43.52384], [19.03165, 43.43253], [18.70648, 43.20011], [18.56, 42.65], [17.674922, 43.028563], [17.297373, 43.446341], [16.916156, 43.667722], [16.456443, 44.04124], [16.23966, 44.351143], [15.750026, 44.818712], [15.959367, 45.233777], [16.318157, 45.004127], [16.534939, 45.211608], [17.002146, 45.233777], [17.861783, 45.06774], [18.553214, 45.08159], [19.005486, 44.860234]]], &quot;type&quot;: &quot;Polygon&quot;}, &quot;id&quot;: &quot;BIH&quot;, &quot;properties&quot;: {&quot;name&quot;: &quot;Bosnia and Herzegovina&quot;}, &quot;type&quot;: &quot;Feature&quot;}, {&quot;geometry&quot;: {&quot;coordinates&quot;: [[[-57.625133, -30.216295], [-56.2909, -28.852761], [-55.162286, -27.881915], [-54.490725, -27.474757], [-53.648735, -26.923473], [-53.628349, -26.124865], [-54.13005, -25.547639], [-54.625291, -25.739255], [-54.428946, -25.162185], [-54.293476, -24.5708], [-54.29296, -24.021014], [-54.652834, -23.839578], [-55.027902, -24.001274], [-55.400747, -23.956935], [-55.517639, -23.571998], [-55.610683, -22.655619], [-55.797958, -22.35693], [-56.473317, -22.0863], [-56.88151, -22.282154], [-57.937156, -22.090176], [-57.870674, -20.732688], [-58.166392, -20.176701], [-57.853802, -19.969995], [-57.949997, -19.400004], [-57.676009, -18.96184], [-57.498371, -18.174188], [-57.734558, -17.552468], [-58.280804, -17.27171], [-58.388058, -16.877109], [-58.24122, -16.299573], [-60.15839, -16.258284], [-60.542966, -15.09391], [-60.251149, -15.077219], [-60.264326, -14.645979], [-60.459198, -14.354007], [-60.503304, -13.775955], [-61.084121, -13.479384], [-61.713204, -13.489202], [-62.127081, -13.198781], [-62.80306, -13.000653], [-63.196499, -12.627033], [-64.316353, -12.461978], [-65.402281, -11.56627], [-65.321899, -10.895872], [-65.444837, -10.511451], [-65.338435, -9.761988], [-66.646908, -9.931331], [-67.173801, -10.306812], [-68.048192, -10.712059], [-68.271254, -11.014521], [-68.786158, -11.03638], [-69.529678, -10.951734], [-70.093752, -11.123972], [-70.548686, -11.009147], [-70.481894, -9.490118], [-71.302412, -10.079436], [-72.184891, -10.053598], [-72.563033, -9.520194], [-73.226713, -9.462213], [-73.015383, -9.032833], [-73.571059, -8.424447], [-73.987235, -7.52383], [-73.723401, -7.340999], [-73.724487, -6.918595], [-73.120027, -6.629931], [-73.219711, -6.089189], [-72.964507, -5.741251], [-72.891928, -5.274561], [-71.748406, -4.593983], [-70.928843, -4.401591], [-70.794769, -4.251265], [-69.893635, -4.298187], [-69.444102, -1.556287], [-69.420486, -1.122619], [-69.577065, -0.549992], [-70.020656, -0.185156], [-70.015566, 0.541414], [-69.452396, 0.706159], [-69.252434, 0.602651], [-69.218638, 0.985677], [-69.804597, 1.089081], [-69.816973, 1.714805], [-67.868565, 1.692455], [-67.53781, 2.037163], [-67.259998, 1.719999], [-67.065048, 1.130112], [-66.876326, 1.253361], [-66.325765, 0.724452], [-65.548267, 0.789254], [-65.354713, 1.095282], [-64.611012, 1.328731], [-64.199306, 1.492855], [-64.083085, 1.916369], [-63.368788, 2.2009], [-63.422867, 2.411068], [-64.269999, 2.497006], [-64.408828, 3.126786], [-64.368494, 3.79721], [-64.816064, 4.056445], [-64.628659, 4.148481], [-63.888343, 4.02053], [-63.093198, 3.770571], [-62.804533, 4.006965], [-62.08543, 4.162124], [-60.966893, 4.536468], [-60.601179, 4.918098], [-60.733574, 5.200277], [-60.213683, 5.244486], [-59.980959, 5.014061], [-60.111002, 4.574967], [-59.767406, 4.423503], [-59.53804, 3.958803], [-59.815413, 3.606499], [-59.974525, 2.755233], [-59.718546, 2.24963], [-59.646044, 1.786894], [-59.030862, 1.317698], [-58.540013, 1.268088], [-58.429477, 1.463942], [-58.11345, 1.507195], [-57.660971, 1.682585], [-57.335823, 1.948538], [-56.782704, 1.863711], [-56.539386, 1.899523], [-55.995698, 1.817667], [-55.9056, 2.021996], [-56.073342, 2.220795], [-55.973322, 2.510364], [-55.569755, 2.421506], [-55.097587, 2.523748], [-54.524754, 2.311849], [-54.088063, 2.105557], [-53.778521, 2.376703], [-53.554839, 2.334897], [-53.418465, 2.053389], [-52.939657, 2.124858], [-52.556425, 2.504705], [-52.249338, 3.241094], [-51.657797, 4.156232], [-51.317146, 4.203491], [-51.069771, 3.650398], [-50.508875, 1.901564], [-49.974076, 1.736483], [-49.947101, 1.04619], [-50.699251, 0.222984], [-50.388211, -0.078445], [-48.620567, -0.235489], [-48.584497, -1.237805], [-47.824956, -0.581618], [-46.566584, -0.941028], [-44.905703, -1.55174], [-44.417619, -2.13775], [-44.581589, -2.691308], [-43.418791, -2.38311], [-41.472657, -2.912018], [-39.978665, -2.873054], [-38.500383, -3.700652], [-37.223252, -4.820946], [-36.452937, -5.109404], [-35.597796, -5.149504], [-35.235389, -5.464937], [-34.89603, -6.738193], [-34.729993, -7.343221], [-35.128212, -8.996401], [-35.636967, -9.649282], [-37.046519, -11.040721], [-37.683612, -12.171195], [-38.423877, -13.038119], [-38.673887, -13.057652], [-38.953276, -13.79337], [-38.882298, -15.667054], [-39.161092, -17.208407], [-39.267339, -17.867746], [-39.583521, -18.262296], [-39.760823, -19.599113], [-40.774741, -20.904512], [-40.944756, -21.937317], [-41.754164, -22.370676], [-41.988284, -22.97007], [-43.074704, -22.967693], [-44.647812, -23.351959], [-45.352136, -23.796842], [-46.472093, -24.088969], [-47.648972, -24.885199], [-48.495458, -25.877025], [-48.641005, -26.623698], [-48.474736, -27.175912], [-48.66152, -28.186135], [-48.888457, -28.674115], [-49.587329, -29.224469], [-50.696874, -30.984465], [-51.576226, -31.777698], [-52.256081, -32.24537], [-52.7121, -33.196578], [-53.373662, -33.768378], [-53.650544, -33.202004], [-53.209589, -32.727666], [-53.787952, -32.047243], [-54.572452, -31.494511], [-55.60151, -30.853879], [-55.973245, -30.883076], [-56.976026, -30.109686], [-57.625133, -30.216295]]], &quot;type&quot;: &quot;Polygon&quot;}, &quot;id&quot;: &quot;BRA&quot;, &quot;properties&quot;: {&quot;name&quot;: &quot;Brazil&quot;}, &quot;type&quot;: &quot;Feature&quot;}, {&quot;geometry&quot;: {&quot;coordinates&quot;: [[[[-63.6645, 46.55001], [-62.9393, 46.41587], [-62.01208, 46.44314], [-62.50391, 46.03339], [-62.87433, 45.96818], [-64.1428, 46.39265], [-64.39261, 46.72747], [-64.01486, 47.03601], [-63.6645, 46.55001]]], [[[-61.806305, 49.10506], [-62.29318, 49.08717], [-63.58926, 49.40069], [-64.51912, 49.87304], [-64.17322, 49.95718], [-62.85829, 49.70641], [-61.835585, 49.28855], [-61.806305, 49.10506]]], [[[-123.510002, 48.510011], [-124.012891, 48.370846], [-125.655013, 48.825005], [-125.954994, 49.179996], [-126.850004, 49.53], [-127.029993, 49.814996], [-128.059336, 49.994959], [-128.444584, 50.539138], [-128.358414, 50.770648], [-127.308581, 50.552574], [-126.695001, 50.400903], [-125.755007, 50.295018], [-125.415002, 49.950001], [-124.920768, 49.475275], [-123.922509, 49.062484], [-123.510002, 48.510011]]], [[[-56.134036, 50.68701], [-56.795882, 49.812309], [-56.143105, 50.150117], [-55.471492, 49.935815], [-55.822401, 49.587129], [-54.935143, 49.313011], [-54.473775, 49.556691], [-53.476549, 49.249139], [-53.786014, 48.516781], [-53.086134, 48.687804], [-52.958648, 48.157164], [-52.648099, 47.535548], [-53.069158, 46.655499], [-53.521456, 46.618292], [-54.178936, 46.807066], [-53.961869, 47.625207], [-54.240482, 47.752279], [-55.400773, 46.884994], [-55.997481, 46.91972], [-55.291219, 47.389562], [-56.250799, 47.632545], [-57.325229, 47.572807], [-59.266015, 47.603348], [-59.419494, 47.899454], [-58.796586, 48.251525], [-59.231625, 48.523188], [-58.391805, 49.125581], [-57.35869, 50.718274], [-56.73865, 51.287438], [-55.870977, 51.632094], [-55.406974, 51.588273], [-55.600218, 51.317075], [-56.134036, 50.68701]]], [[[-132.710008, 54.040009], [-131.74999, 54.120004], [-132.04948, 52.984621], [-131.179043, 52.180433], [-131.57783, 52.182371], [-132.180428, 52.639707], [-132.549992, 53.100015], [-133.054611, 53.411469], [-133.239664, 53.85108], [-133.180004, 54.169975], [-132.710008, 54.040009]]], [[[-79.26582, 62.158675], [-79.65752, 61.63308], [-80.09956, 61.7181], [-80.36215, 62.01649], [-80.315395, 62.085565], [-79.92939, 62.3856], [-79.52002, 62.36371], [-79.26582, 62.158675]]], [[[-81.89825, 62.7108], [-83.06857, 62.15922], [-83.77462, 62.18231], [-83.99367, 62.4528], [-83.25048, 62.91409], [-81.87699, 62.90458], [-81.89825, 62.7108]]], [[[-85.161308, 65.657285], [-84.975764, 65.217518], [-84.464012, 65.371772], [-83.882626, 65.109618], [-82.787577, 64.766693], [-81.642014, 64.455136], [-81.55344, 63.979609], [-80.817361, 64.057486], [-80.103451, 63.725981], [-80.99102, 63.411246], [-82.547178, 63.651722], [-83.108798, 64.101876], [-84.100417, 63.569712], [-85.523405, 63.052379], [-85.866769, 63.637253], [-87.221983, 63.541238], [-86.35276, 64.035833], [-86.224886, 64.822917], [-85.883848, 65.738778], [-85.161308, 65.657285]]], [[[-75.86588, 67.14886], [-76.98687, 67.09873], [-77.2364, 67.58809], [-76.81166, 68.14856], [-75.89521, 68.28721], [-75.1145, 68.01036], [-75.10333, 67.58202], [-75.21597, 67.44425], [-75.86588, 67.14886]]], [[[-95.647681, 69.10769], [-96.269521, 68.75704], [-97.617401, 69.06003], [-98.431801, 68.9507], [-99.797401, 69.40003], [-98.917401, 69.71003], [-98.218261, 70.14354], [-97.157401, 69.86003], [-96.557401, 69.68003], [-96.257401, 69.49003], [-95.647681, 69.10769]]], [[[-90.5471, 69.49766], [-90.55151, 68.47499], [-89.21515, 69.25873], [-88.01966, 68.61508], [-88.31749, 67.87338], [-87.35017, 67.19872], [-86.30607, 67.92146], [-85.57664, 68.78456], [-85.52197, 69.88211], [-84.10081, 69.80539], [-82.62258, 69.65826], [-81.28043, 69.16202], [-81.2202, 68.66567], [-81.96436, 68.13253], [-81.25928, 67.59716], [-81.38653, 67.11078], [-83.34456, 66.41154], [-84.73542, 66.2573], [-85.76943, 66.55833], [-86.0676, 66.05625], [-87.03143, 65.21297], [-87.32324, 64.77563], [-88.48296, 64.09897], [-89.91444, 64.03273], [-90.70398, 63.61017], [-90.77004, 62.96021], [-91.93342, 62.83508], [-93.15698, 62.02469], [-94.24153, 60.89865], [-94.62931, 60.11021], [-94.6846, 58.94882], [-93.21502, 58.78212], [-92.76462, 57.84571], [-92.29703, 57.08709], [-90.89769, 57.28468], [-89.03953, 56.85172], [-88.03978, 56.47162], [-87.32421, 55.99914], [-86.07121, 55.72383], [-85.01181, 55.3026], [-83.36055, 55.24489], [-82.27285, 55.14832], [-82.4362, 54.28227], [-82.12502, 53.27703], [-81.40075, 52.15788], [-79.91289, 51.20842], [-79.14301, 51.53393], [-78.60191, 52.56208], [-79.12421, 54.14145], [-79.82958, 54.66772], [-78.22874, 55.13645], [-77.0956, 55.83741], [-76.54137, 56.53423], [-76.62319, 57.20263], [-77.30226, 58.05209], [-78.51688, 58.80458], [-77.33676, 59.85261], [-77.77272, 60.75788], [-78.10687, 62.31964], [-77.41067, 62.55053], [-75.69621, 62.2784], [-74.6682, 62.18111], [-73.83988, 62.4438], [-72.90853, 62.10507], [-71.67708, 61.52535], [-71.37369, 61.13717], [-69.59042, 61.06141], [-69.62033, 60.22125], [-69.2879, 58.95736], [-68.37455, 58.80106], [-67.64976, 58.21206], [-66.20178, 58.76731], [-65.24517, 59.87071], [-64.58352, 60.33558], [-63.80475, 59.4426], [-62.50236, 58.16708], [-61.39655, 56.96745], [-61.79866, 56.33945], [-60.46853, 55.77548], [-59.56962, 55.20407], [-57.97508, 54.94549], [-57.3332, 54.6265], [-56.93689, 53.78032], [-56.15811, 53.64749], [-55.75632, 53.27036], [-55.68338, 52.14664], [-56.40916, 51.7707], [-57.12691, 51.41972], [-58.77482, 51.0643], [-60.03309, 50.24277], [-61.72366, 50.08046], [-63.86251, 50.29099], [-65.36331, 50.2982], [-66.39905, 50.22897], [-67.23631, 49.51156], [-68.51114, 49.06836], [-69.95362, 47.74488], [-71.10458, 46.82171], [-70.25522, 46.98606], [-68.65, 48.3], [-66.55243, 49.1331], [-65.05626, 49.23278], [-64.17099, 48.74248], [-65.11545, 48.07085], [-64.79854, 46.99297], [-64.47219, 46.23849], [-63.17329, 45.73902], [-61.52072, 45.88377], [-60.51815, 47.00793], [-60.4486, 46.28264], [-59.80287, 45.9204], [-61.03988, 45.26525], [-63.25471, 44.67014], [-64.24656, 44.26553], [-65.36406, 43.54523], [-66.1234, 43.61867], [-66.16173, 44.46512], [-64.42549, 45.29204], [-66.02605, 45.25931], [-67.13741, 45.13753], [-67.79134, 45.70281], [-67.79046, 47.06636], [-68.23444, 47.35486], [-68.905, 47.185], [-69.237216, 47.447781], [-69.99997, 46.69307], [-70.305, 45.915], [-70.66, 45.46], [-71.08482, 45.30524], [-71.405, 45.255], [-71.50506, 45.0082], [-73.34783, 45.00738], [-74.867, 45.00048], [-75.31821, 44.81645], [-76.375, 44.09631], [-76.5, 44.018459], [-76.820034, 43.628784], [-77.737885, 43.629056], [-78.72028, 43.625089], [-79.171674, 43.466339], [-79.01, 43.27], [-78.92, 42.965], [-78.939362, 42.863611], [-80.247448, 42.3662], [-81.277747, 42.209026], [-82.439278, 41.675105], [-82.690089, 41.675105], [-83.02981, 41.832796], [-83.142, 41.975681], [-83.12, 42.08], [-82.9, 42.43], [-82.43, 42.98], [-82.137642, 43.571088], [-82.337763, 44.44], [-82.550925, 45.347517], [-83.592851, 45.816894], [-83.469551, 45.994686], [-83.616131, 46.116927], [-83.890765, 46.116927], [-84.091851, 46.275419], [-84.14212, 46.512226], [-84.3367, 46.40877], [-84.6049, 46.4396], [-84.543749, 46.538684], [-84.779238, 46.637102], [-84.87608, 46.900083], [-85.652363, 47.220219], [-86.461991, 47.553338], [-87.439793, 47.94], [-88.378114, 48.302918], [-89.272917, 48.019808], [-89.6, 48.01], [-90.83, 48.27], [-91.64, 48.14], [-92.61, 48.45], [-93.63087, 48.60926], [-94.32914, 48.67074], [-94.64, 48.84], [-94.81758, 49.38905], [-95.15609, 49.38425], [-95.15907, 49], [-97.22872, 49.0007], [-100.65, 49], [-104.04826, 48.99986], [-107.05, 49], [-110.05, 49], [-113, 49], [-116.04818, 49], [-117.03121, 49], [-120, 49], [-122.84, 49], [-122.97421, 49.002538], [-124.91024, 49.98456], [-125.62461, 50.41656], [-127.43561, 50.83061], [-127.99276, 51.71583], [-127.85032, 52.32961], [-129.12979, 52.75538], [-129.30523, 53.56159], [-130.51497, 54.28757], [-130.53611, 54.80278], [-129.98, 55.285], [-130.00778, 55.91583], [-131.70781, 56.55212], [-132.73042, 57.69289], [-133.35556, 58.41028], [-134.27111, 58.86111], [-134.945, 59.27056], [-135.47583, 59.78778], [-136.47972, 59.46389], [-137.4525, 58.905], [-138.34089, 59.56211], [-139.039, 60], [-140.013, 60.27682], [-140.99778, 60.30639], [-140.9925, 66.00003], [-140.986, 69.712], [-139.12052, 69.47102], [-137.54636, 68.99002], [-136.50358, 68.89804], [-135.62576, 69.31512], [-134.41464, 69.62743], [-132.92925, 69.50534], [-131.43136, 69.94451], [-129.79471, 70.19369], [-129.10773, 69.77927], [-128.36156, 70.01286], [-128.13817, 70.48384], [-127.44712, 70.37721], [-125.75632, 69.48058], [-124.42483, 70.1584], [-124.28968, 69.39969], [-123.06108, 69.56372], [-122.6835, 69.85553], [-121.47226, 69.79778], [-119.94288, 69.37786], [-117.60268, 69.01128], [-116.22643, 68.84151], [-115.2469, 68.90591], [-113.89794, 68.3989], [-115.30489, 67.90261], [-113.49727, 67.68815], [-110.798, 67.80612], [-109.94619, 67.98104], [-108.8802, 67.38144], [-107.79239, 67.88736], [-108.81299, 68.31164], [-108.16721, 68.65392], [-106.95, 68.7], [-106.15, 68.8], [-105.34282, 68.56122], [-104.33791, 68.018], [-103.22115, 68.09775], [-101.45433, 67.64689], [-99.90195, 67.80566], [-98.4432, 67.78165], [-98.5586, 68.40394], [-97.66948, 68.57864], [-96.11991, 68.23939], [-96.12588, 67.29338], [-95.48943, 68.0907], [-94.685, 68.06383], [-94.23282, 69.06903], [-95.30408, 69.68571], [-96.47131, 70.08976], [-96.39115, 71.19482], [-95.2088, 71.92053], [-93.88997, 71.76015], [-92.87818, 71.31869], [-91.51964, 70.19129], [-92.40692, 69.69997], [-90.5471, 69.49766]]], [[[-114.16717, 73.12145], [-114.66634, 72.65277], [-112.44102, 72.9554], [-111.05039, 72.4504], [-109.92035, 72.96113], [-109.00654, 72.63335], [-108.18835, 71.65089], [-107.68599, 72.06548], [-108.39639, 73.08953], [-107.51645, 73.23598], [-106.52259, 73.07601], [-105.40246, 72.67259], [-104.77484, 71.6984], [-104.46476, 70.99297], [-102.78537, 70.49776], [-100.98078, 70.02432], [-101.08929, 69.58447], [-102.73116, 69.50402], [-102.09329, 69.11962], [-102.43024, 68.75282], [-104.24, 68.91], [-105.96, 69.18], [-107.12254, 69.11922], [-109, 68.78], [-111.534149, 68.630059], [-113.3132, 68.53554], [-113.85496, 69.00744], [-115.22, 69.28], [-116.10794, 69.16821], [-117.34, 69.96], [-116.67473, 70.06655], [-115.13112, 70.2373], [-113.72141, 70.19237], [-112.4161, 70.36638], [-114.35, 70.6], [-116.48684, 70.52045], [-117.9048, 70.54056], [-118.43238, 70.9092], [-116.11311, 71.30918], [-117.65568, 71.2952], [-119.40199, 71.55859], [-118.56267, 72.30785], [-117.86642, 72.70594], [-115.18909, 73.31459], [-114.16717, 73.12145]]], [[[-104.5, 73.42], [-105.38, 72.76], [-106.94, 73.46], [-106.6, 73.6], [-105.26, 73.64], [-104.5, 73.42]]], [[[-76.34, 73.102685], [-76.251404, 72.826385], [-77.314438, 72.855545], [-78.39167, 72.876656], [-79.486252, 72.742203], [-79.775833, 72.802902], [-80.876099, 73.333183], [-80.833885, 73.693184], [-80.353058, 73.75972], [-78.064438, 73.651932], [-76.34, 73.102685]]], [[[-86.562179, 73.157447], [-85.774371, 72.534126], [-84.850112, 73.340278], [-82.31559, 73.750951], [-80.600088, 72.716544], [-80.748942, 72.061907], [-78.770639, 72.352173], [-77.824624, 72.749617], [-75.605845, 72.243678], [-74.228616, 71.767144], [-74.099141, 71.33084], [-72.242226, 71.556925], [-71.200015, 70.920013], [-68.786054, 70.525024], [-67.91497, 70.121948], [-66.969033, 69.186087], [-68.805123, 68.720198], [-66.449866, 68.067163], [-64.862314, 67.847539], [-63.424934, 66.928473], [-61.851981, 66.862121], [-62.163177, 66.160251], [-63.918444, 64.998669], [-65.14886, 65.426033], [-66.721219, 66.388041], [-68.015016, 66.262726], [-68.141287, 65.689789], [-67.089646, 65.108455], [-65.73208, 64.648406], [-65.320168, 64.382737], [-64.669406, 63.392927], [-65.013804, 62.674185], [-66.275045, 62.945099], [-68.783186, 63.74567], [-67.369681, 62.883966], [-66.328297, 62.280075], [-66.165568, 61.930897], [-68.877367, 62.330149], [-71.023437, 62.910708], [-72.235379, 63.397836], [-71.886278, 63.679989], [-73.378306, 64.193963], [-74.834419, 64.679076], [-74.818503, 64.389093], [-77.70998, 64.229542], [-78.555949, 64.572906], [-77.897281, 65.309192], [-76.018274, 65.326969], [-73.959795, 65.454765], [-74.293883, 65.811771], [-73.944912, 66.310578], [-72.651167, 67.284576], [-72.92606, 67.726926], [-73.311618, 68.069437], [-74.843307, 68.554627], [-76.869101, 68.894736], [-76.228649, 69.147769], [-77.28737, 69.76954], [-78.168634, 69.826488], [-78.957242, 70.16688], [-79.492455, 69.871808], [-81.305471, 69.743185], [-84.944706, 69.966634], [-87.060003, 70.260001], [-88.681713, 70.410741], [-89.51342, 70.762038], [-88.467721, 71.218186], [-89.888151, 71.222552], [-90.20516, 72.235074], [-89.436577, 73.129464], [-88.408242, 73.537889], [-85.826151, 73.803816], [-86.562179, 73.157447]]], [[[-100.35642, 73.84389], [-99.16387, 73.63339], [-97.38, 73.76], [-97.12, 73.47], [-98.05359, 72.99052], [-96.54, 72.56], [-96.72, 71.66], [-98.35966, 71.27285], [-99.32286, 71.35639], [-100.01482, 71.73827], [-102.5, 72.51], [-102.48, 72.83], [-100.43836, 72.70588], [-101.54, 73.36], [-100.35642, 73.84389]]], [[[-93.196296, 72.771992], [-94.269047, 72.024596], [-95.409856, 72.061881], [-96.033745, 72.940277], [-96.018268, 73.43743], [-95.495793, 73.862417], [-94.503658, 74.134907], [-92.420012, 74.100025], [-90.509793, 73.856732], [-92.003965, 72.966244], [-93.196296, 72.771992]]], [[[-120.46, 71.383602], [-123.09219, 70.90164], [-123.62, 71.34], [-125.928949, 71.868688], [-125.5, 72.292261], [-124.80729, 73.02256], [-123.94, 73.68], [-124.91775, 74.29275], [-121.53788, 74.44893], [-120.10978, 74.24135], [-117.55564, 74.18577], [-116.58442, 73.89607], [-115.51081, 73.47519], [-116.76794, 73.22292], [-119.22, 72.52], [-120.46, 71.82], [-120.46, 71.383602]]], [[[-93.612756, 74.979997], [-94.156909, 74.592347], [-95.608681, 74.666864], [-96.820932, 74.927623], [-96.288587, 75.377828], [-94.85082, 75.647218], [-93.977747, 75.29649], [-93.612756, 74.979997]]], [[[-98.5, 76.72], [-97.735585, 76.25656], [-97.704415, 75.74344], [-98.16, 75], [-99.80874, 74.89744], [-100.88366, 75.05736], [-100.86292, 75.64075], [-102.50209, 75.5638], [-102.56552, 76.3366], [-101.48973, 76.30537], [-99.98349, 76.64634], [-98.57699, 76.58859], [-98.5, 76.72]]], [[[-108.21141, 76.20168], [-107.81943, 75.84552], [-106.92893, 76.01282], [-105.881, 75.9694], [-105.70498, 75.47951], [-106.31347, 75.00527], [-109.7, 74.85], [-112.22307, 74.41696], [-113.74381, 74.39427], [-113.87135, 74.72029], [-111.79421, 75.1625], [-116.31221, 75.04343], [-117.7104, 75.2222], [-116.34602, 76.19903], [-115.40487, 76.47887], [-112.59056, 76.14134], [-110.81422, 75.54919], [-109.0671, 75.47321], [-110.49726, 76.42982], [-109.5811, 76.79417], [-108.54859, 76.67832], [-108.21141, 76.20168]]], [[[-94.684086, 77.097878], [-93.573921, 76.776296], [-91.605023, 76.778518], [-90.741846, 76.449597], [-90.969661, 76.074013], [-89.822238, 75.847774], [-89.187083, 75.610166], [-87.838276, 75.566189], [-86.379192, 75.482421], [-84.789625, 75.699204], [-82.753445, 75.784315], [-81.128531, 75.713983], [-80.057511, 75.336849], [-79.833933, 74.923127], [-80.457771, 74.657304], [-81.948843, 74.442459], [-83.228894, 74.564028], [-86.097452, 74.410032], [-88.15035, 74.392307], [-89.764722, 74.515555], [-92.422441, 74.837758], [-92.768285, 75.38682], [-92.889906, 75.882655], [-93.893824, 76.319244], [-95.962457, 76.441381], [-97.121379, 76.751078], [-96.745123, 77.161389], [-94.684086, 77.097878]]], [[[-116.198587, 77.645287], [-116.335813, 76.876962], [-117.106051, 76.530032], [-118.040412, 76.481172], [-119.899318, 76.053213], [-121.499995, 75.900019], [-122.854924, 76.116543], [-122.854925, 76.116543], [-121.157535, 76.864508], [-119.103939, 77.51222], [-117.570131, 77.498319], [-116.198587, 77.645287]]], [[[-93.840003, 77.519997], [-94.295608, 77.491343], [-96.169654, 77.555111], [-96.436304, 77.834629], [-94.422577, 77.820005], [-93.720656, 77.634331], [-93.840003, 77.519997]]], [[[-110.186938, 77.697015], [-112.051191, 77.409229], [-113.534279, 77.732207], [-112.724587, 78.05105], [-111.264443, 78.152956], [-109.854452, 77.996325], [-110.186938, 77.697015]]], [[[-109.663146, 78.601973], [-110.881314, 78.40692], [-112.542091, 78.407902], [-112.525891, 78.550555], [-111.50001, 78.849994], [-110.963661, 78.804441], [-109.663146, 78.601973]]], [[[-95.830295, 78.056941], [-97.309843, 77.850597], [-98.124289, 78.082857], [-98.552868, 78.458105], [-98.631984, 78.87193], [-97.337231, 78.831984], [-96.754399, 78.765813], [-95.559278, 78.418315], [-95.830295, 78.056941]]], [[[-100.060192, 78.324754], [-99.670939, 77.907545], [-101.30394, 78.018985], [-102.949809, 78.343229], [-105.176133, 78.380332], [-104.210429, 78.67742], [-105.41958, 78.918336], [-105.492289, 79.301594], [-103.529282, 79.165349], [-100.825158, 78.800462], [-100.060192, 78.324754]]], [[[-87.02, 79.66], [-85.81435, 79.3369], [-87.18756, 79.0393], [-89.03535, 78.28723], [-90.80436, 78.21533], [-92.87669, 78.34333], [-93.95116, 78.75099], [-93.93574, 79.11373], [-93.14524, 79.3801], [-94.974, 79.37248], [-96.07614, 79.70502], [-96.70972, 80.15777], [-96.01644, 80.60233], [-95.32345, 80.90729], [-94.29843, 80.97727], [-94.73542, 81.20646], [-92.40984, 81.25739], [-91.13289, 80.72345], [-89.45, 80.509322], [-87.81, 80.32], [-87.02, 79.66]]], [[[-68.5, 83.106322], [-65.82735, 83.02801], [-63.68, 82.9], [-61.85, 82.6286], [-61.89388, 82.36165], [-64.334, 81.92775], [-66.75342, 81.72527], [-67.65755, 81.50141], [-65.48031, 81.50657], [-67.84, 80.9], [-69.4697, 80.61683], [-71.18, 79.8], [-73.2428, 79.63415], [-73.88, 79.430162], [-76.90773, 79.32309], [-75.52924, 79.19766], [-76.22046, 79.01907], [-75.39345, 78.52581], [-76.34354, 78.18296], [-77.88851, 77.89991], [-78.36269, 77.50859], [-79.75951, 77.20968], [-79.61965, 76.98336], [-77.91089, 77.022045], [-77.88911, 76.777955], [-80.56125, 76.17812], [-83.17439, 76.45403], [-86.11184, 76.29901], [-87.6, 76.42], [-89.49068, 76.47239], [-89.6161, 76.95213], [-87.76739, 77.17833], [-88.26, 77.9], [-87.65, 77.970222], [-84.97634, 77.53873], [-86.34, 78.18], [-87.96192, 78.37181], [-87.15198, 78.75867], [-85.37868, 78.9969], [-85.09495, 79.34543], [-86.50734, 79.73624], [-86.93179, 80.25145], [-84.19844, 80.20836], [-83.408696, 80.1], [-81.84823, 80.46442], [-84.1, 80.58], [-87.59895, 80.51627], [-89.36663, 80.85569], [-90.2, 81.26], [-91.36786, 81.5531], [-91.58702, 81.89429], [-90.1, 82.085], [-88.93227, 82.11751], [-86.97024, 82.27961], [-85.5, 82.652273], [-84.260005, 82.6], [-83.18, 82.32], [-82.42, 82.86], [-81.1, 83.02], [-79.30664, 83.13056], [-76.25, 83.172059], [-75.71878, 83.06404], [-72.83153, 83.23324], [-70.665765, 83.169781], [-68.5, 83.106322]]]], &quot;type&quot;: &quot;MultiPolygon&quot;}, &quot;id&quot;: &quot;CAN&quot;, &quot;properties&quot;: {&quot;name&quot;: &quot;Canada&quot;}, &quot;type&quot;: &quot;Feature&quot;}, {&quot;geometry&quot;: {&quot;coordinates&quot;: [[[9.594226, 47.525058], [9.632932, 47.347601], [9.47997, 47.10281], [9.932448, 46.920728], [10.442701, 46.893546], [10.363378, 46.483571], [9.922837, 46.314899], [9.182882, 46.440215], [8.966306, 46.036932], [8.489952, 46.005151], [8.31663, 46.163642], [7.755992, 45.82449], [7.273851, 45.776948], [6.843593, 45.991147], [6.5001, 46.429673], [6.022609, 46.27299], [6.037389, 46.725779], [6.768714, 47.287708], [6.736571, 47.541801], [7.192202, 47.449766], [7.466759, 47.620582], [8.317301, 47.61358], [8.522612, 47.830828], [9.594226, 47.525058]]], &quot;type&quot;: &quot;Polygon&quot;}, &quot;id&quot;: &quot;CHE&quot;, &quot;properties&quot;: {&quot;name&quot;: &quot;Switzerland&quot;}, &quot;type&quot;: &quot;Feature&quot;}, {&quot;geometry&quot;: {&quot;coordinates&quot;: [[[[-68.63401, -52.63637], [-68.63335, -54.8695], [-67.56244, -54.87001], [-66.95992, -54.89681], [-67.29103, -55.30124], [-68.14863, -55.61183], [-68.639991, -55.580018], [-69.2321, -55.49906], [-69.95809, -55.19843], [-71.00568, -55.05383], [-72.2639, -54.49514], [-73.2852, -53.95752], [-74.66253, -52.83749], [-73.8381, -53.04743], [-72.43418, -53.7154], [-71.10773, -54.07433], [-70.59178, -53.61583], [-70.26748, -52.93123], [-69.34565, -52.5183], [-68.63401, -52.63637]]], [[[-68.219913, -21.494347], [-67.82818, -22.872919], [-67.106674, -22.735925], [-66.985234, -22.986349], [-67.328443, -24.025303], [-68.417653, -24.518555], [-68.386001, -26.185016], [-68.5948, -26.506909], [-68.295542, -26.89934], [-69.001235, -27.521214], [-69.65613, -28.459141], [-70.01355, -29.367923], [-69.919008, -30.336339], [-70.535069, -31.36501], [-70.074399, -33.09121], [-69.814777, -33.273886], [-69.817309, -34.193571], [-70.388049, -35.169688], [-70.364769, -36.005089], [-71.121881, -36.658124], [-71.118625, -37.576827], [-70.814664, -38.552995], [-71.413517, -38.916022], [-71.680761, -39.808164], [-71.915734, -40.832339], [-71.746804, -42.051386], [-72.148898, -42.254888], [-71.915424, -43.408565], [-71.464056, -43.787611], [-71.793623, -44.207172], [-71.329801, -44.407522], [-71.222779, -44.784243], [-71.659316, -44.973689], [-71.552009, -45.560733], [-71.917258, -46.884838], [-72.447355, -47.738533], [-72.331161, -48.244238], [-72.648247, -48.878618], [-73.415436, -49.318436], [-73.328051, -50.378785], [-72.975747, -50.74145], [-72.309974, -50.67701], [-72.329404, -51.425956], [-71.914804, -52.009022], [-69.498362, -52.142761], [-68.571545, -52.299444], [-69.461284, -52.291951], [-69.94278, -52.537931], [-70.845102, -52.899201], [-71.006332, -53.833252], [-71.429795, -53.856455], [-72.557943, -53.53141], [-73.702757, -52.835069], [-73.702757, -52.83507], [-74.946763, -52.262754], [-75.260026, -51.629355], [-74.976632, -51.043396], [-75.479754, -50.378372], [-75.608015, -48.673773], [-75.18277, -47.711919], [-74.126581, -46.939253], [-75.644395, -46.647643], [-74.692154, -45.763976], [-74.351709, -44.103044], [-73.240356, -44.454961], [-72.717804, -42.383356], [-73.3889, -42.117532], [-73.701336, -43.365776], [-74.331943, -43.224958], [-74.017957, -41.794813], [-73.677099, -39.942213], [-73.217593, -39.258689], [-73.505559, -38.282883], [-73.588061, -37.156285], [-73.166717, -37.12378], [-72.553137, -35.50884], [-71.861732, -33.909093], [-71.43845, -32.418899], [-71.668721, -30.920645], [-71.370083, -30.095682], [-71.489894, -28.861442], [-70.905124, -27.64038], [-70.724954, -25.705924], [-70.403966, -23.628997], [-70.091246, -21.393319], [-70.16442, -19.756468], [-70.372572, -18.347975], [-69.858444, -18.092694], [-69.590424, -17.580012], [-69.100247, -18.260125], [-68.966818, -18.981683], [-68.442225, -19.405068], [-68.757167, -20.372658], [-68.219913, -21.494347]]]], &quot;type&quot;: &quot;MultiPolygon&quot;}, &quot;id&quot;: &quot;CHL&quot;, &quot;properties&quot;: {&quot;name&quot;: &quot;Chile&quot;}, &quot;type&quot;: &quot;Feature&quot;}, {&quot;geometry&quot;: {&quot;coordinates&quot;: [[[[110.339188, 18.678395], [109.47521, 18.197701], [108.655208, 18.507682], [108.626217, 19.367888], [109.119056, 19.821039], [110.211599, 20.101254], [110.786551, 20.077534], [111.010051, 19.69593], [110.570647, 19.255879], [110.339188, 18.678395]]], [[[127.657407, 49.76027], [129.397818, 49.4406], [130.582293, 48.729687], [130.987282, 47.790132], [132.506672, 47.78897], [133.373596, 48.183442], [135.026311, 48.47823], [134.500814, 47.57844], [134.112362, 47.212467], [133.769644, 46.116927], [133.097127, 45.144066], [131.883454, 45.321162], [131.025212, 44.967953], [131.288555, 44.11152], [131.144688, 42.92999], [130.633866, 42.903015], [130.640016, 42.395009], [129.994267, 42.985387], [129.596669, 42.424982], [128.052215, 41.994285], [128.208433, 41.466772], [127.343783, 41.503152], [126.869083, 41.816569], [126.182045, 41.107336], [125.079942, 40.569824], [124.265625, 39.928493], [122.86757, 39.637788], [122.131388, 39.170452], [121.054554, 38.897471], [121.585995, 39.360854], [121.376757, 39.750261], [122.168595, 40.422443], [121.640359, 40.94639], [120.768629, 40.593388], [119.639602, 39.898056], [119.023464, 39.252333], [118.042749, 39.204274], [117.532702, 38.737636], [118.059699, 38.061476], [118.87815, 37.897325], [118.911636, 37.448464], [119.702802, 37.156389], [120.823457, 37.870428], [121.711259, 37.481123], [122.357937, 37.454484], [122.519995, 36.930614], [121.104164, 36.651329], [120.637009, 36.11144], [119.664562, 35.609791], [119.151208, 34.909859], [120.227525, 34.360332], [120.620369, 33.376723], [121.229014, 32.460319], [121.908146, 31.692174], [121.891919, 30.949352], [121.264257, 30.676267], [121.503519, 30.142915], [122.092114, 29.83252], [121.938428, 29.018022], [121.684439, 28.225513], [121.125661, 28.135673], [120.395473, 27.053207], [119.585497, 25.740781], [118.656871, 24.547391], [117.281606, 23.624501], [115.890735, 22.782873], [114.763827, 22.668074], [114.152547, 22.22376], [113.80678, 22.54834], [113.241078, 22.051367], [111.843592, 21.550494], [110.785466, 21.397144], [110.444039, 20.341033], [109.889861, 20.282457], [109.627655, 21.008227], [109.864488, 21.395051], [108.522813, 21.715212], [108.05018, 21.55238], [107.04342, 21.811899], [106.567273, 22.218205], [106.725403, 22.794268], [105.811247, 22.976892], [105.329209, 23.352063], [104.476858, 22.81915], [103.504515, 22.703757], [102.706992, 22.708795], [102.170436, 22.464753], [101.652018, 22.318199], [101.80312, 21.174367], [101.270026, 21.201652], [101.180005, 21.436573], [101.150033, 21.849984], [100.416538, 21.558839], [99.983489, 21.742937], [99.240899, 22.118314], [99.531992, 22.949039], [98.898749, 23.142722], [98.660262, 24.063286], [97.60472, 23.897405], [97.724609, 25.083637], [98.671838, 25.918703], [98.712094, 26.743536], [98.68269, 27.508812], [98.246231, 27.747221], [97.911988, 28.335945], [97.327114, 28.261583], [96.248833, 28.411031], [96.586591, 28.83098], [96.117679, 29.452802], [95.404802, 29.031717], [94.56599, 29.277438], [93.413348, 28.640629], [92.503119, 27.896876], [91.696657, 27.771742], [91.258854, 28.040614], [90.730514, 28.064954], [90.015829, 28.296439], [89.47581, 28.042759], [88.814248, 27.299316], [88.730326, 28.086865], [88.120441, 27.876542], [86.954517, 27.974262], [85.82332, 28.203576], [85.011638, 28.642774], [84.23458, 28.839894], [83.898993, 29.320226], [83.337115, 29.463732], [82.327513, 30.115268], [81.525804, 30.422717], [81.111256, 30.183481], [79.721367, 30.882715], [78.738894, 31.515906], [78.458446, 32.618164], [79.176129, 32.48378], [79.208892, 32.994395], [78.811086, 33.506198], [78.912269, 34.321936], [77.837451, 35.49401], [76.192848, 35.898403], [75.896897, 36.666806], [75.158028, 37.133031], [74.980002, 37.41999], [74.829986, 37.990007], [74.864816, 38.378846], [74.257514, 38.606507], [73.928852, 38.505815], [73.675379, 39.431237], [73.960013, 39.660008], [73.822244, 39.893973], [74.776862, 40.366425], [75.467828, 40.562072], [76.526368, 40.427946], [76.904484, 41.066486], [78.187197, 41.185316], [78.543661, 41.582243], [80.11943, 42.123941], [80.25999, 42.349999], [80.18015, 42.920068], [80.866206, 43.180362], [79.966106, 44.917517], [81.947071, 45.317027], [82.458926, 45.53965], [83.180484, 47.330031], [85.16429, 47.000956], [85.720484, 47.452969], [85.768233, 48.455751], [86.598776, 48.549182], [87.35997, 49.214981], [87.751264, 49.297198], [88.013832, 48.599463], [88.854298, 48.069082], [90.280826, 47.693549], [90.970809, 46.888146], [90.585768, 45.719716], [90.94554, 45.286073], [92.133891, 45.115076], [93.480734, 44.975472], [94.688929, 44.352332], [95.306875, 44.241331], [95.762455, 43.319449], [96.349396, 42.725635], [97.451757, 42.74889], [99.515817, 42.524691], [100.845866, 42.663804], [101.83304, 42.514873], [103.312278, 41.907468], [104.522282, 41.908347], [104.964994, 41.59741], [106.129316, 42.134328], [107.744773, 42.481516], [109.243596, 42.519446], [110.412103, 42.871234], [111.129682, 43.406834], [111.829588, 43.743118], [111.667737, 44.073176], [111.348377, 44.457442], [111.873306, 45.102079], [112.436062, 45.011646], [113.463907, 44.808893], [114.460332, 45.339817], [115.985096, 45.727235], [116.717868, 46.388202], [117.421701, 46.672733], [118.874326, 46.805412], [119.66327, 46.69268], [119.772824, 47.048059], [118.866574, 47.74706], [118.064143, 48.06673], [117.295507, 47.697709], [116.308953, 47.85341], [115.742837, 47.726545], [115.485282, 48.135383], [116.191802, 49.134598], [116.678801, 49.888531], [117.879244, 49.510983], [119.288461, 50.142883], [119.279366, 50.582908], [120.18205, 51.643566], [120.738191, 51.964115], [120.725789, 52.516226], [120.177089, 52.753886], [121.003085, 53.251401], [122.245748, 53.431726], [123.571507, 53.458804], [125.068211, 53.161045], [125.946349, 52.792799], [126.564399, 51.784255], [126.939157, 51.353894], [127.287456, 50.739797], [127.657407, 49.76027]]]], &quot;type&quot;: &quot;MultiPolygon&quot;}, &quot;id&quot;: &quot;CHN&quot;, &quot;properties&quot;: {&quot;name&quot;: &quot;China&quot;}, &quot;type&quot;: &quot;Feature&quot;}, {&quot;geometry&quot;: {&quot;coordinates&quot;: [[[33.973617, 35.058506], [34.004881, 34.978098], [32.979827, 34.571869], [32.490296, 34.701655], [32.256667, 35.103232], [32.73178, 35.140026], [32.919572, 35.087833], [33.190977, 35.173125], [33.383833, 35.162712], [33.455922, 35.101424], [33.475817, 35.000345], [33.525685, 35.038688], [33.675392, 35.017863], [33.86644, 35.093595], [33.973617, 35.058506]]], &quot;type&quot;: &quot;Polygon&quot;}, &quot;id&quot;: &quot;CYP&quot;, &quot;properties&quot;: {&quot;name&quot;: &quot;Cyprus&quot;}, &quot;type&quot;: &quot;Feature&quot;}, {&quot;geometry&quot;: {&quot;coordinates&quot;: [[[16.960288, 48.596982], [16.499283, 48.785808], [16.029647, 48.733899], [15.253416, 49.039074], [14.901447, 48.964402], [14.338898, 48.555305], [13.595946, 48.877172], [13.031329, 49.307068], [12.521024, 49.547415], [12.415191, 49.969121], [12.240111, 50.266338], [12.966837, 50.484076], [13.338132, 50.733234], [14.056228, 50.926918], [14.307013, 51.117268], [14.570718, 51.002339], [15.016996, 51.106674], [15.490972, 50.78473], [16.238627, 50.697733], [16.176253, 50.422607], [16.719476, 50.215747], [16.868769, 50.473974], [17.554567, 50.362146], [17.649445, 50.049038], [18.392914, 49.988629], [18.853144, 49.49623], [18.554971, 49.495015], [18.399994, 49.315001], [18.170498, 49.271515], [18.104973, 49.043983], [17.913512, 48.996493], [17.886485, 48.903475], [17.545007, 48.800019], [17.101985, 48.816969], [16.960288, 48.596982]]], &quot;type&quot;: &quot;Polygon&quot;}, &quot;id&quot;: &quot;CZE&quot;, &quot;properties&quot;: {&quot;name&quot;: &quot;Czech Republic&quot;}, &quot;type&quot;: &quot;Feature&quot;}, {&quot;geometry&quot;: {&quot;coordinates&quot;: [[[9.921906, 54.983104], [9.93958, 54.596642], [10.950112, 54.363607], [10.939467, 54.008693], [11.956252, 54.196486], [12.51844, 54.470371], [13.647467, 54.075511], [14.119686, 53.757029], [14.353315, 53.248171], [14.074521, 52.981263], [14.4376, 52.62485], [14.685026, 52.089947], [14.607098, 51.745188], [15.016996, 51.106674], [14.570718, 51.002339], [14.307013, 51.117268], [14.056228, 50.926918], [13.338132, 50.733234], [12.966837, 50.484076], [12.240111, 50.266338], [12.415191, 49.969121], [12.521024, 49.547415], [13.031329, 49.307068], [13.595946, 48.877172], [13.243357, 48.416115], [12.884103, 48.289146], [13.025851, 47.637584], [12.932627, 47.467646], [12.62076, 47.672388], [12.141357, 47.703083], [11.426414, 47.523766], [10.544504, 47.566399], [10.402084, 47.302488], [9.896068, 47.580197], [9.594226, 47.525058], [8.522612, 47.830828], [8.317301, 47.61358], [7.466759, 47.620582], [7.593676, 48.333019], [8.099279, 49.017784], [6.65823, 49.201958], [6.18632, 49.463803], [6.242751, 49.902226], [6.043073, 50.128052], [6.156658, 50.803721], [5.988658, 51.851616], [6.589397, 51.852029], [6.84287, 52.22844], [7.092053, 53.144043], [6.90514, 53.482162], [7.100425, 53.693932], [7.936239, 53.748296], [8.121706, 53.527792], [8.800734, 54.020786], [8.572118, 54.395646], [8.526229, 54.962744], [9.282049, 54.830865], [9.921906, 54.983104]]], &quot;type&quot;: &quot;Polygon&quot;}, &quot;id&quot;: &quot;DEU&quot;, &quot;properties&quot;: {&quot;name&quot;: &quot;Germany&quot;}, &quot;type&quot;: &quot;Feature&quot;}, {&quot;geometry&quot;: {&quot;coordinates&quot;: [[[-9.034818, 41.880571], [-8.984433, 42.592775], [-9.392884, 43.026625], [-7.97819, 43.748338], [-6.754492, 43.567909], [-5.411886, 43.57424], [-4.347843, 43.403449], [-3.517532, 43.455901], [-1.901351, 43.422802], [-1.502771, 43.034014], [0.338047, 42.579546], [0.701591, 42.795734], [1.826793, 42.343385], [2.985999, 42.473015], [3.039484, 41.89212], [2.091842, 41.226089], [0.810525, 41.014732], [0.721331, 40.678318], [0.106692, 40.123934], [-0.278711, 39.309978], [0.111291, 38.738514], [-0.467124, 38.292366], [-0.683389, 37.642354], [-1.438382, 37.443064], [-2.146453, 36.674144], [-3.415781, 36.6589], [-4.368901, 36.677839], [-4.995219, 36.324708], [-5.37716, 35.94685], [-5.866432, 36.029817], [-6.236694, 36.367677], [-6.520191, 36.942913], [-7.453726, 37.097788], [-7.537105, 37.428904], [-7.166508, 37.803894], [-7.029281, 38.075764], [-7.374092, 38.373059], [-7.098037, 39.030073], [-7.498632, 39.629571], [-7.066592, 39.711892], [-7.026413, 40.184524], [-6.86402, 40.330872], [-6.851127, 41.111083], [-6.389088, 41.381815], [-6.668606, 41.883387], [-7.251309, 41.918346], [-7.422513, 41.792075], [-8.013175, 41.790886], [-8.263857, 42.280469], [-8.671946, 42.134689], [-9.034818, 41.880571]]], &quot;type&quot;: &quot;Polygon&quot;}, &quot;id&quot;: &quot;ESP&quot;, &quot;properties&quot;: {&quot;name&quot;: &quot;Spain&quot;}, &quot;type&quot;: &quot;Feature&quot;}, {&quot;geometry&quot;: {&quot;coordinates&quot;: [[[[9.560016, 42.152492], [9.229752, 41.380007], [8.775723, 41.583612], [8.544213, 42.256517], [8.746009, 42.628122], [9.390001, 43.009985], [9.560016, 42.152492]]], [[[3.588184, 50.378992], [4.286023, 49.907497], [4.799222, 49.985373], [5.674052, 49.529484], [5.897759, 49.442667], [6.18632, 49.463803], [6.65823, 49.201958], [8.099279, 49.017784], [7.593676, 48.333019], [7.466759, 47.620582], [7.192202, 47.449766], [6.736571, 47.541801], [6.768714, 47.287708], [6.037389, 46.725779], [6.022609, 46.27299], [6.5001, 46.429673], [6.843593, 45.991147], [6.802355, 45.70858], [7.096652, 45.333099], [6.749955, 45.028518], [7.007562, 44.254767], [7.549596, 44.127901], [7.435185, 43.693845], [6.529245, 43.128892], [4.556963, 43.399651], [3.100411, 43.075201], [2.985999, 42.473015], [1.826793, 42.343385], [0.701591, 42.795734], [0.338047, 42.579546], [-1.502771, 43.034014], [-1.901351, 43.422802], [-1.384225, 44.02261], [-1.193798, 46.014918], [-2.225724, 47.064363], [-2.963276, 47.570327], [-4.491555, 47.954954], [-4.59235, 48.68416], [-3.295814, 48.901692], [-1.616511, 48.644421], [-1.933494, 49.776342], [-0.989469, 49.347376], [1.338761, 50.127173], [1.639001, 50.946606], [2.513573, 51.148506], [2.658422, 50.796848], [3.123252, 50.780363], [3.588184, 50.378992]]]], &quot;type&quot;: &quot;MultiPolygon&quot;}, &quot;id&quot;: &quot;FRA&quot;, &quot;properties&quot;: {&quot;name&quot;: &quot;France&quot;}, &quot;type&quot;: &quot;Feature&quot;}, {&quot;geometry&quot;: {&quot;coordinates&quot;: [[[41.554084, 41.535656], [41.703171, 41.962943], [41.45347, 42.645123], [40.875469, 43.013628], [40.321394, 43.128634], [39.955009, 43.434998], [40.076965, 43.553104], [40.922185, 43.382159], [42.394395, 43.220308], [43.756017, 42.740828], [43.9312, 42.554974], [44.537623, 42.711993], [45.470279, 42.502781], [45.77641, 42.092444], [46.404951, 41.860675], [46.145432, 41.722802], [46.637908, 41.181673], [46.501637, 41.064445], [45.962601, 41.123873], [45.217426, 41.411452], [44.97248, 41.248129], [43.582746, 41.092143], [42.619549, 41.583173], [41.554084, 41.535656]]], &quot;type&quot;: &quot;Polygon&quot;}, &quot;id&quot;: &quot;GEO&quot;, &quot;properties&quot;: {&quot;name&quot;: &quot;Georgia&quot;}, &quot;type&quot;: &quot;Feature&quot;}, {&quot;geometry&quot;: {&quot;coordinates&quot;: [[[[23.69998, 35.705004], [24.246665, 35.368022], [25.025015, 35.424996], [25.769208, 35.354018], [25.745023, 35.179998], [26.290003, 35.29999], [26.164998, 35.004995], [24.724982, 34.919988], [24.735007, 35.084991], [23.514978, 35.279992], [23.69998, 35.705004]]], [[[26.604196, 41.562115], [26.294602, 40.936261], [26.056942, 40.824123], [25.447677, 40.852545], [24.925848, 40.947062], [23.714811, 40.687129], [24.407999, 40.124993], [23.899968, 39.962006], [23.342999, 39.960998], [22.813988, 40.476005], [22.626299, 40.256561], [22.849748, 39.659311], [23.350027, 39.190011], [22.973099, 38.970903], [23.530016, 38.510001], [24.025025, 38.219993], [24.040011, 37.655015], [23.115003, 37.920011], [23.409972, 37.409991], [22.774972, 37.30501], [23.154225, 36.422506], [22.490028, 36.41], [21.670026, 36.844986], [21.295011, 37.644989], [21.120034, 38.310323], [20.730032, 38.769985], [20.217712, 39.340235], [20.150016, 39.624998], [20.615, 40.110007], [20.674997, 40.435], [20.99999, 40.580004], [21.02004, 40.842727], [21.674161, 40.931275], [22.055378, 41.149866], [22.597308, 41.130487], [22.76177, 41.3048], [22.952377, 41.337994], [23.692074, 41.309081], [24.492645, 41.583896], [25.197201, 41.234486], [26.106138, 41.328899], [26.117042, 41.826905], [26.604196, 41.562115]]]], &quot;type&quot;: &quot;MultiPolygon&quot;}, &quot;id&quot;: &quot;GRC&quot;, &quot;properties&quot;: {&quot;name&quot;: &quot;Greece&quot;}, &quot;type&quot;: &quot;Feature&quot;}, {&quot;geometry&quot;: {&quot;coordinates&quot;: [[[18.829838, 45.908878], [19.072769, 45.521511], [19.390476, 45.236516], [19.005486, 44.860234], [18.553214, 45.08159], [17.861783, 45.06774], [17.002146, 45.233777], [16.534939, 45.211608], [16.318157, 45.004127], [15.959367, 45.233777], [15.750026, 44.818712], [16.23966, 44.351143], [16.456443, 44.04124], [16.916156, 43.667722], [17.297373, 43.446341], [17.674922, 43.028563], [18.56, 42.65], [18.450016, 42.479991], [17.50997, 42.849995], [16.930006, 43.209998], [16.015385, 43.507215], [15.174454, 44.243191], [15.37625, 44.317915], [14.920309, 44.738484], [14.901602, 45.07606], [14.258748, 45.233777], [13.952255, 44.802124], [13.656976, 45.136935], [13.679403, 45.484149], [13.71506, 45.500324], [14.411968, 45.466166], [14.595109, 45.634941], [14.935244, 45.471695], [15.327675, 45.452316], [15.323954, 45.731783], [15.67153, 45.834154], [15.768733, 46.238108], [16.564808, 46.503751], [16.882515, 46.380632], [17.630066, 45.951769], [18.456062, 45.759481], [18.829838, 45.908878]]], &quot;type&quot;: &quot;Polygon&quot;}, &quot;id&quot;: &quot;HRV&quot;, &quot;properties&quot;: {&quot;name&quot;: &quot;Croatia&quot;}, &quot;type&quot;: &quot;Feature&quot;}, {&quot;geometry&quot;: {&quot;coordinates&quot;: [[[16.202298, 46.852386], [16.534268, 47.496171], [16.340584, 47.712902], [16.903754, 47.714866], [16.979667, 48.123497], [17.488473, 47.867466], [17.857133, 47.758429], [18.696513, 47.880954], [18.777025, 48.081768], [19.174365, 48.111379], [19.661364, 48.266615], [19.769471, 48.202691], [20.239054, 48.327567], [20.473562, 48.56285], [20.801294, 48.623854], [21.872236, 48.319971], [22.085608, 48.422264], [22.64082, 48.15024], [22.710531, 47.882194], [22.099768, 47.672439], [21.626515, 46.994238], [21.021952, 46.316088], [20.220192, 46.127469], [19.596045, 46.17173], [18.829838, 45.908878], [18.456062, 45.759481], [17.630066, 45.951769], [16.882515, 46.380632], [16.564808, 46.503751], [16.370505, 46.841327], [16.202298, 46.852386]]], &quot;type&quot;: &quot;Polygon&quot;}, &quot;id&quot;: &quot;HUN&quot;, &quot;properties&quot;: {&quot;name&quot;: &quot;Hungary&quot;}, &quot;type&quot;: &quot;Feature&quot;}, {&quot;geometry&quot;: {&quot;coordinates&quot;: [[[77.837451, 35.49401], [78.912269, 34.321936], [78.811086, 33.506198], [79.208892, 32.994395], [79.176129, 32.48378], [78.458446, 32.618164], [78.738894, 31.515906], [79.721367, 30.882715], [81.111256, 30.183481], [80.476721, 29.729865], [80.088425, 28.79447], [81.057203, 28.416095], [81.999987, 27.925479], [83.304249, 27.364506], [84.675018, 27.234901], [85.251779, 26.726198], [86.024393, 26.630985], [87.227472, 26.397898], [88.060238, 26.414615], [88.174804, 26.810405], [88.043133, 27.445819], [88.120441, 27.876542], [88.730326, 28.086865], [88.814248, 27.299316], [88.835643, 27.098966], [89.744528, 26.719403], [90.373275, 26.875724], [91.217513, 26.808648], [92.033484, 26.83831], [92.103712, 27.452614], [91.696657, 27.771742], [92.503119, 27.896876], [93.413348, 28.640629], [94.56599, 29.277438], [95.404802, 29.031717], [96.117679, 29.452802], [96.586591, 28.83098], [96.248833, 28.411031], [97.327114, 28.261583], [97.402561, 27.882536], [97.051989, 27.699059], [97.133999, 27.083774], [96.419366, 27.264589], [95.124768, 26.573572], [95.155153, 26.001307], [94.603249, 25.162495], [94.552658, 24.675238], [94.106742, 23.850741], [93.325188, 24.078556], [93.286327, 23.043658], [93.060294, 22.703111], [93.166128, 22.27846], [92.672721, 22.041239], [92.146035, 23.627499], [91.869928, 23.624346], [91.706475, 22.985264], [91.158963, 23.503527], [91.46773, 24.072639], [91.915093, 24.130414], [92.376202, 24.976693], [91.799596, 25.147432], [90.872211, 25.132601], [89.920693, 25.26975], [89.832481, 25.965082], [89.355094, 26.014407], [88.563049, 26.446526], [88.209789, 25.768066], [88.931554, 25.238692], [88.306373, 24.866079], [88.084422, 24.501657], [88.69994, 24.233715], [88.52977, 23.631142], [88.876312, 22.879146], [89.031961, 22.055708], [88.888766, 21.690588], [88.208497, 21.703172], [86.975704, 21.495562], [87.033169, 20.743308], [86.499351, 20.151638], [85.060266, 19.478579], [83.941006, 18.30201], [83.189217, 17.671221], [82.192792, 17.016636], [82.191242, 16.556664], [81.692719, 16.310219], [80.791999, 15.951972], [80.324896, 15.899185], [80.025069, 15.136415], [80.233274, 13.835771], [80.286294, 13.006261], [79.862547, 12.056215], [79.857999, 10.357275], [79.340512, 10.308854], [78.885345, 9.546136], [79.18972, 9.216544], [78.277941, 8.933047], [77.941165, 8.252959], [77.539898, 7.965535], [76.592979, 8.899276], [76.130061, 10.29963], [75.746467, 11.308251], [75.396101, 11.781245], [74.864816, 12.741936], [74.616717, 13.992583], [74.443859, 14.617222], [73.534199, 15.990652], [73.119909, 17.92857], [72.820909, 19.208234], [72.824475, 20.419503], [72.630533, 21.356009], [71.175273, 20.757441], [70.470459, 20.877331], [69.16413, 22.089298], [69.644928, 22.450775], [69.349597, 22.84318], [68.176645, 23.691965], [68.842599, 24.359134], [71.04324, 24.356524], [70.844699, 25.215102], [70.282873, 25.722229], [70.168927, 26.491872], [69.514393, 26.940966], [70.616496, 27.989196], [71.777666, 27.91318], [72.823752, 28.961592], [73.450638, 29.976413], [74.42138, 30.979815], [74.405929, 31.692639], [75.258642, 32.271105], [74.451559, 32.7649], [74.104294, 33.441473], [73.749948, 34.317699], [74.240203, 34.748887], [75.757061, 34.504923], [76.871722, 34.653544], [77.837451, 35.49401]]], &quot;type&quot;: &quot;Polygon&quot;}, &quot;id&quot;: &quot;IND&quot;, &quot;properties&quot;: {&quot;name&quot;: &quot;India&quot;}, &quot;type&quot;: &quot;Feature&quot;}, {&quot;geometry&quot;: {&quot;coordinates&quot;: [[[35.719918, 32.709192], [35.545665, 32.393992], [35.18393, 32.532511], [34.974641, 31.866582], [35.225892, 31.754341], [34.970507, 31.616778], [34.927408, 31.353435], [35.397561, 31.489086], [35.420918, 31.100066], [34.922603, 29.501326], [34.265433, 31.219361], [34.556372, 31.548824], [34.488107, 31.605539], [34.752587, 32.072926], [34.955417, 32.827376], [35.098457, 33.080539], [35.126053, 33.0909], [35.460709, 33.08904], [35.552797, 33.264275], [35.821101, 33.277426], [35.836397, 32.868123], [35.700798, 32.716014], [35.719918, 32.709192]]], &quot;type&quot;: &quot;Polygon&quot;}, &quot;id&quot;: &quot;ISR&quot;, &quot;properties&quot;: {&quot;name&quot;: &quot;Israel&quot;}, &quot;type&quot;: &quot;Feature&quot;}, {&quot;geometry&quot;: {&quot;coordinates&quot;: [[[[15.520376, 38.231155], [15.160243, 37.444046], [15.309898, 37.134219], [15.099988, 36.619987], [14.335229, 36.996631], [13.826733, 37.104531], [12.431004, 37.61295], [12.570944, 38.126381], [13.741156, 38.034966], [14.761249, 38.143874], [15.520376, 38.231155]]], [[[9.210012, 41.209991], [9.809975, 40.500009], [9.669519, 39.177376], [9.214818, 39.240473], [8.806936, 38.906618], [8.428302, 39.171847], [8.388253, 40.378311], [8.159998, 40.950007], [8.709991, 40.899984], [9.210012, 41.209991]]], [[[12.376485, 46.767559], [13.806475, 46.509306], [13.69811, 46.016778], [13.93763, 45.591016], [13.141606, 45.736692], [12.328581, 45.381778], [12.383875, 44.885374], [12.261453, 44.600482], [12.589237, 44.091366], [13.526906, 43.587727], [14.029821, 42.761008], [15.14257, 41.95514], [15.926191, 41.961315], [16.169897, 41.740295], [15.889346, 41.541082], [16.785002, 41.179606], [17.519169, 40.877143], [18.376687, 40.355625], [18.480247, 40.168866], [18.293385, 39.810774], [17.73838, 40.277671], [16.869596, 40.442235], [16.448743, 39.795401], [17.17149, 39.4247], [17.052841, 38.902871], [16.635088, 38.843572], [16.100961, 37.985899], [15.684087, 37.908849], [15.687963, 38.214593], [15.891981, 38.750942], [16.109332, 38.964547], [15.718814, 39.544072], [15.413613, 40.048357], [14.998496, 40.172949], [14.703268, 40.60455], [14.060672, 40.786348], [13.627985, 41.188287], [12.888082, 41.25309], [12.106683, 41.704535], [11.191906, 42.355425], [10.511948, 42.931463], [10.200029, 43.920007], [9.702488, 44.036279], [8.888946, 44.366336], [8.428561, 44.231228], [7.850767, 43.767148], [7.435185, 43.693845], [7.549596, 44.127901], [7.007562, 44.254767], [6.749955, 45.028518], [7.096652, 45.333099], [6.802355, 45.70858], [6.843593, 45.991147], [7.273851, 45.776948], [7.755992, 45.82449], [8.31663, 46.163642], [8.489952, 46.005151], [8.966306, 46.036932], [9.182882, 46.440215], [9.922837, 46.314899], [10.363378, 46.483571], [10.442701, 46.893546], [11.048556, 46.751359], [11.164828, 46.941579], [12.153088, 47.115393], [12.376485, 46.767559]]]], &quot;type&quot;: &quot;MultiPolygon&quot;}, &quot;id&quot;: &quot;ITA&quot;, &quot;properties&quot;: {&quot;name&quot;: &quot;Italy&quot;}, &quot;type&quot;: &quot;Feature&quot;}, {&quot;geometry&quot;: {&quot;coordinates&quot;: [[[35.821101, 33.277426], [35.552797, 33.264275], [35.460709, 33.08904], [35.126053, 33.0909], [35.482207, 33.90545], [35.979592, 34.610058], [35.998403, 34.644914], [36.448194, 34.593935], [36.61175, 34.201789], [36.06646, 33.824912], [35.821101, 33.277426]]], &quot;type&quot;: &quot;Polygon&quot;}, &quot;id&quot;: &quot;LBN&quot;, &quot;properties&quot;: {&quot;name&quot;: &quot;Lebanon&quot;}, &quot;type&quot;: &quot;Feature&quot;}, {&quot;geometry&quot;: {&quot;coordinates&quot;: [[[6.043073, 50.128052], [6.242751, 49.902226], [6.18632, 49.463803], [5.897759, 49.442667], [5.674052, 49.529484], [5.782417, 50.090328], [6.043073, 50.128052]]], &quot;type&quot;: &quot;Polygon&quot;}, &quot;id&quot;: &quot;LUX&quot;, &quot;properties&quot;: {&quot;name&quot;: &quot;Luxembourg&quot;}, &quot;type&quot;: &quot;Feature&quot;}, {&quot;geometry&quot;: {&quot;coordinates&quot;: [[[-5.193863, 35.755182], [-4.591006, 35.330712], [-3.640057, 35.399855], [-2.604306, 35.179093], [-2.169914, 35.168396], [-1.792986, 34.527919], [-1.733455, 33.919713], [-1.388049, 32.864015], [-1.124551, 32.651522], [-1.307899, 32.262889], [-2.616605, 32.094346], [-3.06898, 31.724498], [-3.647498, 31.637294], [-3.690441, 30.896952], [-4.859646, 30.501188], [-5.242129, 30.000443], [-6.060632, 29.7317], [-7.059228, 29.579228], [-8.674116, 28.841289], [-8.66559, 27.656426], [-8.817809, 27.656426], [-8.817828, 27.656426], [-8.794884, 27.120696], [-9.413037, 27.088476], [-9.735343, 26.860945], [-10.189424, 26.860945], [-10.551263, 26.990808], [-11.392555, 26.883424], [-11.71822, 26.104092], [-12.030759, 26.030866], [-12.500963, 24.770116], [-13.89111, 23.691009], [-14.221168, 22.310163], [-14.630833, 21.86094], [-14.750955, 21.5006], [-17.002962, 21.420734], [-17.020428, 21.42231], [-16.973248, 21.885745], [-16.589137, 22.158234], [-16.261922, 22.67934], [-16.326414, 23.017768], [-15.982611, 23.723358], [-15.426004, 24.359134], [-15.089332, 24.520261], [-14.824645, 25.103533], [-14.800926, 25.636265], [-14.43994, 26.254418], [-13.773805, 26.618892], [-13.139942, 27.640148], [-13.121613, 27.654148], [-12.618837, 28.038186], [-11.688919, 28.148644], [-10.900957, 28.832142], [-10.399592, 29.098586], [-9.564811, 29.933574], [-9.814718, 31.177736], [-9.434793, 32.038096], [-9.300693, 32.564679], [-8.657476, 33.240245], [-7.654178, 33.697065], [-6.912544, 34.110476], [-6.244342, 35.145865], [-5.929994, 35.759988], [-5.193863, 35.755182]]], &quot;type&quot;: &quot;Polygon&quot;}, &quot;id&quot;: &quot;MAR&quot;, &quot;properties&quot;: {&quot;name&quot;: &quot;Morocco&quot;}, &quot;type&quot;: &quot;Feature&quot;}, {&quot;geometry&quot;: {&quot;coordinates&quot;: [[[26.619337, 48.220726], [26.857824, 48.368211], [27.522537, 48.467119], [28.259547, 48.155562], [28.670891, 48.118149], [29.122698, 47.849095], [29.050868, 47.510227], [29.415135, 47.346645], [29.559674, 46.928583], [29.908852, 46.674361], [29.83821, 46.525326], [30.024659, 46.423937], [29.759972, 46.349988], [29.170654, 46.379262], [29.072107, 46.517678], [28.862972, 46.437889], [28.933717, 46.25883], [28.659987, 45.939987], [28.485269, 45.596907], [28.233554, 45.488283], [28.054443, 45.944586], [28.160018, 46.371563], [28.12803, 46.810476], [27.551166, 47.405117], [27.233873, 47.826771], [26.924176, 48.123264], [26.619337, 48.220726]]], &quot;type&quot;: &quot;Polygon&quot;}, &quot;id&quot;: &quot;MDA&quot;, &quot;properties&quot;: {&quot;name&quot;: &quot;Moldova&quot;}, &quot;type&quot;: &quot;Feature&quot;}, {&quot;geometry&quot;: {&quot;coordinates&quot;: [[[-97.140008, 25.869997], [-97.528072, 24.992144], [-97.702946, 24.272343], [-97.776042, 22.93258], [-97.872367, 22.444212], [-97.699044, 21.898689], [-97.38896, 21.411019], [-97.189333, 20.635433], [-96.525576, 19.890931], [-96.292127, 19.320371], [-95.900885, 18.828024], [-94.839063, 18.562717], [-94.42573, 18.144371], [-93.548651, 18.423837], [-92.786114, 18.524839], [-92.037348, 18.704569], [-91.407903, 18.876083], [-90.77187, 19.28412], [-90.53359, 19.867418], [-90.451476, 20.707522], [-90.278618, 20.999855], [-89.601321, 21.261726], [-88.543866, 21.493675], [-87.658417, 21.458846], [-87.05189, 21.543543], [-86.811982, 21.331515], [-86.845908, 20.849865], [-87.383291, 20.255405], [-87.621054, 19.646553], [-87.43675, 19.472403], [-87.58656, 19.04013], [-87.837191, 18.259816], [-88.090664, 18.516648], [-88.300031, 18.499982], [-88.490123, 18.486831], [-88.848344, 17.883198], [-89.029857, 18.001511], [-89.150909, 17.955468], [-89.14308, 17.808319], [-90.067934, 17.819326], [-91.00152, 17.817595], [-91.002269, 17.254658], [-91.453921, 17.252177], [-91.08167, 16.918477], [-90.711822, 16.687483], [-90.600847, 16.470778], [-90.438867, 16.41011], [-90.464473, 16.069562], [-91.74796, 16.066565], [-92.229249, 15.251447], [-92.087216, 15.064585], [-92.20323, 14.830103], [-92.22775, 14.538829], [-93.359464, 15.61543], [-93.875169, 15.940164], [-94.691656, 16.200975], [-95.250227, 16.128318], [-96.053382, 15.752088], [-96.557434, 15.653515], [-97.263592, 15.917065], [-98.01303, 16.107312], [-98.947676, 16.566043], [-99.697397, 16.706164], [-100.829499, 17.171071], [-101.666089, 17.649026], [-101.918528, 17.91609], [-102.478132, 17.975751], [-103.50099, 18.292295], [-103.917527, 18.748572], [-104.99201, 19.316134], [-105.493038, 19.946767], [-105.731396, 20.434102], [-105.397773, 20.531719], [-105.500661, 20.816895], [-105.270752, 21.076285], [-105.265817, 21.422104], [-105.603161, 21.871146], [-105.693414, 22.26908], [-106.028716, 22.773752], [-106.90998, 23.767774], [-107.915449, 24.548915], [-108.401905, 25.172314], [-109.260199, 25.580609], [-109.444089, 25.824884], [-109.291644, 26.442934], [-109.801458, 26.676176], [-110.391732, 27.162115], [-110.641019, 27.859876], [-111.178919, 27.941241], [-111.759607, 28.467953], [-112.228235, 28.954409], [-112.271824, 29.266844], [-112.809594, 30.021114], [-113.163811, 30.786881], [-113.148669, 31.170966], [-113.871881, 31.567608], [-114.205737, 31.524045], [-114.776451, 31.799532], [-114.9367, 31.393485], [-114.771232, 30.913617], [-114.673899, 30.162681], [-114.330974, 29.750432], [-113.588875, 29.061611], [-113.424053, 28.826174], [-113.271969, 28.754783], [-113.140039, 28.411289], [-112.962298, 28.42519], [-112.761587, 27.780217], [-112.457911, 27.525814], [-112.244952, 27.171727], [-111.616489, 26.662817], [-111.284675, 25.73259], [-110.987819, 25.294606], [-110.710007, 24.826004], [-110.655049, 24.298595], [-110.172856, 24.265548], [-109.771847, 23.811183], [-109.409104, 23.364672], [-109.433392, 23.185588], [-109.854219, 22.818272], [-110.031392, 22.823078], [-110.295071, 23.430973], [-110.949501, 24.000964], [-111.670568, 24.484423], [-112.182036, 24.738413], [-112.148989, 25.470125], [-112.300711, 26.012004], [-112.777297, 26.32196], [-113.464671, 26.768186], [-113.59673, 26.63946], [-113.848937, 26.900064], [-114.465747, 27.14209], [-115.055142, 27.722727], [-114.982253, 27.7982], [-114.570366, 27.741485], [-114.199329, 28.115003], [-114.162018, 28.566112], [-114.931842, 29.279479], [-115.518654, 29.556362], [-115.887365, 30.180794], [-116.25835, 30.836464], [-116.721526, 31.635744], [-117.12776, 32.53534], [-115.99135, 32.61239], [-114.72139, 32.72083], [-114.815, 32.52528], [-113.30498, 32.03914], [-111.02361, 31.33472], [-109.035, 31.34194], [-108.24194, 31.34222], [-108.24, 31.754854], [-106.50759, 31.75452], [-106.1429, 31.39995], [-105.63159, 31.08383], [-105.03737, 30.64402], [-104.70575, 30.12173], [-104.45697, 29.57196], [-103.94, 29.27], [-103.11, 28.97], [-102.48, 29.76], [-101.6624, 29.7793], [-100.9576, 29.38071], [-100.45584, 28.69612], [-100.11, 28.11], [-99.52, 27.54], [-99.3, 26.84], [-99.02, 26.37], [-98.24, 26.06], [-97.53, 25.84], [-97.140008, 25.869997]]], &quot;type&quot;: &quot;Polygon&quot;}, &quot;id&quot;: &quot;MEX&quot;, &quot;properties&quot;: {&quot;name&quot;: &quot;Mexico&quot;}, &quot;type&quot;: &quot;Feature&quot;}, {&quot;geometry&quot;: {&quot;coordinates&quot;: [[[20.59023, 41.85541], [20.71731, 41.84711], [20.76216, 42.05186], [21.3527, 42.2068], [21.576636, 42.245224], [21.91708, 42.30364], [22.380526, 42.32026], [22.881374, 41.999297], [22.952377, 41.337994], [22.76177, 41.3048], [22.597308, 41.130487], [22.055378, 41.149866], [21.674161, 40.931275], [21.02004, 40.842727], [20.60518, 41.08622], [20.46315, 41.51509], [20.59023, 41.85541]]], &quot;type&quot;: &quot;Polygon&quot;}, &quot;id&quot;: &quot;MKD&quot;, &quot;properties&quot;: {&quot;name&quot;: &quot;Macedonia&quot;}, &quot;type&quot;: &quot;Feature&quot;}, {&quot;geometry&quot;: {&quot;coordinates&quot;: [[[[173.020375, -40.919052], [173.247234, -41.331999], [173.958405, -40.926701], [174.247587, -41.349155], [174.248517, -41.770008], [173.876447, -42.233184], [173.22274, -42.970038], [172.711246, -43.372288], [173.080113, -43.853344], [172.308584, -43.865694], [171.452925, -44.242519], [171.185138, -44.897104], [170.616697, -45.908929], [169.831422, -46.355775], [169.332331, -46.641235], [168.411354, -46.619945], [167.763745, -46.290197], [166.676886, -46.219917], [166.509144, -45.852705], [167.046424, -45.110941], [168.303763, -44.123973], [168.949409, -43.935819], [169.667815, -43.555326], [170.52492, -43.031688], [171.12509, -42.512754], [171.569714, -41.767424], [171.948709, -41.514417], [172.097227, -40.956104], [172.79858, -40.493962], [173.020375, -40.919052]]], [[[174.612009, -36.156397], [175.336616, -37.209098], [175.357596, -36.526194], [175.808887, -36.798942], [175.95849, -37.555382], [176.763195, -37.881253], [177.438813, -37.961248], [178.010354, -37.579825], [178.517094, -37.695373], [178.274731, -38.582813], [177.97046, -39.166343], [177.206993, -39.145776], [176.939981, -39.449736], [177.032946, -39.879943], [176.885824, -40.065978], [176.508017, -40.604808], [176.01244, -41.289624], [175.239567, -41.688308], [175.067898, -41.425895], [174.650973, -41.281821], [175.22763, -40.459236], [174.900157, -39.908933], [173.824047, -39.508854], [173.852262, -39.146602], [174.574802, -38.797683], [174.743474, -38.027808], [174.697017, -37.381129], [174.292028, -36.711092], [174.319004, -36.534824], [173.840997, -36.121981], [173.054171, -35.237125], [172.636005, -34.529107], [173.007042, -34.450662], [173.551298, -35.006183], [174.32939, -35.265496], [174.612009, -36.156397]]]], &quot;type&quot;: &quot;MultiPolygon&quot;}, &quot;id&quot;: &quot;NZL&quot;, &quot;properties&quot;: {&quot;name&quot;: &quot;New Zealand&quot;}, &quot;type&quot;: &quot;Feature&quot;}, {&quot;geometry&quot;: {&quot;coordinates&quot;: [[[-69.590424, -17.580012], [-69.858444, -18.092694], [-70.372572, -18.347975], [-71.37525, -17.773799], [-71.462041, -17.363488], [-73.44453, -16.359363], [-75.237883, -15.265683], [-76.009205, -14.649286], [-76.423469, -13.823187], [-76.259242, -13.535039], [-77.106192, -12.222716], [-78.092153, -10.377712], [-79.036953, -8.386568], [-79.44592, -7.930833], [-79.760578, -7.194341], [-80.537482, -6.541668], [-81.249996, -6.136834], [-80.926347, -5.690557], [-81.410943, -4.736765], [-81.09967, -4.036394], [-80.302561, -3.404856], [-80.184015, -3.821162], [-80.469295, -4.059287], [-80.442242, -4.425724], [-80.028908, -4.346091], [-79.624979, -4.454198], [-79.205289, -4.959129], [-78.639897, -4.547784], [-78.450684, -3.873097], [-77.837905, -3.003021], [-76.635394, -2.608678], [-75.544996, -1.56161], [-75.233723, -0.911417], [-75.373223, -0.152032], [-75.106625, -0.057205], [-74.441601, -0.53082], [-74.122395, -1.002833], [-73.659504, -1.260491], [-73.070392, -2.308954], [-72.325787, -2.434218], [-71.774761, -2.16979], [-71.413646, -2.342802], [-70.813476, -2.256865], [-70.047709, -2.725156], [-70.692682, -3.742872], [-70.394044, -3.766591], [-69.893635, -4.298187], [-70.794769, -4.251265], [-70.928843, -4.401591], [-71.748406, -4.593983], [-72.891928, -5.274561], [-72.964507, -5.741251], [-73.219711, -6.089189], [-73.120027, -6.629931], [-73.724487, -6.918595], [-73.723401, -7.340999], [-73.987235, -7.52383], [-73.571059, -8.424447], [-73.015383, -9.032833], [-73.226713, -9.462213], [-72.563033, -9.520194], [-72.184891, -10.053598], [-71.302412, -10.079436], [-70.481894, -9.490118], [-70.548686, -11.009147], [-70.093752, -11.123972], [-69.529678, -10.951734], [-68.66508, -12.5613], [-68.88008, -12.899729], [-68.929224, -13.602684], [-68.948887, -14.453639], [-69.339535, -14.953195], [-69.160347, -15.323974], [-69.389764, -15.660129], [-68.959635, -16.500698], [-69.590424, -17.580012]]], &quot;type&quot;: &quot;Polygon&quot;}, &quot;id&quot;: &quot;PER&quot;, &quot;properties&quot;: {&quot;name&quot;: &quot;Peru&quot;}, &quot;type&quot;: &quot;Feature&quot;}, {&quot;geometry&quot;: {&quot;coordinates&quot;: [[[-9.034818, 41.880571], [-8.671946, 42.134689], [-8.263857, 42.280469], [-8.013175, 41.790886], [-7.422513, 41.792075], [-7.251309, 41.918346], [-6.668606, 41.883387], [-6.389088, 41.381815], [-6.851127, 41.111083], [-6.86402, 40.330872], [-7.026413, 40.184524], [-7.066592, 39.711892], [-7.498632, 39.629571], [-7.098037, 39.030073], [-7.374092, 38.373059], [-7.029281, 38.075764], [-7.166508, 37.803894], [-7.537105, 37.428904], [-7.453726, 37.097788], [-7.855613, 36.838269], [-8.382816, 36.97888], [-8.898857, 36.868809], [-8.746101, 37.651346], [-8.839998, 38.266243], [-9.287464, 38.358486], [-9.526571, 38.737429], [-9.446989, 39.392066], [-9.048305, 39.755093], [-8.977353, 40.159306], [-8.768684, 40.760639], [-8.790853, 41.184334], [-8.990789, 41.543459], [-9.034818, 41.880571]]], &quot;type&quot;: &quot;Polygon&quot;}, &quot;id&quot;: &quot;PRT&quot;, &quot;properties&quot;: {&quot;name&quot;: &quot;Portugal&quot;}, &quot;type&quot;: &quot;Feature&quot;}, {&quot;geometry&quot;: {&quot;coordinates&quot;: [[[22.710531, 47.882194], [23.142236, 48.096341], [23.760958, 47.985598], [24.402056, 47.981878], [24.866317, 47.737526], [25.207743, 47.891056], [25.945941, 47.987149], [26.19745, 48.220881], [26.619337, 48.220726], [26.924176, 48.123264], [27.233873, 47.826771], [27.551166, 47.405117], [28.12803, 46.810476], [28.160018, 46.371563], [28.054443, 45.944586], [28.233554, 45.488283], [28.679779, 45.304031], [29.149725, 45.464925], [29.603289, 45.293308], [29.626543, 45.035391], [29.141612, 44.82021], [28.837858, 44.913874], [28.558081, 43.707462], [27.970107, 43.812468], [27.2424, 44.175986], [26.065159, 43.943494], [25.569272, 43.688445], [24.100679, 43.741051], [23.332302, 43.897011], [22.944832, 43.823785], [22.65715, 44.234923], [22.474008, 44.409228], [22.705726, 44.578003], [22.459022, 44.702517], [22.145088, 44.478422], [21.562023, 44.768947], [21.483526, 45.18117], [20.874313, 45.416375], [20.762175, 45.734573], [20.220192, 46.127469], [21.021952, 46.316088], [21.626515, 46.994238], [22.099768, 47.672439], [22.710531, 47.882194]]], &quot;type&quot;: &quot;Polygon&quot;}, &quot;id&quot;: &quot;ROU&quot;, &quot;properties&quot;: {&quot;name&quot;: &quot;Romania&quot;}, &quot;type&quot;: &quot;Feature&quot;}, {&quot;geometry&quot;: {&quot;coordinates&quot;: [[[18.853144, 49.49623], [18.909575, 49.435846], [19.320713, 49.571574], [19.825023, 49.217125], [20.415839, 49.431453], [20.887955, 49.328772], [21.607808, 49.470107], [22.558138, 49.085738], [22.280842, 48.825392], [22.085608, 48.422264], [21.872236, 48.319971], [20.801294, 48.623854], [20.473562, 48.56285], [20.239054, 48.327567], [19.769471, 48.202691], [19.661364, 48.266615], [19.174365, 48.111379], [18.777025, 48.081768], [18.696513, 47.880954], [17.857133, 47.758429], [17.488473, 47.867466], [16.979667, 48.123497], [16.879983, 48.470013], [16.960288, 48.596982], [17.101985, 48.816969], [17.545007, 48.800019], [17.886485, 48.903475], [17.913512, 48.996493], [18.104973, 49.043983], [18.170498, 49.271515], [18.399994, 49.315001], [18.554971, 49.495015], [18.853144, 49.49623]]], &quot;type&quot;: &quot;Polygon&quot;}, &quot;id&quot;: &quot;SVK&quot;, &quot;properties&quot;: {&quot;name&quot;: &quot;Slovakia&quot;}, &quot;type&quot;: &quot;Feature&quot;}, {&quot;geometry&quot;: {&quot;coordinates&quot;: [[[13.806475, 46.509306], [14.632472, 46.431817], [15.137092, 46.658703], [16.011664, 46.683611], [16.202298, 46.852386], [16.370505, 46.841327], [16.564808, 46.503751], [15.768733, 46.238108], [15.67153, 45.834154], [15.323954, 45.731783], [15.327675, 45.452316], [14.935244, 45.471695], [14.595109, 45.634941], [14.411968, 45.466166], [13.71506, 45.500324], [13.93763, 45.591016], [13.69811, 46.016778], [13.806475, 46.509306]]], &quot;type&quot;: &quot;Polygon&quot;}, &quot;id&quot;: &quot;SVN&quot;, &quot;properties&quot;: {&quot;name&quot;: &quot;Slovenia&quot;}, &quot;type&quot;: &quot;Feature&quot;}, {&quot;geometry&quot;: {&quot;coordinates&quot;: [[[[36.913127, 41.335358], [38.347665, 40.948586], [39.512607, 41.102763], [40.373433, 41.013673], [41.554084, 41.535656], [42.619549, 41.583173], [43.582746, 41.092143], [43.752658, 40.740201], [43.656436, 40.253564], [44.400009, 40.005], [44.79399, 39.713003], [44.109225, 39.428136], [44.421403, 38.281281], [44.225756, 37.971584], [44.772699, 37.170445], [44.293452, 37.001514], [43.942259, 37.256228], [42.779126, 37.385264], [42.349591, 37.229873], [41.212089, 37.074352], [40.673259, 37.091276], [39.52258, 36.716054], [38.699891, 36.712927], [38.167727, 36.90121], [37.066761, 36.623036], [36.739494, 36.81752], [36.685389, 36.259699], [36.41755, 36.040617], [36.149763, 35.821535], [35.782085, 36.274995], [36.160822, 36.650606], [35.550936, 36.565443], [34.714553, 36.795532], [34.026895, 36.21996], [32.509158, 36.107564], [31.699595, 36.644275], [30.621625, 36.677865], [30.391096, 36.262981], [29.699976, 36.144357], [28.732903, 36.676831], [27.641187, 36.658822], [27.048768, 37.653361], [26.318218, 38.208133], [26.8047, 38.98576], [26.170785, 39.463612], [27.28002, 40.420014], [28.819978, 40.460011], [29.240004, 41.219991], [31.145934, 41.087622], [32.347979, 41.736264], [33.513283, 42.01896], [35.167704, 42.040225], [36.913127, 41.335358]]], [[[27.192377, 40.690566], [26.358009, 40.151994], [26.043351, 40.617754], [26.056942, 40.824123], [26.294602, 40.936261], [26.604196, 41.562115], [26.117042, 41.826905], [27.135739, 42.141485], [27.99672, 42.007359], [28.115525, 41.622886], [28.988443, 41.299934], [28.806438, 41.054962], [27.619017, 40.999823], [27.192377, 40.690566]]]], &quot;type&quot;: &quot;MultiPolygon&quot;}, &quot;id&quot;: &quot;TUR&quot;, &quot;properties&quot;: {&quot;name&quot;: &quot;Turkey&quot;}, &quot;type&quot;: &quot;Feature&quot;}, {&quot;geometry&quot;: {&quot;coordinates&quot;: [[[31.785998, 52.101678], [32.159412, 52.061267], [32.412058, 52.288695], [32.715761, 52.238465], [33.7527, 52.335075], [34.391731, 51.768882], [34.141978, 51.566413], [34.224816, 51.255993], [35.022183, 51.207572], [35.377924, 50.773955], [35.356116, 50.577197], [36.626168, 50.225591], [37.39346, 50.383953], [38.010631, 49.915662], [38.594988, 49.926462], [40.069058, 49.601055], [40.080789, 49.30743], [39.674664, 48.783818], [39.895632, 48.232405], [39.738278, 47.898937], [38.770585, 47.825608], [38.255112, 47.5464], [38.223538, 47.10219], [37.425137, 47.022221], [36.759855, 46.6987], [35.823685, 46.645964], [34.962342, 46.273197], [35.020788, 45.651219], [35.510009, 45.409993], [36.529998, 45.46999], [36.334713, 45.113216], [35.239999, 44.939996], [33.882511, 44.361479], [33.326421, 44.564877], [33.546924, 45.034771], [32.454174, 45.327466], [32.630804, 45.519186], [33.588162, 45.851569], [33.298567, 46.080598], [31.74414, 46.333348], [31.675307, 46.706245], [30.748749, 46.5831], [30.377609, 46.03241], [29.603289, 45.293308], [29.149725, 45.464925], [28.679779, 45.304031], [28.233554, 45.488283], [28.485269, 45.596907], [28.659987, 45.939987], [28.933717, 46.25883], [28.862972, 46.437889], [29.072107, 46.517678], [29.170654, 46.379262], [29.759972, 46.349988], [30.024659, 46.423937], [29.83821, 46.525326], [29.908852, 46.674361], [29.559674, 46.928583], [29.415135, 47.346645], [29.050868, 47.510227], [29.122698, 47.849095], [28.670891, 48.118149], [28.259547, 48.155562], [27.522537, 48.467119], [26.857824, 48.368211], [26.619337, 48.220726], [26.19745, 48.220881], [25.945941, 47.987149], [25.207743, 47.891056], [24.866317, 47.737526], [24.402056, 47.981878], [23.760958, 47.985598], [23.142236, 48.096341], [22.710531, 47.882194], [22.64082, 48.15024], [22.085608, 48.422264], [22.280842, 48.825392], [22.558138, 49.085738], [22.776419, 49.027395], [22.51845, 49.476774], [23.426508, 50.308506], [23.922757, 50.424881], [24.029986, 50.705407], [23.527071, 51.578454], [24.005078, 51.617444], [24.553106, 51.888461], [25.327788, 51.910656], [26.337959, 51.832289], [27.454066, 51.592303], [28.241615, 51.572227], [28.617613, 51.427714], [28.992835, 51.602044], [29.254938, 51.368234], [30.157364, 51.416138], [30.555117, 51.319503], [30.619454, 51.822806], [30.927549, 52.042353], [31.785998, 52.101678]]], &quot;type&quot;: &quot;Polygon&quot;}, &quot;id&quot;: &quot;UKR&quot;, &quot;properties&quot;: {&quot;name&quot;: &quot;Ukraine&quot;}, &quot;type&quot;: &quot;Feature&quot;}, {&quot;geometry&quot;: {&quot;coordinates&quot;: [[[-57.625133, -30.216295], [-56.976026, -30.109686], [-55.973245, -30.883076], [-55.60151, -30.853879], [-54.572452, -31.494511], [-53.787952, -32.047243], [-53.209589, -32.727666], [-53.650544, -33.202004], [-53.373662, -33.768378], [-53.806426, -34.396815], [-54.935866, -34.952647], [-55.67409, -34.752659], [-56.215297, -34.859836], [-57.139685, -34.430456], [-57.817861, -34.462547], [-58.427074, -33.909454], [-58.349611, -33.263189], [-58.132648, -33.040567], [-58.14244, -32.044504], [-57.874937, -31.016556], [-57.625133, -30.216295]]], &quot;type&quot;: &quot;Polygon&quot;}, &quot;id&quot;: &quot;URY&quot;, &quot;properties&quot;: {&quot;name&quot;: &quot;Uruguay&quot;}, &quot;type&quot;: &quot;Feature&quot;}, {&quot;geometry&quot;: {&quot;coordinates&quot;: [[[[-155.54211, 19.08348], [-155.68817, 18.91619], [-155.93665, 19.05939], [-155.90806, 19.33888], [-156.07347, 19.70294], [-156.02368, 19.81422], [-155.85008, 19.97729], [-155.91907, 20.17395], [-155.86108, 20.26721], [-155.78505, 20.2487], [-155.40214, 20.07975], [-155.22452, 19.99302], [-155.06226, 19.8591], [-154.80741, 19.50871], [-154.83147, 19.45328], [-155.22217, 19.23972], [-155.54211, 19.08348]]], [[[-156.07926, 20.64397], [-156.41445, 20.57241], [-156.58673, 20.783], [-156.70167, 20.8643], [-156.71055, 20.92676], [-156.61258, 21.01249], [-156.25711, 20.91745], [-155.99566, 20.76404], [-156.07926, 20.64397]]], [[[-156.75824, 21.17684], [-156.78933, 21.06873], [-157.32521, 21.09777], [-157.25027, 21.21958], [-156.75824, 21.17684]]], [[[-157.65283, 21.32217], [-157.70703, 21.26442], [-157.7786, 21.27729], [-158.12667, 21.31244], [-158.2538, 21.53919], [-158.29265, 21.57912], [-158.0252, 21.71696], [-157.94161, 21.65272], [-157.65283, 21.32217]]], [[[-159.34512, 21.982], [-159.46372, 21.88299], [-159.80051, 22.06533], [-159.74877, 22.1382], [-159.5962, 22.23618], [-159.36569, 22.21494], [-159.34512, 21.982]]], [[[-94.81758, 49.38905], [-94.64, 48.84], [-94.32914, 48.67074], [-93.63087, 48.60926], [-92.61, 48.45], [-91.64, 48.14], [-90.83, 48.27], [-89.6, 48.01], [-89.272917, 48.019808], [-88.378114, 48.302918], [-87.439793, 47.94], [-86.461991, 47.553338], [-85.652363, 47.220219], [-84.87608, 46.900083], [-84.779238, 46.637102], [-84.543749, 46.538684], [-84.6049, 46.4396], [-84.3367, 46.40877], [-84.14212, 46.512226], [-84.091851, 46.275419], [-83.890765, 46.116927], [-83.616131, 46.116927], [-83.469551, 45.994686], [-83.592851, 45.816894], [-82.550925, 45.347517], [-82.337763, 44.44], [-82.137642, 43.571088], [-82.43, 42.98], [-82.9, 42.43], [-83.12, 42.08], [-83.142, 41.975681], [-83.02981, 41.832796], [-82.690089, 41.675105], [-82.439278, 41.675105], [-81.277747, 42.209026], [-80.247448, 42.3662], [-78.939362, 42.863611], [-78.92, 42.965], [-79.01, 43.27], [-79.171674, 43.466339], [-78.72028, 43.625089], [-77.737885, 43.629056], [-76.820034, 43.628784], [-76.5, 44.018459], [-76.375, 44.09631], [-75.31821, 44.81645], [-74.867, 45.00048], [-73.34783, 45.00738], [-71.50506, 45.0082], [-71.405, 45.255], [-71.08482, 45.30524], [-70.66, 45.46], [-70.305, 45.915], [-69.99997, 46.69307], [-69.237216, 47.447781], [-68.905, 47.185], [-68.23444, 47.35486], [-67.79046, 47.06636], [-67.79134, 45.70281], [-67.13741, 45.13753], [-66.96466, 44.8097], [-68.03252, 44.3252], [-69.06, 43.98], [-70.11617, 43.68405], [-70.645476, 43.090238], [-70.81489, 42.8653], [-70.825, 42.335], [-70.495, 41.805], [-70.08, 41.78], [-70.185, 42.145], [-69.88497, 41.92283], [-69.96503, 41.63717], [-70.64, 41.475], [-71.12039, 41.49445], [-71.86, 41.32], [-72.295, 41.27], [-72.87643, 41.22065], [-73.71, 40.931102], [-72.24126, 41.11948], [-71.945, 40.93], [-73.345, 40.63], [-73.982, 40.628], [-73.952325, 40.75075], [-74.25671, 40.47351], [-73.96244, 40.42763], [-74.17838, 39.70926], [-74.90604, 38.93954], [-74.98041, 39.1964], [-75.20002, 39.24845], [-75.52805, 39.4985], [-75.32, 38.96], [-75.071835, 38.782032], [-75.05673, 38.40412], [-75.37747, 38.01551], [-75.94023, 37.21689], [-76.03127, 37.2566], [-75.72205, 37.93705], [-76.23287, 38.319215], [-76.35, 39.15], [-76.542725, 38.717615], [-76.32933, 38.08326], [-76.989998, 38.239992], [-76.30162, 37.917945], [-76.25874, 36.9664], [-75.9718, 36.89726], [-75.86804, 36.55125], [-75.72749, 35.55074], [-76.36318, 34.80854], [-77.397635, 34.51201], [-78.05496, 33.92547], [-78.55435, 33.86133], [-79.06067, 33.49395], [-79.20357, 33.15839], [-80.301325, 32.509355], [-80.86498, 32.0333], [-81.33629, 31.44049], [-81.49042, 30.72999], [-81.31371, 30.03552], [-80.98, 29.18], [-80.535585, 28.47213], [-80.53, 28.04], [-80.056539, 26.88], [-80.088015, 26.205765], [-80.13156, 25.816775], [-80.38103, 25.20616], [-80.68, 25.08], [-81.17213, 25.20126], [-81.33, 25.64], [-81.71, 25.87], [-82.24, 26.73], [-82.70515, 27.49504], [-82.85526, 27.88624], [-82.65, 28.55], [-82.93, 29.1], [-83.70959, 29.93656], [-84.1, 30.09], [-85.10882, 29.63615], [-85.28784, 29.68612], [-85.7731, 30.15261], [-86.4, 30.4], [-87.53036, 30.27433], [-88.41782, 30.3849], [-89.18049, 30.31598], [-89.593831, 30.159994], [-89.413735, 29.89419], [-89.43, 29.48864], [-89.21767, 29.29108], [-89.40823, 29.15961], [-89.77928, 29.30714], [-90.15463, 29.11743], [-90.880225, 29.148535], [-91.626785, 29.677], [-92.49906, 29.5523], [-93.22637, 29.78375], [-93.84842, 29.71363], [-94.69, 29.48], [-95.60026, 28.73863], [-96.59404, 28.30748], [-97.14, 27.83], [-97.37, 27.38], [-97.38, 26.69], [-97.33, 26.21], [-97.14, 25.87], [-97.53, 25.84], [-98.24, 26.06], [-99.02, 26.37], [-99.3, 26.84], [-99.52, 27.54], [-100.11, 28.11], [-100.45584, 28.69612], [-100.9576, 29.38071], [-101.6624, 29.7793], [-102.48, 29.76], [-103.11, 28.97], [-103.94, 29.27], [-104.45697, 29.57196], [-104.70575, 30.12173], [-105.03737, 30.64402], [-105.63159, 31.08383], [-106.1429, 31.39995], [-106.50759, 31.75452], [-108.24, 31.754854], [-108.24194, 31.34222], [-109.035, 31.34194], [-111.02361, 31.33472], [-113.30498, 32.03914], [-114.815, 32.52528], [-114.72139, 32.72083], [-115.99135, 32.61239], [-117.12776, 32.53534], [-117.295938, 33.046225], [-117.944, 33.621236], [-118.410602, 33.740909], [-118.519895, 34.027782], [-119.081, 34.078], [-119.438841, 34.348477], [-120.36778, 34.44711], [-120.62286, 34.60855], [-120.74433, 35.15686], [-121.71457, 36.16153], [-122.54747, 37.55176], [-122.51201, 37.78339], [-122.95319, 38.11371], [-123.7272, 38.95166], [-123.86517, 39.76699], [-124.39807, 40.3132], [-124.17886, 41.14202], [-124.2137, 41.99964], [-124.53284, 42.76599], [-124.14214, 43.70838], [-124.020535, 44.615895], [-123.89893, 45.52341], [-124.079635, 46.86475], [-124.39567, 47.72017], [-124.68721, 48.184433], [-124.566101, 48.379715], [-123.12, 48.04], [-122.58736, 47.096], [-122.34, 47.36], [-122.5, 48.18], [-122.84, 49], [-120, 49], [-117.03121, 49], [-116.04818, 49], [-113, 49], [-110.05, 49], [-107.05, 49], [-104.04826, 48.99986], [-100.65, 49], [-97.22872, 49.0007], [-95.15907, 49], [-95.15609, 49.38425], [-94.81758, 49.38905]]], [[[-153.006314, 57.115842], [-154.00509, 56.734677], [-154.516403, 56.992749], [-154.670993, 57.461196], [-153.76278, 57.816575], [-153.228729, 57.968968], [-152.564791, 57.901427], [-152.141147, 57.591059], [-153.006314, 57.115842]]], [[[-165.579164, 59.909987], [-166.19277, 59.754441], [-166.848337, 59.941406], [-167.455277, 60.213069], [-166.467792, 60.38417], [-165.67443, 60.293607], [-165.579164, 59.909987]]], [[[-171.731657, 63.782515], [-171.114434, 63.592191], [-170.491112, 63.694975], [-169.682505, 63.431116], [-168.689439, 63.297506], [-168.771941, 63.188598], [-169.52944, 62.976931], [-170.290556, 63.194438], [-170.671386, 63.375822], [-171.553063, 63.317789], [-171.791111, 63.405846], [-171.731657, 63.782515]]], [[[-155.06779, 71.147776], [-154.344165, 70.696409], [-153.900006, 70.889989], [-152.210006, 70.829992], [-152.270002, 70.600006], [-150.739992, 70.430017], [-149.720003, 70.53001], [-147.613362, 70.214035], [-145.68999, 70.12001], [-144.920011, 69.989992], [-143.589446, 70.152514], [-142.07251, 69.851938], [-140.985988, 69.711998], [-140.992499, 66.000029], [-140.99777, 60.306397], [-140.012998, 60.276838], [-139.039, 60.000007], [-138.34089, 59.56211], [-137.4525, 58.905], [-136.47972, 59.46389], [-135.47583, 59.78778], [-134.945, 59.27056], [-134.27111, 58.86111], [-133.355549, 58.410285], [-132.73042, 57.69289], [-131.70781, 56.55212], [-130.00778, 55.91583], [-129.979994, 55.284998], [-130.53611, 54.802753], [-131.085818, 55.178906], [-131.967211, 55.497776], [-132.250011, 56.369996], [-133.539181, 57.178887], [-134.078063, 58.123068], [-135.038211, 58.187715], [-136.628062, 58.212209], [-137.800006, 58.499995], [-139.867787, 59.537762], [-140.825274, 59.727517], [-142.574444, 60.084447], [-143.958881, 59.99918], [-145.925557, 60.45861], [-147.114374, 60.884656], [-148.224306, 60.672989], [-148.018066, 59.978329], [-148.570823, 59.914173], [-149.727858, 59.705658], [-150.608243, 59.368211], [-151.716393, 59.155821], [-151.859433, 59.744984], [-151.409719, 60.725803], [-150.346941, 61.033588], [-150.621111, 61.284425], [-151.895839, 60.727198], [-152.57833, 60.061657], [-154.019172, 59.350279], [-153.287511, 58.864728], [-154.232492, 58.146374], [-155.307491, 57.727795], [-156.308335, 57.422774], [-156.556097, 56.979985], [-158.117217, 56.463608], [-158.433321, 55.994154], [-159.603327, 55.566686], [-160.28972, 55.643581], [-161.223048, 55.364735], [-162.237766, 55.024187], [-163.069447, 54.689737], [-164.785569, 54.404173], [-164.942226, 54.572225], [-163.84834, 55.039431], [-162.870001, 55.348043], [-161.804175, 55.894986], [-160.563605, 56.008055], [-160.07056, 56.418055], [-158.684443, 57.016675], [-158.461097, 57.216921], [-157.72277, 57.570001], [-157.550274, 58.328326], [-157.041675, 58.918885], [-158.194731, 58.615802], [-158.517218, 58.787781], [-159.058606, 58.424186], [-159.711667, 58.93139], [-159.981289, 58.572549], [-160.355271, 59.071123], [-161.355003, 58.670838], [-161.968894, 58.671665], [-162.054987, 59.266925], [-161.874171, 59.633621], [-162.518059, 59.989724], [-163.818341, 59.798056], [-164.662218, 60.267484], [-165.346388, 60.507496], [-165.350832, 61.073895], [-166.121379, 61.500019], [-165.734452, 62.074997], [-164.919179, 62.633076], [-164.562508, 63.146378], [-163.753332, 63.219449], [-163.067224, 63.059459], [-162.260555, 63.541936], [-161.53445, 63.455817], [-160.772507, 63.766108], [-160.958335, 64.222799], [-161.518068, 64.402788], [-160.777778, 64.788604], [-161.391926, 64.777235], [-162.45305, 64.559445], [-162.757786, 64.338605], [-163.546394, 64.55916], [-164.96083, 64.446945], [-166.425288, 64.686672], [-166.845004, 65.088896], [-168.11056, 65.669997], [-166.705271, 66.088318], [-164.47471, 66.57666], [-163.652512, 66.57666], [-163.788602, 66.077207], [-161.677774, 66.11612], [-162.489715, 66.735565], [-163.719717, 67.116395], [-164.430991, 67.616338], [-165.390287, 68.042772], [-166.764441, 68.358877], [-166.204707, 68.883031], [-164.430811, 68.915535], [-163.168614, 69.371115], [-162.930566, 69.858062], [-161.908897, 70.33333], [-160.934797, 70.44769], [-159.039176, 70.891642], [-158.119723, 70.824721], [-156.580825, 71.357764], [-155.06779, 71.147776]]]], &quot;type&quot;: &quot;MultiPolygon&quot;}, &quot;id&quot;: &quot;USA&quot;, &quot;properties&quot;: {&quot;name&quot;: &quot;United States of America&quot;}, &quot;type&quot;: &quot;Feature&quot;}, {&quot;geometry&quot;: {&quot;coordinates&quot;: [[[31.521001, -29.257387], [31.325561, -29.401978], [30.901763, -29.909957], [30.622813, -30.423776], [30.055716, -31.140269], [28.925553, -32.172041], [28.219756, -32.771953], [27.464608, -33.226964], [26.419452, -33.61495], [25.909664, -33.66704], [25.780628, -33.944646], [25.172862, -33.796851], [24.677853, -33.987176], [23.594043, -33.794474], [22.988189, -33.916431], [22.574157, -33.864083], [21.542799, -34.258839], [20.689053, -34.417175], [20.071261, -34.795137], [19.616405, -34.819166], [19.193278, -34.462599], [18.855315, -34.444306], [18.424643, -33.997873], [18.377411, -34.136521], [18.244499, -33.867752], [18.25008, -33.281431], [17.92519, -32.611291], [18.24791, -32.429131], [18.221762, -31.661633], [17.566918, -30.725721], [17.064416, -29.878641], [17.062918, -29.875954], [16.344977, -28.576705], [16.824017, -28.082162], [17.218929, -28.355943], [17.387497, -28.783514], [17.836152, -28.856378], [18.464899, -29.045462], [19.002127, -28.972443], [19.894734, -28.461105], [19.895768, -24.76779], [20.165726, -24.917962], [20.758609, -25.868136], [20.66647, -26.477453], [20.889609, -26.828543], [21.605896, -26.726534], [22.105969, -26.280256], [22.579532, -25.979448], [22.824271, -25.500459], [23.312097, -25.26869], [23.73357, -25.390129], [24.211267, -25.670216], [25.025171, -25.71967], [25.664666, -25.486816], [25.765849, -25.174845], [25.941652, -24.696373], [26.485753, -24.616327], [26.786407, -24.240691], [27.11941, -23.574323], [28.017236, -22.827754], [29.432188, -22.091313], [29.839037, -22.102216], [30.322883, -22.271612], [30.659865, -22.151567], [31.191409, -22.25151], [31.670398, -23.658969], [31.930589, -24.369417], [31.752408, -25.484284], [31.837778, -25.843332], [31.333158, -25.660191], [31.04408, -25.731452], [30.949667, -26.022649], [30.676609, -26.398078], [30.685962, -26.743845], [31.282773, -27.285879], [31.86806, -27.177927], [32.071665, -26.73382], [32.83012, -26.742192], [32.580265, -27.470158], [32.462133, -28.301011], [32.203389, -28.752405], [31.521001, -29.257387]], [[28.978263, -28.955597], [28.5417, -28.647502], [28.074338, -28.851469], [27.532511, -29.242711], [26.999262, -29.875954], [27.749397, -30.645106], [28.107205, -30.545732], [28.291069, -30.226217], [28.8484, -30.070051], [29.018415, -29.743766], [29.325166, -29.257387], [28.978263, -28.955597]]], &quot;type&quot;: &quot;Polygon&quot;}, &quot;id&quot;: &quot;ZAF&quot;, &quot;properties&quot;: {&quot;name&quot;: &quot;South Africa&quot;}, &quot;type&quot;: &quot;Feature&quot;}], &quot;type&quot;: &quot;FeatureCollection&quot;});\n",
       "\n",
       "        \n",
       "    \n",
       "    var color_map_a304da31b41c7a16552d80cd3d36ff45 = {};\n",
       "\n",
       "    \n",
       "    color_map_a304da31b41c7a16552d80cd3d36ff45.color = d3.scale.threshold()\n",
       "              .domain([8.0, 8.134268537074147, 8.268537074148297, 8.402805611222444, 8.537074148296593, 8.67134268537074, 8.80561122244489, 8.939879759519037, 9.074148296593187, 9.208416833667334, 9.342685370741483, 9.47695390781563, 9.61122244488978, 9.745490981963927, 9.879759519038076, 10.014028056112224, 10.148296593186373, 10.28256513026052, 10.41683366733467, 10.551102204408817, 10.685370741482966, 10.819639278557114, 10.953907815631263, 11.08817635270541, 11.22244488977956, 11.356713426853707, 11.490981963927856, 11.625250501002004, 11.759519038076153, 11.8937875751503, 12.028056112224448, 12.162324649298597, 12.296593186372746, 12.430861723446894, 12.565130260521041, 12.69939879759519, 12.83366733466934, 12.967935871743487, 13.102204408817634, 13.236472945891784, 13.370741482965933, 13.50501002004008, 13.639278557114228, 13.773547094188377, 13.907815631262526, 14.042084168336673, 14.176352705410821, 14.31062124248497, 14.44488977955912, 14.579158316633267, 14.713426853707414, 14.847695390781563, 14.981963927855713, 15.11623246492986, 15.250501002004007, 15.384769539078157, 15.519038076152306, 15.653306613226453, 15.7875751503006, 15.92184368737475, 16.056112224448896, 16.190380761523045, 16.324649298597194, 16.458917835671343, 16.593186372745492, 16.72745490981964, 16.861723446893787, 16.995991983967937, 17.130260521042082, 17.26452905811623, 17.39879759519038, 17.53306613226453, 17.66733466933868, 17.80160320641283, 17.935871743486974, 18.070140280561123, 18.20440881763527, 18.338677354709418, 18.472945891783567, 18.607214428857716, 18.741482965931866, 18.87575150300601, 19.01002004008016, 19.144288577154306, 19.278557114228455, 19.412825651302605, 19.547094188376754, 19.681362725450903, 19.815631262525052, 19.949899799599198, 20.084168336673347, 20.218436873747493, 20.352705410821642, 20.48697394789579, 20.62124248496994, 20.75551102204409, 20.88977955911824, 21.024048096192384, 21.158316633266534, 21.29258517034068, 21.42685370741483, 21.561122244488978, 21.695390781563127, 21.829659318637276, 21.963927855711425, 22.09819639278557, 22.23246492985972, 22.366733466933866, 22.501002004008015, 22.635270541082164, 22.769539078156313, 22.903807615230463, 23.038076152304612, 23.172344689378757, 23.306613226452907, 23.440881763527052, 23.5751503006012, 23.70941883767535, 23.8436873747495, 23.97795591182365, 24.112224448897795, 24.246492985971944, 24.380761523046093, 24.51503006012024, 24.649298597194388, 24.783567134268537, 24.917835671342687, 25.052104208416832, 25.18637274549098, 25.32064128256513, 25.45490981963928, 25.589178356713425, 25.723446893787575, 25.857715430861724, 25.991983967935873, 26.12625250501002, 26.260521042084168, 26.394789579158317, 26.529058116232466, 26.663326653306612, 26.79759519038076, 26.93186372745491, 27.06613226452906, 27.200400801603205, 27.334669338677354, 27.468937875751504, 27.603206412825653, 27.7374749498998, 27.871743486973948, 28.006012024048097, 28.140280561122246, 28.274549098196392, 28.40881763527054, 28.54308617234469, 28.677354709418836, 28.811623246492985, 28.945891783567134, 29.080160320641284, 29.21442885771543, 29.34869739478958, 29.482965931863728, 29.617234468937877, 29.751503006012022, 29.88577154308617, 30.02004008016032, 30.15430861723447, 30.288577154308616, 30.422845691382765, 30.557114228456914, 30.691382765531063, 30.82565130260521, 30.95991983967936, 31.094188376753507, 31.228456913827657, 31.362725450901802, 31.49699398797595, 31.6312625250501, 31.76553106212425, 31.899799599198396, 32.034068136272545, 32.168336673346694, 32.30260521042084, 32.436873747494985, 32.571142284569135, 32.705410821643284, 32.83967935871743, 32.97394789579158, 33.10821643286573, 33.24248496993988, 33.37675350701403, 33.51102204408818, 33.64529058116233, 33.77955911823648, 33.91382765531062, 34.04809619238477, 34.18236472945892, 34.31663326653307, 34.45090180360721, 34.58517034068136, 34.71943887775551, 34.85370741482966, 34.987975951903806, 35.122244488977955, 35.256513026052104, 35.390781563126254, 35.5250501002004, 35.65931863727455, 35.7935871743487, 35.92785571142285, 36.06212424849699, 36.19639278557114, 36.33066132264529, 36.46492985971944, 36.59919839679358, 36.73346693386773, 36.86773547094188, 37.00200400801603, 37.13627254509018, 37.27054108216433, 37.40480961923848, 37.53907815631263, 37.673346693386776, 37.807615230460925, 37.941883767535074, 38.076152304609224, 38.210420841683366, 38.344689378757515, 38.478957915831664, 38.61322645290581, 38.747494989979955, 38.881763527054105, 39.016032064128254, 39.1503006012024, 39.28456913827655, 39.4188376753507, 39.55310621242485, 39.687374749499, 39.82164328657315, 39.9559118236473, 40.09018036072144, 40.22444889779559, 40.35871743486974, 40.49298597194389, 40.62725450901804, 40.76152304609219, 40.895791583166336, 41.03006012024048, 41.16432865731463, 41.298597194388776, 41.432865731462925, 41.567134268537075, 41.701402805611224, 41.83567134268537, 41.96993987975952, 42.104208416833664, 42.23847695390781, 42.37274549098196, 42.50701402805611, 42.64128256513026, 42.77555110220441, 42.90981963927856, 43.04408817635271, 43.17835671342685, 43.312625250501, 43.44689378757515, 43.5811623246493, 43.71543086172345, 43.8496993987976, 43.983967935871746, 44.11823647294589, 44.25250501002004, 44.38677354709419, 44.521042084168336, 44.655310621242485, 44.789579158316634, 44.92384769539078, 45.05811623246493, 45.192384769539075, 45.326653306613224, 45.46092184368737, 45.59519038076152, 45.72945891783567, 45.86372745490982, 45.99799599198397, 46.13226452905812, 46.26653306613226, 46.40080160320641, 46.53507014028056, 46.66933867735471, 46.80360721442886, 46.93787575150301, 47.07214428857716, 47.206412825651306, 47.34068136272545, 47.4749498997996, 47.609218436873746, 47.743486973947896, 47.877755511022045, 48.012024048096194, 48.14629258517034, 48.28056112224449, 48.414829659318634, 48.549098196392784, 48.68336673346693, 48.81763527054108, 48.95190380761523, 49.08617234468938, 49.22044088176353, 49.35470941883767, 49.48897795591182, 49.62324649298597, 49.75751503006012, 49.89178356713427, 50.02605210420842, 50.16032064128257, 50.294589178356716, 50.42885771543086, 50.56312625250501, 50.69739478957916, 50.831663326653306, 50.965931863727455, 51.100200400801604, 51.234468937875754, 51.3687374749499, 51.503006012024045, 51.637274549098194, 51.77154308617234, 51.90581162324649, 52.04008016032064, 52.17434869739479, 52.30861723446894, 52.44288577154309, 52.57715430861723, 52.71142284569138, 52.84569138276553, 52.97995991983968, 53.11422845691383, 53.24849699398798, 53.38276553106213, 53.517034068136276, 53.65130260521042, 53.78557114228457, 53.91983967935872, 54.054108216432866, 54.188376753507015, 54.322645290581164, 54.45691382765531, 54.591182364729455, 54.725450901803605, 54.859719438877754, 54.9939879759519, 55.12825651302605, 55.2625250501002, 55.39679358717435, 55.5310621242485, 55.66533066132264, 55.79959919839679, 55.93386773547094, 56.06813627254509, 56.20240480961924, 56.33667334669339, 56.47094188376754, 56.605210420841686, 56.73947895791583, 56.87374749498998, 57.00801603206413, 57.142284569138276, 57.276553106212425, 57.410821643286575, 57.545090180360724, 57.67935871743487, 57.813627254509015, 57.947895791583164, 58.08216432865731, 58.21643286573146, 58.35070140280561, 58.48496993987976, 58.61923847695391, 58.75350701402806, 58.8877755511022, 59.02204408817635, 59.1563126252505, 59.29058116232465, 59.4248496993988, 59.55911823647295, 59.6933867735471, 59.82765531062124, 59.96192384769539, 60.09619238476954, 60.23046092184369, 60.364729458917836, 60.498997995991985, 60.633266533066134, 60.76753507014028, 60.901803607214426, 61.036072144288575, 61.170340681362724, 61.30460921843687, 61.43887775551102, 61.57314629258517, 61.70741482965932, 61.84168336673347, 61.97595190380761, 62.11022044088176, 62.24448897795591, 62.37875751503006, 62.51302605210421, 62.64729458917836, 62.78156312625251, 62.91583166332666, 63.0501002004008, 63.18436873747495, 63.3186372745491, 63.452905811623246, 63.587174348697395, 63.721442885771545, 63.855711422845694, 63.98997995991984, 64.12424849699399, 64.25851703406813, 64.39278557114228, 64.52705410821643, 64.66132264529058, 64.79559118236473, 64.92985971943888, 65.06412825651302, 65.19839679358716, 65.33266533066131, 65.46693386773546, 65.60120240480961, 65.73547094188376, 65.86973947895791, 66.00400801603206, 66.13827655310621, 66.27254509018036, 66.40681362725451, 66.54108216432866, 66.6753507014028, 66.80961923847696, 66.9438877755511, 67.07815631262525, 67.2124248496994, 67.34669338677355, 67.4809619238477, 67.61523046092185, 67.749498997996, 67.88376753507015, 68.0180360721443, 68.15230460921845, 68.28657314629258, 68.42084168336673, 68.55511022044088, 68.68937875751503, 68.82364729458918, 68.95791583166333, 69.09218436873748, 69.22645290581163, 69.36072144288576, 69.49498997995991, 69.62925851703406, 69.76352705410821, 69.89779559118236, 70.03206412825651, 70.16633266533066, 70.3006012024048, 70.43486973947896, 70.5691382765531, 70.70340681362725, 70.8376753507014, 70.97194388777555, 71.1062124248497, 71.24048096192385, 71.374749498998, 71.50901803607215, 71.6432865731463, 71.77755511022045, 71.9118236472946, 72.04609218436873, 72.18036072144288, 72.31462925851703, 72.44889779559118, 72.58316633266533, 72.71743486973948, 72.85170340681363, 72.98597194388778, 73.12024048096193, 73.25450901803607, 73.38877755511022, 73.52304609218437, 73.65731462925852, 73.79158316633267, 73.92585170340682, 74.06012024048096, 74.1943887775551, 74.32865731462925, 74.4629258517034, 74.59719438877755, 74.7314629258517, 74.86573146292585, 75.0])\n",
       "              .range([&#x27;#ffffb2ff&#x27;, &#x27;#ffffb2ff&#x27;, &#x27;#ffffb2ff&#x27;, &#x27;#ffffb2ff&#x27;, &#x27;#ffffb2ff&#x27;, &#x27;#ffffb2ff&#x27;, &#x27;#ffffb2ff&#x27;, &#x27;#ffffb2ff&#x27;, &#x27;#ffffb2ff&#x27;, &#x27;#ffffb2ff&#x27;, &#x27;#ffffb2ff&#x27;, &#x27;#ffffb2ff&#x27;, &#x27;#ffffb2ff&#x27;, &#x27;#ffffb2ff&#x27;, &#x27;#ffffb2ff&#x27;, &#x27;#ffffb2ff&#x27;, &#x27;#ffffb2ff&#x27;, &#x27;#ffffb2ff&#x27;, &#x27;#ffffb2ff&#x27;, &#x27;#ffffb2ff&#x27;, &#x27;#ffffb2ff&#x27;, &#x27;#ffffb2ff&#x27;, &#x27;#ffffb2ff&#x27;, &#x27;#ffffb2ff&#x27;, &#x27;#ffffb2ff&#x27;, &#x27;#ffffb2ff&#x27;, &#x27;#ffffb2ff&#x27;, &#x27;#ffffb2ff&#x27;, &#x27;#ffffb2ff&#x27;, &#x27;#ffffb2ff&#x27;, &#x27;#ffffb2ff&#x27;, &#x27;#ffffb2ff&#x27;, &#x27;#ffffb2ff&#x27;, &#x27;#ffffb2ff&#x27;, &#x27;#ffffb2ff&#x27;, &#x27;#ffffb2ff&#x27;, &#x27;#ffffb2ff&#x27;, &#x27;#ffffb2ff&#x27;, &#x27;#ffffb2ff&#x27;, &#x27;#ffffb2ff&#x27;, &#x27;#ffffb2ff&#x27;, &#x27;#ffffb2ff&#x27;, &#x27;#ffffb2ff&#x27;, &#x27;#ffffb2ff&#x27;, &#x27;#ffffb2ff&#x27;, &#x27;#ffffb2ff&#x27;, &#x27;#ffffb2ff&#x27;, &#x27;#ffffb2ff&#x27;, &#x27;#ffffb2ff&#x27;, &#x27;#ffffb2ff&#x27;, &#x27;#ffffb2ff&#x27;, &#x27;#ffffb2ff&#x27;, &#x27;#ffffb2ff&#x27;, &#x27;#ffffb2ff&#x27;, &#x27;#ffffb2ff&#x27;, &#x27;#ffffb2ff&#x27;, &#x27;#ffffb2ff&#x27;, &#x27;#ffffb2ff&#x27;, &#x27;#ffffb2ff&#x27;, &#x27;#ffffb2ff&#x27;, &#x27;#ffffb2ff&#x27;, &#x27;#ffffb2ff&#x27;, &#x27;#ffffb2ff&#x27;, &#x27;#ffffb2ff&#x27;, &#x27;#ffffb2ff&#x27;, &#x27;#ffffb2ff&#x27;, &#x27;#ffffb2ff&#x27;, &#x27;#ffffb2ff&#x27;, &#x27;#ffffb2ff&#x27;, &#x27;#ffffb2ff&#x27;, &#x27;#ffffb2ff&#x27;, &#x27;#ffffb2ff&#x27;, &#x27;#ffffb2ff&#x27;, &#x27;#ffffb2ff&#x27;, &#x27;#ffffb2ff&#x27;, &#x27;#ffffb2ff&#x27;, &#x27;#ffffb2ff&#x27;, &#x27;#ffffb2ff&#x27;, &#x27;#ffffb2ff&#x27;, &#x27;#ffffb2ff&#x27;, &#x27;#ffffb2ff&#x27;, &#x27;#ffffb2ff&#x27;, &#x27;#ffffb2ff&#x27;, &#x27;#ffffb2ff&#x27;, &#x27;#fed976ff&#x27;, &#x27;#fed976ff&#x27;, &#x27;#fed976ff&#x27;, &#x27;#fed976ff&#x27;, &#x27;#fed976ff&#x27;, &#x27;#fed976ff&#x27;, &#x27;#fed976ff&#x27;, &#x27;#fed976ff&#x27;, &#x27;#fed976ff&#x27;, &#x27;#fed976ff&#x27;, &#x27;#fed976ff&#x27;, &#x27;#fed976ff&#x27;, &#x27;#fed976ff&#x27;, &#x27;#fed976ff&#x27;, &#x27;#fed976ff&#x27;, &#x27;#fed976ff&#x27;, &#x27;#fed976ff&#x27;, &#x27;#fed976ff&#x27;, &#x27;#fed976ff&#x27;, &#x27;#fed976ff&#x27;, &#x27;#fed976ff&#x27;, &#x27;#fed976ff&#x27;, &#x27;#fed976ff&#x27;, &#x27;#fed976ff&#x27;, &#x27;#fed976ff&#x27;, &#x27;#fed976ff&#x27;, &#x27;#fed976ff&#x27;, &#x27;#fed976ff&#x27;, &#x27;#fed976ff&#x27;, &#x27;#fed976ff&#x27;, &#x27;#fed976ff&#x27;, &#x27;#fed976ff&#x27;, &#x27;#fed976ff&#x27;, &#x27;#fed976ff&#x27;, &#x27;#fed976ff&#x27;, &#x27;#fed976ff&#x27;, &#x27;#fed976ff&#x27;, &#x27;#fed976ff&#x27;, &#x27;#fed976ff&#x27;, &#x27;#fed976ff&#x27;, &#x27;#fed976ff&#x27;, &#x27;#fed976ff&#x27;, &#x27;#fed976ff&#x27;, &#x27;#fed976ff&#x27;, &#x27;#fed976ff&#x27;, &#x27;#fed976ff&#x27;, &#x27;#fed976ff&#x27;, &#x27;#fed976ff&#x27;, &#x27;#fed976ff&#x27;, &#x27;#fed976ff&#x27;, &#x27;#fed976ff&#x27;, &#x27;#fed976ff&#x27;, &#x27;#fed976ff&#x27;, &#x27;#fed976ff&#x27;, &#x27;#fed976ff&#x27;, &#x27;#fed976ff&#x27;, &#x27;#fed976ff&#x27;, &#x27;#fed976ff&#x27;, &#x27;#fed976ff&#x27;, &#x27;#fed976ff&#x27;, &#x27;#fed976ff&#x27;, &#x27;#fed976ff&#x27;, &#x27;#fed976ff&#x27;, &#x27;#fed976ff&#x27;, &#x27;#fed976ff&#x27;, &#x27;#fed976ff&#x27;, &#x27;#fed976ff&#x27;, &#x27;#fed976ff&#x27;, &#x27;#fed976ff&#x27;, &#x27;#fed976ff&#x27;, &#x27;#fed976ff&#x27;, &#x27;#fed976ff&#x27;, &#x27;#fed976ff&#x27;, &#x27;#fed976ff&#x27;, &#x27;#fed976ff&#x27;, &#x27;#fed976ff&#x27;, &#x27;#fed976ff&#x27;, &#x27;#fed976ff&#x27;, &#x27;#fed976ff&#x27;, &#x27;#fed976ff&#x27;, &#x27;#fed976ff&#x27;, &#x27;#fed976ff&#x27;, &#x27;#fed976ff&#x27;, &#x27;#feb24cff&#x27;, &#x27;#feb24cff&#x27;, &#x27;#feb24cff&#x27;, &#x27;#feb24cff&#x27;, &#x27;#feb24cff&#x27;, &#x27;#feb24cff&#x27;, &#x27;#feb24cff&#x27;, &#x27;#feb24cff&#x27;, &#x27;#feb24cff&#x27;, &#x27;#feb24cff&#x27;, &#x27;#feb24cff&#x27;, &#x27;#feb24cff&#x27;, &#x27;#feb24cff&#x27;, &#x27;#feb24cff&#x27;, &#x27;#feb24cff&#x27;, &#x27;#feb24cff&#x27;, &#x27;#feb24cff&#x27;, &#x27;#feb24cff&#x27;, &#x27;#feb24cff&#x27;, &#x27;#feb24cff&#x27;, &#x27;#feb24cff&#x27;, &#x27;#feb24cff&#x27;, &#x27;#feb24cff&#x27;, &#x27;#feb24cff&#x27;, &#x27;#feb24cff&#x27;, &#x27;#feb24cff&#x27;, &#x27;#feb24cff&#x27;, &#x27;#feb24cff&#x27;, &#x27;#feb24cff&#x27;, &#x27;#feb24cff&#x27;, &#x27;#feb24cff&#x27;, &#x27;#feb24cff&#x27;, &#x27;#feb24cff&#x27;, &#x27;#feb24cff&#x27;, &#x27;#feb24cff&#x27;, &#x27;#feb24cff&#x27;, &#x27;#feb24cff&#x27;, &#x27;#feb24cff&#x27;, &#x27;#feb24cff&#x27;, &#x27;#feb24cff&#x27;, &#x27;#feb24cff&#x27;, &#x27;#feb24cff&#x27;, &#x27;#feb24cff&#x27;, &#x27;#feb24cff&#x27;, &#x27;#feb24cff&#x27;, &#x27;#feb24cff&#x27;, &#x27;#feb24cff&#x27;, &#x27;#feb24cff&#x27;, &#x27;#feb24cff&#x27;, &#x27;#feb24cff&#x27;, &#x27;#feb24cff&#x27;, &#x27;#feb24cff&#x27;, &#x27;#feb24cff&#x27;, &#x27;#feb24cff&#x27;, &#x27;#feb24cff&#x27;, &#x27;#feb24cff&#x27;, &#x27;#feb24cff&#x27;, &#x27;#feb24cff&#x27;, &#x27;#feb24cff&#x27;, &#x27;#feb24cff&#x27;, &#x27;#feb24cff&#x27;, &#x27;#feb24cff&#x27;, &#x27;#feb24cff&#x27;, &#x27;#feb24cff&#x27;, &#x27;#feb24cff&#x27;, &#x27;#feb24cff&#x27;, &#x27;#feb24cff&#x27;, &#x27;#feb24cff&#x27;, &#x27;#feb24cff&#x27;, &#x27;#feb24cff&#x27;, &#x27;#feb24cff&#x27;, &#x27;#feb24cff&#x27;, &#x27;#feb24cff&#x27;, &#x27;#feb24cff&#x27;, &#x27;#feb24cff&#x27;, &#x27;#feb24cff&#x27;, &#x27;#feb24cff&#x27;, &#x27;#feb24cff&#x27;, &#x27;#feb24cff&#x27;, &#x27;#feb24cff&#x27;, &#x27;#feb24cff&#x27;, &#x27;#feb24cff&#x27;, &#x27;#feb24cff&#x27;, &#x27;#fd8d3cff&#x27;, &#x27;#fd8d3cff&#x27;, &#x27;#fd8d3cff&#x27;, &#x27;#fd8d3cff&#x27;, &#x27;#fd8d3cff&#x27;, &#x27;#fd8d3cff&#x27;, &#x27;#fd8d3cff&#x27;, &#x27;#fd8d3cff&#x27;, &#x27;#fd8d3cff&#x27;, &#x27;#fd8d3cff&#x27;, &#x27;#fd8d3cff&#x27;, &#x27;#fd8d3cff&#x27;, &#x27;#fd8d3cff&#x27;, &#x27;#fd8d3cff&#x27;, &#x27;#fd8d3cff&#x27;, &#x27;#fd8d3cff&#x27;, &#x27;#fd8d3cff&#x27;, &#x27;#fd8d3cff&#x27;, &#x27;#fd8d3cff&#x27;, &#x27;#fd8d3cff&#x27;, &#x27;#fd8d3cff&#x27;, &#x27;#fd8d3cff&#x27;, &#x27;#fd8d3cff&#x27;, &#x27;#fd8d3cff&#x27;, &#x27;#fd8d3cff&#x27;, &#x27;#fd8d3cff&#x27;, &#x27;#fd8d3cff&#x27;, &#x27;#fd8d3cff&#x27;, &#x27;#fd8d3cff&#x27;, &#x27;#fd8d3cff&#x27;, &#x27;#fd8d3cff&#x27;, &#x27;#fd8d3cff&#x27;, &#x27;#fd8d3cff&#x27;, &#x27;#fd8d3cff&#x27;, &#x27;#fd8d3cff&#x27;, &#x27;#fd8d3cff&#x27;, &#x27;#fd8d3cff&#x27;, &#x27;#fd8d3cff&#x27;, &#x27;#fd8d3cff&#x27;, &#x27;#fd8d3cff&#x27;, &#x27;#fd8d3cff&#x27;, &#x27;#fd8d3cff&#x27;, &#x27;#fd8d3cff&#x27;, &#x27;#fd8d3cff&#x27;, &#x27;#fd8d3cff&#x27;, &#x27;#fd8d3cff&#x27;, &#x27;#fd8d3cff&#x27;, &#x27;#fd8d3cff&#x27;, &#x27;#fd8d3cff&#x27;, &#x27;#fd8d3cff&#x27;, &#x27;#fd8d3cff&#x27;, &#x27;#fd8d3cff&#x27;, &#x27;#fd8d3cff&#x27;, &#x27;#fd8d3cff&#x27;, &#x27;#fd8d3cff&#x27;, &#x27;#fd8d3cff&#x27;, &#x27;#fd8d3cff&#x27;, &#x27;#fd8d3cff&#x27;, &#x27;#fd8d3cff&#x27;, &#x27;#fd8d3cff&#x27;, &#x27;#fd8d3cff&#x27;, &#x27;#fd8d3cff&#x27;, &#x27;#fd8d3cff&#x27;, &#x27;#fd8d3cff&#x27;, &#x27;#fd8d3cff&#x27;, &#x27;#fd8d3cff&#x27;, &#x27;#fd8d3cff&#x27;, &#x27;#fd8d3cff&#x27;, &#x27;#fd8d3cff&#x27;, &#x27;#fd8d3cff&#x27;, &#x27;#fd8d3cff&#x27;, &#x27;#fd8d3cff&#x27;, &#x27;#fd8d3cff&#x27;, &#x27;#fd8d3cff&#x27;, &#x27;#fd8d3cff&#x27;, &#x27;#fd8d3cff&#x27;, &#x27;#fd8d3cff&#x27;, &#x27;#fd8d3cff&#x27;, &#x27;#fd8d3cff&#x27;, &#x27;#fd8d3cff&#x27;, &#x27;#fd8d3cff&#x27;, &#x27;#fd8d3cff&#x27;, &#x27;#fd8d3cff&#x27;, &#x27;#f03b20ff&#x27;, &#x27;#f03b20ff&#x27;, &#x27;#f03b20ff&#x27;, &#x27;#f03b20ff&#x27;, &#x27;#f03b20ff&#x27;, &#x27;#f03b20ff&#x27;, &#x27;#f03b20ff&#x27;, &#x27;#f03b20ff&#x27;, &#x27;#f03b20ff&#x27;, &#x27;#f03b20ff&#x27;, &#x27;#f03b20ff&#x27;, &#x27;#f03b20ff&#x27;, &#x27;#f03b20ff&#x27;, &#x27;#f03b20ff&#x27;, &#x27;#f03b20ff&#x27;, &#x27;#f03b20ff&#x27;, &#x27;#f03b20ff&#x27;, &#x27;#f03b20ff&#x27;, &#x27;#f03b20ff&#x27;, &#x27;#f03b20ff&#x27;, &#x27;#f03b20ff&#x27;, &#x27;#f03b20ff&#x27;, &#x27;#f03b20ff&#x27;, &#x27;#f03b20ff&#x27;, &#x27;#f03b20ff&#x27;, &#x27;#f03b20ff&#x27;, &#x27;#f03b20ff&#x27;, &#x27;#f03b20ff&#x27;, &#x27;#f03b20ff&#x27;, &#x27;#f03b20ff&#x27;, &#x27;#f03b20ff&#x27;, &#x27;#f03b20ff&#x27;, &#x27;#f03b20ff&#x27;, &#x27;#f03b20ff&#x27;, &#x27;#f03b20ff&#x27;, &#x27;#f03b20ff&#x27;, &#x27;#f03b20ff&#x27;, &#x27;#f03b20ff&#x27;, &#x27;#f03b20ff&#x27;, &#x27;#f03b20ff&#x27;, &#x27;#f03b20ff&#x27;, &#x27;#f03b20ff&#x27;, &#x27;#f03b20ff&#x27;, &#x27;#f03b20ff&#x27;, &#x27;#f03b20ff&#x27;, &#x27;#f03b20ff&#x27;, &#x27;#f03b20ff&#x27;, &#x27;#f03b20ff&#x27;, &#x27;#f03b20ff&#x27;, &#x27;#f03b20ff&#x27;, &#x27;#f03b20ff&#x27;, &#x27;#f03b20ff&#x27;, &#x27;#f03b20ff&#x27;, &#x27;#f03b20ff&#x27;, &#x27;#f03b20ff&#x27;, &#x27;#f03b20ff&#x27;, &#x27;#f03b20ff&#x27;, &#x27;#f03b20ff&#x27;, &#x27;#f03b20ff&#x27;, &#x27;#f03b20ff&#x27;, &#x27;#f03b20ff&#x27;, &#x27;#f03b20ff&#x27;, &#x27;#f03b20ff&#x27;, &#x27;#f03b20ff&#x27;, &#x27;#f03b20ff&#x27;, &#x27;#f03b20ff&#x27;, &#x27;#f03b20ff&#x27;, &#x27;#f03b20ff&#x27;, &#x27;#f03b20ff&#x27;, &#x27;#f03b20ff&#x27;, &#x27;#f03b20ff&#x27;, &#x27;#f03b20ff&#x27;, &#x27;#f03b20ff&#x27;, &#x27;#f03b20ff&#x27;, &#x27;#f03b20ff&#x27;, &#x27;#f03b20ff&#x27;, &#x27;#f03b20ff&#x27;, &#x27;#f03b20ff&#x27;, &#x27;#f03b20ff&#x27;, &#x27;#f03b20ff&#x27;, &#x27;#f03b20ff&#x27;, &#x27;#f03b20ff&#x27;, &#x27;#f03b20ff&#x27;, &#x27;#bd0026ff&#x27;, &#x27;#bd0026ff&#x27;, &#x27;#bd0026ff&#x27;, &#x27;#bd0026ff&#x27;, &#x27;#bd0026ff&#x27;, &#x27;#bd0026ff&#x27;, &#x27;#bd0026ff&#x27;, &#x27;#bd0026ff&#x27;, &#x27;#bd0026ff&#x27;, &#x27;#bd0026ff&#x27;, &#x27;#bd0026ff&#x27;, &#x27;#bd0026ff&#x27;, &#x27;#bd0026ff&#x27;, &#x27;#bd0026ff&#x27;, &#x27;#bd0026ff&#x27;, &#x27;#bd0026ff&#x27;, &#x27;#bd0026ff&#x27;, &#x27;#bd0026ff&#x27;, &#x27;#bd0026ff&#x27;, &#x27;#bd0026ff&#x27;, &#x27;#bd0026ff&#x27;, &#x27;#bd0026ff&#x27;, &#x27;#bd0026ff&#x27;, &#x27;#bd0026ff&#x27;, &#x27;#bd0026ff&#x27;, &#x27;#bd0026ff&#x27;, &#x27;#bd0026ff&#x27;, &#x27;#bd0026ff&#x27;, &#x27;#bd0026ff&#x27;, &#x27;#bd0026ff&#x27;, &#x27;#bd0026ff&#x27;, &#x27;#bd0026ff&#x27;, &#x27;#bd0026ff&#x27;, &#x27;#bd0026ff&#x27;, &#x27;#bd0026ff&#x27;, &#x27;#bd0026ff&#x27;, &#x27;#bd0026ff&#x27;, &#x27;#bd0026ff&#x27;, &#x27;#bd0026ff&#x27;, &#x27;#bd0026ff&#x27;, &#x27;#bd0026ff&#x27;, &#x27;#bd0026ff&#x27;, &#x27;#bd0026ff&#x27;, &#x27;#bd0026ff&#x27;, &#x27;#bd0026ff&#x27;, &#x27;#bd0026ff&#x27;, &#x27;#bd0026ff&#x27;, &#x27;#bd0026ff&#x27;, &#x27;#bd0026ff&#x27;, &#x27;#bd0026ff&#x27;, &#x27;#bd0026ff&#x27;, &#x27;#bd0026ff&#x27;, &#x27;#bd0026ff&#x27;, &#x27;#bd0026ff&#x27;, &#x27;#bd0026ff&#x27;, &#x27;#bd0026ff&#x27;, &#x27;#bd0026ff&#x27;, &#x27;#bd0026ff&#x27;, &#x27;#bd0026ff&#x27;, &#x27;#bd0026ff&#x27;, &#x27;#bd0026ff&#x27;, &#x27;#bd0026ff&#x27;, &#x27;#bd0026ff&#x27;, &#x27;#bd0026ff&#x27;, &#x27;#bd0026ff&#x27;, &#x27;#bd0026ff&#x27;, &#x27;#bd0026ff&#x27;, &#x27;#bd0026ff&#x27;, &#x27;#bd0026ff&#x27;, &#x27;#bd0026ff&#x27;, &#x27;#bd0026ff&#x27;, &#x27;#bd0026ff&#x27;, &#x27;#bd0026ff&#x27;, &#x27;#bd0026ff&#x27;, &#x27;#bd0026ff&#x27;, &#x27;#bd0026ff&#x27;, &#x27;#bd0026ff&#x27;, &#x27;#bd0026ff&#x27;, &#x27;#bd0026ff&#x27;, &#x27;#bd0026ff&#x27;, &#x27;#bd0026ff&#x27;, &#x27;#bd0026ff&#x27;, &#x27;#bd0026ff&#x27;, &#x27;#bd0026ff&#x27;]);\n",
       "    \n",
       "\n",
       "    color_map_a304da31b41c7a16552d80cd3d36ff45.x = d3.scale.linear()\n",
       "              .domain([8.0, 75.0])\n",
       "              .range([0, 400]);\n",
       "\n",
       "    color_map_a304da31b41c7a16552d80cd3d36ff45.legend = L.control({position: &#x27;topright&#x27;});\n",
       "    color_map_a304da31b41c7a16552d80cd3d36ff45.legend.onAdd = function (map) {var div = L.DomUtil.create(&#x27;div&#x27;, &#x27;legend&#x27;); return div};\n",
       "    color_map_a304da31b41c7a16552d80cd3d36ff45.legend.addTo(map_bd841cefdd41efcb90a79389d2308bf3);\n",
       "\n",
       "    color_map_a304da31b41c7a16552d80cd3d36ff45.xAxis = d3.svg.axis()\n",
       "        .scale(color_map_a304da31b41c7a16552d80cd3d36ff45.x)\n",
       "        .orient(&quot;top&quot;)\n",
       "        .tickSize(1)\n",
       "        .tickValues([8.0, 19.166666666666664, 30.333333333333332, 41.5, 52.666666666666664, 63.83333333333333, 75.0]);\n",
       "\n",
       "    color_map_a304da31b41c7a16552d80cd3d36ff45.svg = d3.select(&quot;.legend.leaflet-control&quot;).append(&quot;svg&quot;)\n",
       "        .attr(&quot;id&quot;, &#x27;legend&#x27;)\n",
       "        .attr(&quot;width&quot;, 450)\n",
       "        .attr(&quot;height&quot;, 40);\n",
       "\n",
       "    color_map_a304da31b41c7a16552d80cd3d36ff45.g = color_map_a304da31b41c7a16552d80cd3d36ff45.svg.append(&quot;g&quot;)\n",
       "        .attr(&quot;class&quot;, &quot;key&quot;)\n",
       "        .attr(&quot;transform&quot;, &quot;translate(25,16)&quot;);\n",
       "\n",
       "    color_map_a304da31b41c7a16552d80cd3d36ff45.g.selectAll(&quot;rect&quot;)\n",
       "        .data(color_map_a304da31b41c7a16552d80cd3d36ff45.color.range().map(function(d, i) {\n",
       "          return {\n",
       "            x0: i ? color_map_a304da31b41c7a16552d80cd3d36ff45.x(color_map_a304da31b41c7a16552d80cd3d36ff45.color.domain()[i - 1]) : color_map_a304da31b41c7a16552d80cd3d36ff45.x.range()[0],\n",
       "            x1: i &lt; color_map_a304da31b41c7a16552d80cd3d36ff45.color.domain().length ? color_map_a304da31b41c7a16552d80cd3d36ff45.x(color_map_a304da31b41c7a16552d80cd3d36ff45.color.domain()[i]) : color_map_a304da31b41c7a16552d80cd3d36ff45.x.range()[1],\n",
       "            z: d\n",
       "          };\n",
       "        }))\n",
       "      .enter().append(&quot;rect&quot;)\n",
       "        .attr(&quot;height&quot;, 10)\n",
       "        .attr(&quot;x&quot;, function(d) { return d.x0; })\n",
       "        .attr(&quot;width&quot;, function(d) { return d.x1 - d.x0; })\n",
       "        .style(&quot;fill&quot;, function(d) { return d.z; });\n",
       "\n",
       "    color_map_a304da31b41c7a16552d80cd3d36ff45.g.call(color_map_a304da31b41c7a16552d80cd3d36ff45.xAxis).append(&quot;text&quot;)\n",
       "        .attr(&quot;class&quot;, &quot;caption&quot;)\n",
       "        .attr(&quot;y&quot;, 21)\n",
       "        .text(&#x27;&#x27;);\n",
       "    \n",
       "            var layer_control_2ccca912a5573bbc20fa483d8027465a = {\n",
       "                base_layers : {\n",
       "                    &quot;openstreetmap&quot; : tile_layer_e5671ac8a664d84ca467bdeb15f16cd8,\n",
       "                },\n",
       "                overlays :  {\n",
       "                    &quot;Price&quot; : choropleth_b71b89d023dcb9f7a9a23593571f50cc,\n",
       "                },\n",
       "            };\n",
       "            L.control.layers(\n",
       "                layer_control_2ccca912a5573bbc20fa483d8027465a.base_layers,\n",
       "                layer_control_2ccca912a5573bbc20fa483d8027465a.overlays,\n",
       "                {&quot;autoZIndex&quot;: true, &quot;collapsed&quot;: true, &quot;position&quot;: &quot;topright&quot;}\n",
       "            ).addTo(map_bd841cefdd41efcb90a79389d2308bf3);\n",
       "        \n",
       "&lt;/script&gt;\" style=\"position:absolute;width:100%;height:100%;left:0;top:0;border:none !important;\" allowfullscreen webkitallowfullscreen mozallowfullscreen></iframe></div></div>"
      ],
      "text/plain": [
       "<folium.folium.Map at 0x1d367dd5ac0>"
      ]
     },
     "execution_count": 25,
     "metadata": {},
     "output_type": "execute_result"
    }
   ],
   "source": [
    "m = folium.Map(location=[0, 0], zoom_start=2)\n",
    "\n",
    "folium.Choropleth(\n",
    "    geo_data=countries_json,\n",
    "    data=df,\n",
    "    columns=[\"country\", \"price\"],\n",
    "    key_on=\"feature.properties.name\",\n",
    "    fill_color=\"YlOrRd\",\n",
    "    fill_opacity=0.7,\n",
    "    line_opacity=0.2,\n",
    "    name=\"Price\",\n",
    ").add_to(m)\n",
    "\n",
    "folium.LayerControl().add_to(m)\n",
    "\n",
    "m"
   ]
  },
  {
   "cell_type": "markdown",
   "metadata": {},
   "source": [
    "# Sentimental Analysis "
   ]
  },
  {
   "cell_type": "code",
   "execution_count": null,
   "metadata": {},
   "outputs": [],
   "source": [
    "headers = ['pos','neg','neu','compound']\n",
    "texts = df[\"description\"]\n",
    "analyzer = SentimentIntensityAnalyzer()\n",
    "df['compound'] = [analyzer.polarity_scores(x)['compound'] for x in df['description']]\n",
    "df['neg'] = [analyzer.polarity_scores(x)['neg'] for x in df['description']]\n",
    "df['neu'] = [analyzer.polarity_scores(x)['neu'] for x in df['description']]\n",
    "df['pos'] = [analyzer.polarity_scores(x)['pos'] for x in df['description']]"
   ]
  },
  {
   "cell_type": "code",
   "execution_count": null,
   "metadata": {},
   "outputs": [],
   "source": [
    "df"
   ]
  },
  {
   "cell_type": "markdown",
   "metadata": {},
   "source": [
    "## WordClouds"
   ]
  },
  {
   "cell_type": "code",
   "execution_count": null,
   "metadata": {},
   "outputs": [],
   "source": [
    "#Looking at number of reviews by each country to select country with most reviews for word cloud generation \n",
    "df1 = df[\"country\"]\n",
    "num_of_reviews = df1.groupby(df[\"country\"]).count()\n",
    "num = num_of_reviews.sort_values(ascending=True)\n",
    "\n",
    "#Looking at reviews of top 10 countries \n",
    "reviews = num.tail(10)\n",
    "\n",
    "bargraph = reviews.plot.barh(x='country', y='reviews[1]')"
   ]
  },
  {
   "cell_type": "code",
   "execution_count": null,
   "metadata": {},
   "outputs": [],
   "source": [
    "#Specifiying stopwords for the reviews\n",
    "\n",
    "stopwords_reviews = [\"wine\", \"review\", \"drink\", \"bottle\", \"flavor\", \"hint\", \"finish\", \"palate\", \"show\", \"now\", \"flavors\", \"shows\", \"fruit\", \"will\", \"give\", \"made\"]\n",
    "stopwords_updated = set(STOPWORDS)\n",
    "stopwords_updated.update(stopwords_reviews)"
   ]
  },
  {
   "cell_type": "code",
   "execution_count": null,
   "metadata": {},
   "outputs": [],
   "source": [
    "##Our code \n",
    "\n",
    "%matplotlib inline\n",
    "\n",
    "text = df['description'].astype(str)\n",
    "wordcloud = WordCloud(stopwords=stopwords_updated,\n",
    "                      background_color='white',width=3000,height=3000, max_words=400).generate(\" \".join(text)) \n",
    "\n",
    "print(wordcloud)\n",
    "plt.figure(figsize = (10,10))\n",
    "plt.imshow(wordcloud)\n",
    "plt.title(\"General Word Cloud\",fontsize=20)\n",
    "plt.axis('off')\n",
    "plt.show()"
   ]
  },
  {
   "cell_type": "code",
   "execution_count": null,
   "metadata": {},
   "outputs": [],
   "source": [
    "from collections import defaultdict\n",
    "descriptions = defaultdict(list)\n",
    "df.apply(lambda x: descriptions[x.country].append(x.description), axis=1)\n",
    "#descriptions['US']#[0:5]"
   ]
  },
  {
   "cell_type": "code",
   "execution_count": null,
   "metadata": {},
   "outputs": [],
   "source": [
    "import re\n",
    "from PIL import Image\n",
    "from IPython.display import Image as im\n",
    "unwanted_characters = re.compile('[^A-Za-z ]+')\n",
    "for country in list(df.country.unique()):\n",
    "    desc_string = ' '.join(descriptions[country])\n",
    "    descriptions[country] = ' '.join([w.lower() for w in re.sub(unwanted_characters, ' ', desc_string).split() if len(w) > 3])\n",
    "\n"
   ]
  },
  {
   "cell_type": "code",
   "execution_count": 10,
   "metadata": {},
   "outputs": [],
   "source": [
    "def generate_country_wordcloud(words, mask_image, filename=None, colormap='jet'):\n",
    "    mask = np.array(Image.open(mask_image))\n",
    "    wc = WordCloud(background_color=\"white\", max_words=3000, mask=mask, stopwords=stopwords_updated, colormap=colormap)\n",
    "    wc.generate(words)\n",
    "    if filename:\n",
    "        wc.to_file(filename)\n",
    "    return wc\n",
    "    plt.figure(figsize = (12,16))"
   ]
  },
  {
   "cell_type": "code",
   "execution_count": 11,
   "metadata": {},
   "outputs": [],
   "source": [
    "base = dict()\n",
    "base['Argentina'] = r\"\\argentina_bw_map.jpg\"\n",
    "base['Australia'] = r\"\\australia_bw_map.jpg\"\n",
    "base['Austria'] = r\"\\austria_bw_map.jpg\"\n",
    "base['Chile'] = r\"\\chile_bw_map.jpg\"\n",
    "base['France'] = r\"\\france_bw_map.jpg\"\n",
    "base['Italy'] = r\"\\italy_bw_map.jpg\"\n",
    "base['Portugal'] = r\"\\portugal_bw_map.jpg\"\n",
    "base['Spain'] = r\"\\spain_bw_map.jpg\"\n",
    "base['US'] = r\"\\usa_bw_map.jpg\"\n",
    "base['Germany'] = r\"\\germany_bw_map.jpg\""
   ]
  },
  {
   "cell_type": "code",
   "execution_count": 12,
   "metadata": {},
   "outputs": [
    {
     "ename": "NameError",
     "evalue": "name 'descriptions' is not defined",
     "output_type": "error",
     "traceback": [
      "\u001b[1;31m---------------------------------------------------------------------------\u001b[0m",
      "\u001b[1;31mNameError\u001b[0m                                 Traceback (most recent call last)",
      "Cell \u001b[1;32mIn[12], line 1\u001b[0m\n\u001b[1;32m----> 1\u001b[0m words \u001b[39m=\u001b[39m descriptions[\u001b[39m'\u001b[39m\u001b[39mUS\u001b[39m\u001b[39m'\u001b[39m]\n\u001b[0;32m      2\u001b[0m us_wc \u001b[39m=\u001b[39m generate_country_wordcloud(words, base[\u001b[39m'\u001b[39m\u001b[39mUS\u001b[39m\u001b[39m'\u001b[39m], \u001b[39m'\u001b[39m\u001b[39mUS.jpg\u001b[39m\u001b[39m'\u001b[39m)\n\u001b[0;32m      3\u001b[0m us_wc\u001b[39m.\u001b[39mto_image()\n",
      "\u001b[1;31mNameError\u001b[0m: name 'descriptions' is not defined"
     ]
    }
   ],
   "source": [
    "words = descriptions['US']\n",
    "us_wc = generate_country_wordcloud(words, base['US'], 'US.jpg')\n",
    "us_wc.to_image()"
   ]
  },
  {
   "cell_type": "code",
   "execution_count": null,
   "metadata": {},
   "outputs": [],
   "source": [
    "words = descriptions['France']\n",
    "france_wc = generate_country_wordcloud(words, base'France'], 'France.jpg')\n",
    "france_wc.to_image()"
   ]
  },
  {
   "cell_type": "code",
   "execution_count": null,
   "metadata": {},
   "outputs": [],
   "source": [
    "words = descriptions['Italy']\n",
    "italy_wc = generate_country_wordcloud(words, base['Italy'], 'Italy.jpg')\n",
    "italy_wc.to_image()"
   ]
  },
  {
   "cell_type": "code",
   "execution_count": null,
   "metadata": {},
   "outputs": [],
   "source": [
    "words = descriptions['Spain']\n",
    "spain_wc = generate_country_wordcloud(words, base['Spain'], 'Spain.jpg')\n",
    "spain_wc.to_image()"
   ]
  },
  {
   "cell_type": "code",
   "execution_count": null,
   "metadata": {},
   "outputs": [],
   "source": [
    "words = descriptions['Portugal']\n",
    "portugal_wc = generate_country_wordcloud(words,base ['Portugal'], 'Portugal.jpg')\n",
    "portugal_wc.to_image()"
   ]
  },
  {
   "cell_type": "code",
   "execution_count": null,
   "metadata": {},
   "outputs": [],
   "source": [
    "words = descriptions['Chile']\n",
    "chile_wc = generate_country_wordcloud(words, base['Chile'], 'chile.jpg')\n",
    "chile_wc.to_image()"
   ]
  },
  {
   "cell_type": "code",
   "execution_count": null,
   "metadata": {},
   "outputs": [],
   "source": [
    "words = descriptions['Argentina']\n",
    "argentina_wc = generate_country_wordcloud(words, base['Argentina'], 'argentina.jpg')\n",
    "argentina_wc.to_image()"
   ]
  },
  {
   "cell_type": "code",
   "execution_count": null,
   "metadata": {},
   "outputs": [],
   "source": [
    "words = descriptions['Austria']\n",
    "austria_wc = generate_country_wordcloud(words, base['Austria'], 'austria.jpg')\n",
    "austria_wc.to_image()"
   ]
  },
  {
   "cell_type": "code",
   "execution_count": null,
   "metadata": {},
   "outputs": [],
   "source": [
    "words = descriptions['Australia']\n",
    "australia_wc = generate_country_wordcloud(words, base['Australia'], 'australia.jpg')\n",
    "australia_wc.to_image()"
   ]
  },
  {
   "cell_type": "code",
   "execution_count": null,
   "metadata": {},
   "outputs": [],
   "source": [
    "words = descriptions['Germany']\n",
    "germany_wc = generate_country_wordcloud(words, base['Germany'], 'germany.jpg')\n",
    "germany_wc.to_image()"
   ]
  },
  {
   "cell_type": "markdown",
   "metadata": {},
   "source": [
    "# Topic modelling"
   ]
  },
  {
   "cell_type": "code",
   "execution_count": null,
   "metadata": {},
   "outputs": [],
   "source": [
    "\n",
    "texts = [[word for word in desc.lower().split() if word not in STOPWORDS and word.isalnum() and not word.lower() in ['wine', 'drink']] for desc in list(df[\"description\"].values)]\n",
    "dictionary = corpora.Dictionary(texts) #(word_id,word) pairs not word.lower() == 'slate'\n",
    "corpus = [dictionary.doc2bow(text) for text in texts] #(word_id,freq) pairs by sentence\n"
   ]
  },
  {
   "cell_type": "code",
   "execution_count": null,
   "metadata": {},
   "outputs": [],
   "source": [
    "\n",
    "num_topics = 10 #The number of topics that should be generated\n",
    "passes = 10\n",
    "lda = LdaModel(corpus, id2word=dictionary, num_topics=num_topics, passes=passes)\n"
   ]
  },
  {
   "cell_type": "code",
   "execution_count": null,
   "metadata": {},
   "outputs": [],
   "source": [
    "\n",
    "pp = pprint.PrettyPrinter(indent=4)\n",
    "pp.pprint(lda.print_topics(num_words=10))"
   ]
  },
  {
   "cell_type": "markdown",
   "metadata": {},
   "source": [
    "# Clustering with NLP and kMeans"
   ]
  },
  {
   "cell_type": "code",
   "execution_count": null,
   "metadata": {},
   "outputs": [],
   "source": [
    "variety_df = df.groupby('variety').filter(lambda x: len(x) > 1500)\n",
    "print(variety_df['variety'].unique())\n",
    "varieties = variety_df['variety'].value_counts().index.tolist()\n",
    "fig, ax = plt.subplots(figsize = (25, 10))\n",
    "sns.countplot(x = variety_df['variety'], order = varieties, ax = ax)\n",
    "plt.xticks(rotation = 90)\n",
    "plt.show()\n",
    "\n"
   ]
  },
  {
   "cell_type": "code",
   "execution_count": null,
   "metadata": {},
   "outputs": [],
   "source": [
    "stemmer = SnowballStemmer('english')\n",
    "tokenizer = RegexpTokenizer(r'[a-zA-Z\\']+')\n",
    "\n",
    "def tokenize(text):\n",
    "    return [stemmer.stem(word) for word in tokenizer.tokenize(text.lower())]\n",
    "\n",
    "punc = ['.', ',', '\"', \"'\", '?', '!', ':', ';', '(', ')', '[', ']', '{', '}',\"%\"]\n",
    "stop_words = text.ENGLISH_STOP_WORDS.union(punc)\n",
    "desc = variety_df['description'].values\n",
    "vectorizer = TfidfVectorizer(stop_words = stop_words, tokenizer = tokenize, max_features = 1000)\n",
    "X = vectorizer.fit_transform(desc)\n",
    "words = vectorizer.get_feature_names_out()"
   ]
  },
  {
   "cell_type": "code",
   "execution_count": null,
   "metadata": {},
   "outputs": [],
   "source": [
    "\n",
    "kmeans = KMeans(n_clusters = len(variety_df['variety'].unique()))\n",
    "kmeans.fit(X)\n",
    "\n"
   ]
  },
  {
   "cell_type": "code",
   "execution_count": null,
   "metadata": {},
   "outputs": [],
   "source": [
    "\n",
    "common_words = kmeans.cluster_centers_.argsort()[:,-1:-11:-1]\n",
    "for num, centroid in enumerate(common_words):\n",
    "    print(str(num) + ' : ' + ', '.join(words[word] for word in centroid))\n"
   ]
  },
  {
   "cell_type": "code",
   "execution_count": null,
   "metadata": {},
   "outputs": [],
   "source": [
    "\n",
    "variety_df['cluster'] = kmeans.labels_\n",
    "clusters = variety_df.groupby(['cluster', 'variety']).size()\n",
    "fig2, ax2 = plt.subplots(figsize = (30, 15))\n",
    "sns.heatmap(clusters.unstack(level = 'variety'), ax = ax2, cmap = 'Reds')\n",
    "\n",
    "ax2.set_xlabel('variety', fontdict = {'weight': 'bold', 'size': 24})\n",
    "ax2.set_ylabel('cluster', fontdict = {'weight': 'bold', 'size': 24})\n",
    "for label in ax2.get_xticklabels():\n",
    "    label.set_size(16)\n",
    "    label.set_weight(\"bold\")\n",
    "for label in ax2.get_yticklabels():\n",
    "    label.set_size(16)\n",
    "    label.set_weight(\"bold\")\n"
   ]
  },
  {
   "cell_type": "code",
   "execution_count": null,
   "metadata": {},
   "outputs": [],
   "source": []
  },
  {
   "cell_type": "code",
   "execution_count": null,
   "metadata": {},
   "outputs": [],
   "source": []
  },
  {
   "cell_type": "code",
   "execution_count": null,
   "metadata": {},
   "outputs": [],
   "source": []
  },
  {
   "cell_type": "markdown",
   "metadata": {},
   "source": [
    "# One-hot coding"
   ]
  },
  {
   "cell_type": "code",
   "execution_count": 89,
   "metadata": {},
   "outputs": [],
   "source": [
    "country_array = pd.get_dummies(df[df.columns[0]].values)\n",
    "province_array =pd.get_dummies(df[df.columns[4]].values)\n",
    "vareity_array = pd.get_dummies(df[df.columns[5]].values)"
   ]
  },
  {
   "cell_type": "code",
   "execution_count": 90,
   "metadata": {},
   "outputs": [],
   "source": [
    "train_df = [df['price'],df['compound'],df['neg'],df['neu'],df['pos'],country_array,province_array,vareity_array,df['points']]\n",
    "df_model = pd.concat(train_df, axis=1)"
   ]
  },
  {
   "cell_type": "code",
   "execution_count": 91,
   "metadata": {},
   "outputs": [],
   "source": [
    "df_model.dropna(inplace = True)"
   ]
  },
  {
   "cell_type": "code",
   "execution_count": 92,
   "metadata": {},
   "outputs": [
    {
     "data": {
      "text/html": [
       "<div>\n",
       "<style scoped>\n",
       "    .dataframe tbody tr th:only-of-type {\n",
       "        vertical-align: middle;\n",
       "    }\n",
       "\n",
       "    .dataframe tbody tr th {\n",
       "        vertical-align: top;\n",
       "    }\n",
       "\n",
       "    .dataframe thead th {\n",
       "        text-align: right;\n",
       "    }\n",
       "</style>\n",
       "<table border=\"1\" class=\"dataframe\">\n",
       "  <thead>\n",
       "    <tr style=\"text-align: right;\">\n",
       "      <th></th>\n",
       "      <th>price</th>\n",
       "      <th>compound</th>\n",
       "      <th>neg</th>\n",
       "      <th>neu</th>\n",
       "      <th>pos</th>\n",
       "      <th>Argentina</th>\n",
       "      <th>Armenia</th>\n",
       "      <th>Australia</th>\n",
       "      <th>Austria</th>\n",
       "      <th>Bosnia and Herzegovina</th>\n",
       "      <th>...</th>\n",
       "      <th>Yapincak</th>\n",
       "      <th>Zibibbo</th>\n",
       "      <th>Zierfandler</th>\n",
       "      <th>Zierfandler-Rotgipfler</th>\n",
       "      <th>Zinfandel</th>\n",
       "      <th>Zlahtina</th>\n",
       "      <th>Zweigelt</th>\n",
       "      <th>Çalkarası</th>\n",
       "      <th>Žilavka</th>\n",
       "      <th>points</th>\n",
       "    </tr>\n",
       "  </thead>\n",
       "  <tbody>\n",
       "    <tr>\n",
       "      <th>1</th>\n",
       "      <td>15.0</td>\n",
       "      <td>0.6486</td>\n",
       "      <td>0.000</td>\n",
       "      <td>0.872</td>\n",
       "      <td>0.128</td>\n",
       "      <td>0.0</td>\n",
       "      <td>0.0</td>\n",
       "      <td>0.0</td>\n",
       "      <td>0.0</td>\n",
       "      <td>0.0</td>\n",
       "      <td>...</td>\n",
       "      <td>0.0</td>\n",
       "      <td>0.0</td>\n",
       "      <td>0.0</td>\n",
       "      <td>0.0</td>\n",
       "      <td>0.0</td>\n",
       "      <td>0.0</td>\n",
       "      <td>0.0</td>\n",
       "      <td>0.0</td>\n",
       "      <td>0.0</td>\n",
       "      <td>87.0</td>\n",
       "    </tr>\n",
       "    <tr>\n",
       "      <th>2</th>\n",
       "      <td>14.0</td>\n",
       "      <td>-0.1280</td>\n",
       "      <td>0.053</td>\n",
       "      <td>0.947</td>\n",
       "      <td>0.000</td>\n",
       "      <td>0.0</td>\n",
       "      <td>0.0</td>\n",
       "      <td>0.0</td>\n",
       "      <td>0.0</td>\n",
       "      <td>0.0</td>\n",
       "      <td>...</td>\n",
       "      <td>0.0</td>\n",
       "      <td>0.0</td>\n",
       "      <td>0.0</td>\n",
       "      <td>0.0</td>\n",
       "      <td>0.0</td>\n",
       "      <td>0.0</td>\n",
       "      <td>0.0</td>\n",
       "      <td>0.0</td>\n",
       "      <td>0.0</td>\n",
       "      <td>87.0</td>\n",
       "    </tr>\n",
       "    <tr>\n",
       "      <th>3</th>\n",
       "      <td>13.0</td>\n",
       "      <td>0.3400</td>\n",
       "      <td>0.000</td>\n",
       "      <td>0.930</td>\n",
       "      <td>0.070</td>\n",
       "      <td>0.0</td>\n",
       "      <td>0.0</td>\n",
       "      <td>0.0</td>\n",
       "      <td>0.0</td>\n",
       "      <td>0.0</td>\n",
       "      <td>...</td>\n",
       "      <td>0.0</td>\n",
       "      <td>0.0</td>\n",
       "      <td>0.0</td>\n",
       "      <td>0.0</td>\n",
       "      <td>0.0</td>\n",
       "      <td>0.0</td>\n",
       "      <td>0.0</td>\n",
       "      <td>0.0</td>\n",
       "      <td>0.0</td>\n",
       "      <td>87.0</td>\n",
       "    </tr>\n",
       "    <tr>\n",
       "      <th>4</th>\n",
       "      <td>65.0</td>\n",
       "      <td>0.8176</td>\n",
       "      <td>0.000</td>\n",
       "      <td>0.817</td>\n",
       "      <td>0.183</td>\n",
       "      <td>0.0</td>\n",
       "      <td>0.0</td>\n",
       "      <td>0.0</td>\n",
       "      <td>0.0</td>\n",
       "      <td>0.0</td>\n",
       "      <td>...</td>\n",
       "      <td>0.0</td>\n",
       "      <td>0.0</td>\n",
       "      <td>0.0</td>\n",
       "      <td>0.0</td>\n",
       "      <td>0.0</td>\n",
       "      <td>0.0</td>\n",
       "      <td>0.0</td>\n",
       "      <td>0.0</td>\n",
       "      <td>0.0</td>\n",
       "      <td>87.0</td>\n",
       "    </tr>\n",
       "    <tr>\n",
       "      <th>5</th>\n",
       "      <td>15.0</td>\n",
       "      <td>0.1655</td>\n",
       "      <td>0.000</td>\n",
       "      <td>0.961</td>\n",
       "      <td>0.039</td>\n",
       "      <td>0.0</td>\n",
       "      <td>0.0</td>\n",
       "      <td>0.0</td>\n",
       "      <td>0.0</td>\n",
       "      <td>0.0</td>\n",
       "      <td>...</td>\n",
       "      <td>0.0</td>\n",
       "      <td>0.0</td>\n",
       "      <td>0.0</td>\n",
       "      <td>0.0</td>\n",
       "      <td>0.0</td>\n",
       "      <td>0.0</td>\n",
       "      <td>0.0</td>\n",
       "      <td>0.0</td>\n",
       "      <td>0.0</td>\n",
       "      <td>87.0</td>\n",
       "    </tr>\n",
       "    <tr>\n",
       "      <th>...</th>\n",
       "      <td>...</td>\n",
       "      <td>...</td>\n",
       "      <td>...</td>\n",
       "      <td>...</td>\n",
       "      <td>...</td>\n",
       "      <td>...</td>\n",
       "      <td>...</td>\n",
       "      <td>...</td>\n",
       "      <td>...</td>\n",
       "      <td>...</td>\n",
       "      <td>...</td>\n",
       "      <td>...</td>\n",
       "      <td>...</td>\n",
       "      <td>...</td>\n",
       "      <td>...</td>\n",
       "      <td>...</td>\n",
       "      <td>...</td>\n",
       "      <td>...</td>\n",
       "      <td>...</td>\n",
       "      <td>...</td>\n",
       "      <td>...</td>\n",
       "    </tr>\n",
       "    <tr>\n",
       "      <th>117019</th>\n",
       "      <td>14.0</td>\n",
       "      <td>0.3400</td>\n",
       "      <td>0.000</td>\n",
       "      <td>0.921</td>\n",
       "      <td>0.079</td>\n",
       "      <td>0.0</td>\n",
       "      <td>0.0</td>\n",
       "      <td>0.0</td>\n",
       "      <td>0.0</td>\n",
       "      <td>0.0</td>\n",
       "      <td>...</td>\n",
       "      <td>0.0</td>\n",
       "      <td>0.0</td>\n",
       "      <td>0.0</td>\n",
       "      <td>0.0</td>\n",
       "      <td>0.0</td>\n",
       "      <td>0.0</td>\n",
       "      <td>0.0</td>\n",
       "      <td>0.0</td>\n",
       "      <td>0.0</td>\n",
       "      <td>81.0</td>\n",
       "    </tr>\n",
       "    <tr>\n",
       "      <th>117020</th>\n",
       "      <td>21.0</td>\n",
       "      <td>-0.2263</td>\n",
       "      <td>0.064</td>\n",
       "      <td>0.936</td>\n",
       "      <td>0.000</td>\n",
       "      <td>0.0</td>\n",
       "      <td>0.0</td>\n",
       "      <td>0.0</td>\n",
       "      <td>0.0</td>\n",
       "      <td>0.0</td>\n",
       "      <td>...</td>\n",
       "      <td>0.0</td>\n",
       "      <td>0.0</td>\n",
       "      <td>0.0</td>\n",
       "      <td>0.0</td>\n",
       "      <td>0.0</td>\n",
       "      <td>0.0</td>\n",
       "      <td>0.0</td>\n",
       "      <td>0.0</td>\n",
       "      <td>0.0</td>\n",
       "      <td>81.0</td>\n",
       "    </tr>\n",
       "    <tr>\n",
       "      <th>117021</th>\n",
       "      <td>10.0</td>\n",
       "      <td>0.0000</td>\n",
       "      <td>0.000</td>\n",
       "      <td>1.000</td>\n",
       "      <td>0.000</td>\n",
       "      <td>0.0</td>\n",
       "      <td>0.0</td>\n",
       "      <td>0.0</td>\n",
       "      <td>0.0</td>\n",
       "      <td>0.0</td>\n",
       "      <td>...</td>\n",
       "      <td>0.0</td>\n",
       "      <td>0.0</td>\n",
       "      <td>0.0</td>\n",
       "      <td>0.0</td>\n",
       "      <td>0.0</td>\n",
       "      <td>0.0</td>\n",
       "      <td>0.0</td>\n",
       "      <td>0.0</td>\n",
       "      <td>0.0</td>\n",
       "      <td>81.0</td>\n",
       "    </tr>\n",
       "    <tr>\n",
       "      <th>117022</th>\n",
       "      <td>19.0</td>\n",
       "      <td>0.1513</td>\n",
       "      <td>0.138</td>\n",
       "      <td>0.689</td>\n",
       "      <td>0.172</td>\n",
       "      <td>0.0</td>\n",
       "      <td>0.0</td>\n",
       "      <td>0.0</td>\n",
       "      <td>0.0</td>\n",
       "      <td>0.0</td>\n",
       "      <td>...</td>\n",
       "      <td>0.0</td>\n",
       "      <td>0.0</td>\n",
       "      <td>0.0</td>\n",
       "      <td>0.0</td>\n",
       "      <td>0.0</td>\n",
       "      <td>0.0</td>\n",
       "      <td>0.0</td>\n",
       "      <td>0.0</td>\n",
       "      <td>0.0</td>\n",
       "      <td>81.0</td>\n",
       "    </tr>\n",
       "    <tr>\n",
       "      <th>117023</th>\n",
       "      <td>12.0</td>\n",
       "      <td>0.0000</td>\n",
       "      <td>0.000</td>\n",
       "      <td>1.000</td>\n",
       "      <td>0.000</td>\n",
       "      <td>0.0</td>\n",
       "      <td>0.0</td>\n",
       "      <td>0.0</td>\n",
       "      <td>0.0</td>\n",
       "      <td>0.0</td>\n",
       "      <td>...</td>\n",
       "      <td>0.0</td>\n",
       "      <td>0.0</td>\n",
       "      <td>0.0</td>\n",
       "      <td>0.0</td>\n",
       "      <td>0.0</td>\n",
       "      <td>0.0</td>\n",
       "      <td>0.0</td>\n",
       "      <td>0.0</td>\n",
       "      <td>0.0</td>\n",
       "      <td>81.0</td>\n",
       "    </tr>\n",
       "  </tbody>\n",
       "</table>\n",
       "<p>105398 rows × 1161 columns</p>\n",
       "</div>"
      ],
      "text/plain": [
       "        price  compound    neg    neu    pos  Argentina  Armenia  Australia  \\\n",
       "1        15.0    0.6486  0.000  0.872  0.128        0.0      0.0        0.0   \n",
       "2        14.0   -0.1280  0.053  0.947  0.000        0.0      0.0        0.0   \n",
       "3        13.0    0.3400  0.000  0.930  0.070        0.0      0.0        0.0   \n",
       "4        65.0    0.8176  0.000  0.817  0.183        0.0      0.0        0.0   \n",
       "5        15.0    0.1655  0.000  0.961  0.039        0.0      0.0        0.0   \n",
       "...       ...       ...    ...    ...    ...        ...      ...        ...   \n",
       "117019   14.0    0.3400  0.000  0.921  0.079        0.0      0.0        0.0   \n",
       "117020   21.0   -0.2263  0.064  0.936  0.000        0.0      0.0        0.0   \n",
       "117021   10.0    0.0000  0.000  1.000  0.000        0.0      0.0        0.0   \n",
       "117022   19.0    0.1513  0.138  0.689  0.172        0.0      0.0        0.0   \n",
       "117023   12.0    0.0000  0.000  1.000  0.000        0.0      0.0        0.0   \n",
       "\n",
       "        Austria  Bosnia and Herzegovina  ...  Yapincak  Zibibbo  Zierfandler  \\\n",
       "1           0.0                     0.0  ...       0.0      0.0          0.0   \n",
       "2           0.0                     0.0  ...       0.0      0.0          0.0   \n",
       "3           0.0                     0.0  ...       0.0      0.0          0.0   \n",
       "4           0.0                     0.0  ...       0.0      0.0          0.0   \n",
       "5           0.0                     0.0  ...       0.0      0.0          0.0   \n",
       "...         ...                     ...  ...       ...      ...          ...   \n",
       "117019      0.0                     0.0  ...       0.0      0.0          0.0   \n",
       "117020      0.0                     0.0  ...       0.0      0.0          0.0   \n",
       "117021      0.0                     0.0  ...       0.0      0.0          0.0   \n",
       "117022      0.0                     0.0  ...       0.0      0.0          0.0   \n",
       "117023      0.0                     0.0  ...       0.0      0.0          0.0   \n",
       "\n",
       "        Zierfandler-Rotgipfler  Zinfandel  Zlahtina  Zweigelt  Çalkarası  \\\n",
       "1                          0.0        0.0       0.0       0.0        0.0   \n",
       "2                          0.0        0.0       0.0       0.0        0.0   \n",
       "3                          0.0        0.0       0.0       0.0        0.0   \n",
       "4                          0.0        0.0       0.0       0.0        0.0   \n",
       "5                          0.0        0.0       0.0       0.0        0.0   \n",
       "...                        ...        ...       ...       ...        ...   \n",
       "117019                     0.0        0.0       0.0       0.0        0.0   \n",
       "117020                     0.0        0.0       0.0       0.0        0.0   \n",
       "117021                     0.0        0.0       0.0       0.0        0.0   \n",
       "117022                     0.0        0.0       0.0       0.0        0.0   \n",
       "117023                     0.0        0.0       0.0       0.0        0.0   \n",
       "\n",
       "        Žilavka  points  \n",
       "1           0.0    87.0  \n",
       "2           0.0    87.0  \n",
       "3           0.0    87.0  \n",
       "4           0.0    87.0  \n",
       "5           0.0    87.0  \n",
       "...         ...     ...  \n",
       "117019      0.0    81.0  \n",
       "117020      0.0    81.0  \n",
       "117021      0.0    81.0  \n",
       "117022      0.0    81.0  \n",
       "117023      0.0    81.0  \n",
       "\n",
       "[105398 rows x 1161 columns]"
      ]
     },
     "execution_count": 92,
     "metadata": {},
     "output_type": "execute_result"
    }
   ],
   "source": [
    "df_model"
   ]
  },
  {
   "cell_type": "markdown",
   "metadata": {},
   "source": [
    "# Correlation\n"
   ]
  },
  {
   "cell_type": "code",
   "execution_count": null,
   "metadata": {},
   "outputs": [],
   "source": [
    "from scipy.stats import pearsonr\n",
    "print(\"Pearson Correlation:\", pearsonr(df.price, df.points))"
   ]
  },
  {
   "cell_type": "code",
   "execution_count": 28,
   "metadata": {},
   "outputs": [
    {
     "name": "stdout",
     "output_type": "stream",
     "text": [
      "                                 OLS Regression Results                                \n",
      "=======================================================================================\n",
      "Dep. Variable:                 points   R-squared (uncentered):                   0.440\n",
      "Model:                            OLS   Adj. R-squared (uncentered):              0.440\n",
      "Method:                 Least Squares   F-statistic:                          9.503e+04\n",
      "Date:                Mon, 05 Dec 2022   Prob (F-statistic):                        0.00\n",
      "Time:                        15:06:41   Log-Likelihood:                     -6.7854e+05\n",
      "No. Observations:              120915   AIC:                                  1.357e+06\n",
      "Df Residuals:                  120914   BIC:                                  1.357e+06\n",
      "Df Model:                           1                                                  \n",
      "Covariance Type:            nonrobust                                                  \n",
      "==============================================================================\n",
      "                 coef    std err          t      P>|t|      [0.025      0.975]\n",
      "------------------------------------------------------------------------------\n",
      "price          1.0834      0.004    308.267      0.000       1.077       1.090\n",
      "==============================================================================\n",
      "Omnibus:                   262572.443   Durbin-Watson:                   0.644\n",
      "Prob(Omnibus):                  0.000   Jarque-Bera (JB):       4214977172.057\n",
      "Skew:                         -19.170   Prob(JB):                         0.00\n",
      "Kurtosis:                     916.863   Cond. No.                         1.00\n",
      "==============================================================================\n",
      "\n",
      "Notes:\n",
      "[1] R² is computed without centering (uncentered) since the model does not contain a constant.\n",
      "[2] Standard Errors assume that the covariance matrix of the errors is correctly specified.\n"
     ]
    }
   ],
   "source": [
    "import statsmodels.api as sm\n",
    "print(sm.OLS(df.points, df.price).fit().summary())"
   ]
  },
  {
   "cell_type": "code",
   "execution_count": 29,
   "metadata": {},
   "outputs": [
    {
     "data": {
      "text/plain": [
       "<seaborn.axisgrid.FacetGrid at 0x7feec1235430>"
      ]
     },
     "execution_count": 29,
     "metadata": {},
     "output_type": "execute_result"
    },
    {
     "data": {
      "image/png": "[encoded data removed]",
      "text/plain": [
       "<Figure size 360x360 with 1 Axes>"
      ]
     },
     "metadata": {
      "needs_background": "light"
     },
     "output_type": "display_data"
    }
   ],
   "source": [
    "import seaborn as sns\n",
    "sns.lmplot(y = 'price', x='points', data=df)"
   ]
  },
  {
   "cell_type": "markdown",
   "metadata": {},
   "source": [
    "# Split "
   ]
  },
  {
   "cell_type": "code",
   "execution_count": 50,
   "metadata": {},
   "outputs": [
    {
     "data": {
      "text/html": [
       "<div>\n",
       "<style scoped>\n",
       "    .dataframe tbody tr th:only-of-type {\n",
       "        vertical-align: middle;\n",
       "    }\n",
       "\n",
       "    .dataframe tbody tr th {\n",
       "        vertical-align: top;\n",
       "    }\n",
       "\n",
       "    .dataframe thead th {\n",
       "        text-align: right;\n",
       "    }\n",
       "</style>\n",
       "<table border=\"1\" class=\"dataframe\">\n",
       "  <thead>\n",
       "    <tr style=\"text-align: right;\">\n",
       "      <th></th>\n",
       "      <th>price</th>\n",
       "      <th>compound</th>\n",
       "      <th>neg</th>\n",
       "      <th>neu</th>\n",
       "      <th>pos</th>\n",
       "      <th>Argentina</th>\n",
       "      <th>Armenia</th>\n",
       "      <th>Australia</th>\n",
       "      <th>Austria</th>\n",
       "      <th>Bosnia and Herzegovina</th>\n",
       "      <th>...</th>\n",
       "      <th>Xynisteri</th>\n",
       "      <th>Yapincak</th>\n",
       "      <th>Zibibbo</th>\n",
       "      <th>Zierfandler</th>\n",
       "      <th>Zierfandler-Rotgipfler</th>\n",
       "      <th>Zinfandel</th>\n",
       "      <th>Zlahtina</th>\n",
       "      <th>Zweigelt</th>\n",
       "      <th>Çalkarası</th>\n",
       "      <th>Žilavka</th>\n",
       "    </tr>\n",
       "  </thead>\n",
       "  <tbody>\n",
       "    <tr>\n",
       "      <th>107716</th>\n",
       "      <td>16.0</td>\n",
       "      <td>0.8847</td>\n",
       "      <td>0.000</td>\n",
       "      <td>0.704</td>\n",
       "      <td>0.296</td>\n",
       "      <td>0.0</td>\n",
       "      <td>0.0</td>\n",
       "      <td>0.0</td>\n",
       "      <td>0.0</td>\n",
       "      <td>0.0</td>\n",
       "      <td>...</td>\n",
       "      <td>0.0</td>\n",
       "      <td>0.0</td>\n",
       "      <td>0.0</td>\n",
       "      <td>0.0</td>\n",
       "      <td>0.0</td>\n",
       "      <td>0.0</td>\n",
       "      <td>0.0</td>\n",
       "      <td>0.0</td>\n",
       "      <td>0.0</td>\n",
       "      <td>0.0</td>\n",
       "    </tr>\n",
       "    <tr>\n",
       "      <th>80878</th>\n",
       "      <td>20.0</td>\n",
       "      <td>0.3182</td>\n",
       "      <td>0.000</td>\n",
       "      <td>0.938</td>\n",
       "      <td>0.062</td>\n",
       "      <td>0.0</td>\n",
       "      <td>0.0</td>\n",
       "      <td>0.0</td>\n",
       "      <td>0.0</td>\n",
       "      <td>0.0</td>\n",
       "      <td>...</td>\n",
       "      <td>0.0</td>\n",
       "      <td>0.0</td>\n",
       "      <td>0.0</td>\n",
       "      <td>0.0</td>\n",
       "      <td>0.0</td>\n",
       "      <td>0.0</td>\n",
       "      <td>0.0</td>\n",
       "      <td>0.0</td>\n",
       "      <td>0.0</td>\n",
       "      <td>0.0</td>\n",
       "    </tr>\n",
       "    <tr>\n",
       "      <th>38056</th>\n",
       "      <td>15.0</td>\n",
       "      <td>0.6705</td>\n",
       "      <td>0.000</td>\n",
       "      <td>0.893</td>\n",
       "      <td>0.107</td>\n",
       "      <td>0.0</td>\n",
       "      <td>0.0</td>\n",
       "      <td>0.0</td>\n",
       "      <td>0.0</td>\n",
       "      <td>0.0</td>\n",
       "      <td>...</td>\n",
       "      <td>0.0</td>\n",
       "      <td>0.0</td>\n",
       "      <td>0.0</td>\n",
       "      <td>0.0</td>\n",
       "      <td>0.0</td>\n",
       "      <td>0.0</td>\n",
       "      <td>0.0</td>\n",
       "      <td>0.0</td>\n",
       "      <td>1.0</td>\n",
       "      <td>0.0</td>\n",
       "    </tr>\n",
       "    <tr>\n",
       "      <th>66212</th>\n",
       "      <td>14.0</td>\n",
       "      <td>0.0000</td>\n",
       "      <td>0.000</td>\n",
       "      <td>1.000</td>\n",
       "      <td>0.000</td>\n",
       "      <td>0.0</td>\n",
       "      <td>0.0</td>\n",
       "      <td>0.0</td>\n",
       "      <td>0.0</td>\n",
       "      <td>0.0</td>\n",
       "      <td>...</td>\n",
       "      <td>0.0</td>\n",
       "      <td>0.0</td>\n",
       "      <td>0.0</td>\n",
       "      <td>0.0</td>\n",
       "      <td>0.0</td>\n",
       "      <td>0.0</td>\n",
       "      <td>0.0</td>\n",
       "      <td>0.0</td>\n",
       "      <td>0.0</td>\n",
       "      <td>0.0</td>\n",
       "    </tr>\n",
       "    <tr>\n",
       "      <th>98659</th>\n",
       "      <td>10.0</td>\n",
       "      <td>0.8553</td>\n",
       "      <td>0.000</td>\n",
       "      <td>0.749</td>\n",
       "      <td>0.251</td>\n",
       "      <td>0.0</td>\n",
       "      <td>0.0</td>\n",
       "      <td>0.0</td>\n",
       "      <td>0.0</td>\n",
       "      <td>0.0</td>\n",
       "      <td>...</td>\n",
       "      <td>0.0</td>\n",
       "      <td>0.0</td>\n",
       "      <td>0.0</td>\n",
       "      <td>0.0</td>\n",
       "      <td>0.0</td>\n",
       "      <td>0.0</td>\n",
       "      <td>0.0</td>\n",
       "      <td>0.0</td>\n",
       "      <td>0.0</td>\n",
       "      <td>0.0</td>\n",
       "    </tr>\n",
       "    <tr>\n",
       "      <th>...</th>\n",
       "      <td>...</td>\n",
       "      <td>...</td>\n",
       "      <td>...</td>\n",
       "      <td>...</td>\n",
       "      <td>...</td>\n",
       "      <td>...</td>\n",
       "      <td>...</td>\n",
       "      <td>...</td>\n",
       "      <td>...</td>\n",
       "      <td>...</td>\n",
       "      <td>...</td>\n",
       "      <td>...</td>\n",
       "      <td>...</td>\n",
       "      <td>...</td>\n",
       "      <td>...</td>\n",
       "      <td>...</td>\n",
       "      <td>...</td>\n",
       "      <td>...</td>\n",
       "      <td>...</td>\n",
       "      <td>...</td>\n",
       "      <td>...</td>\n",
       "    </tr>\n",
       "    <tr>\n",
       "      <th>6306</th>\n",
       "      <td>14.0</td>\n",
       "      <td>-0.0735</td>\n",
       "      <td>0.090</td>\n",
       "      <td>0.829</td>\n",
       "      <td>0.080</td>\n",
       "      <td>0.0</td>\n",
       "      <td>0.0</td>\n",
       "      <td>0.0</td>\n",
       "      <td>0.0</td>\n",
       "      <td>0.0</td>\n",
       "      <td>...</td>\n",
       "      <td>0.0</td>\n",
       "      <td>0.0</td>\n",
       "      <td>0.0</td>\n",
       "      <td>0.0</td>\n",
       "      <td>0.0</td>\n",
       "      <td>0.0</td>\n",
       "      <td>0.0</td>\n",
       "      <td>0.0</td>\n",
       "      <td>0.0</td>\n",
       "      <td>0.0</td>\n",
       "    </tr>\n",
       "    <tr>\n",
       "      <th>64671</th>\n",
       "      <td>16.0</td>\n",
       "      <td>-0.0516</td>\n",
       "      <td>0.125</td>\n",
       "      <td>0.758</td>\n",
       "      <td>0.117</td>\n",
       "      <td>0.0</td>\n",
       "      <td>0.0</td>\n",
       "      <td>0.0</td>\n",
       "      <td>0.0</td>\n",
       "      <td>0.0</td>\n",
       "      <td>...</td>\n",
       "      <td>0.0</td>\n",
       "      <td>0.0</td>\n",
       "      <td>0.0</td>\n",
       "      <td>0.0</td>\n",
       "      <td>0.0</td>\n",
       "      <td>0.0</td>\n",
       "      <td>0.0</td>\n",
       "      <td>0.0</td>\n",
       "      <td>0.0</td>\n",
       "      <td>0.0</td>\n",
       "    </tr>\n",
       "    <tr>\n",
       "      <th>64390</th>\n",
       "      <td>62.0</td>\n",
       "      <td>0.7430</td>\n",
       "      <td>0.000</td>\n",
       "      <td>0.826</td>\n",
       "      <td>0.174</td>\n",
       "      <td>1.0</td>\n",
       "      <td>0.0</td>\n",
       "      <td>0.0</td>\n",
       "      <td>0.0</td>\n",
       "      <td>0.0</td>\n",
       "      <td>...</td>\n",
       "      <td>0.0</td>\n",
       "      <td>0.0</td>\n",
       "      <td>0.0</td>\n",
       "      <td>0.0</td>\n",
       "      <td>0.0</td>\n",
       "      <td>0.0</td>\n",
       "      <td>0.0</td>\n",
       "      <td>0.0</td>\n",
       "      <td>0.0</td>\n",
       "      <td>0.0</td>\n",
       "    </tr>\n",
       "    <tr>\n",
       "      <th>28398</th>\n",
       "      <td>30.0</td>\n",
       "      <td>0.0000</td>\n",
       "      <td>0.000</td>\n",
       "      <td>1.000</td>\n",
       "      <td>0.000</td>\n",
       "      <td>0.0</td>\n",
       "      <td>0.0</td>\n",
       "      <td>0.0</td>\n",
       "      <td>0.0</td>\n",
       "      <td>0.0</td>\n",
       "      <td>...</td>\n",
       "      <td>0.0</td>\n",
       "      <td>0.0</td>\n",
       "      <td>0.0</td>\n",
       "      <td>0.0</td>\n",
       "      <td>0.0</td>\n",
       "      <td>0.0</td>\n",
       "      <td>0.0</td>\n",
       "      <td>0.0</td>\n",
       "      <td>0.0</td>\n",
       "      <td>0.0</td>\n",
       "    </tr>\n",
       "    <tr>\n",
       "      <th>100603</th>\n",
       "      <td>19.0</td>\n",
       "      <td>0.6908</td>\n",
       "      <td>0.000</td>\n",
       "      <td>0.856</td>\n",
       "      <td>0.144</td>\n",
       "      <td>0.0</td>\n",
       "      <td>0.0</td>\n",
       "      <td>0.0</td>\n",
       "      <td>0.0</td>\n",
       "      <td>0.0</td>\n",
       "      <td>...</td>\n",
       "      <td>0.0</td>\n",
       "      <td>0.0</td>\n",
       "      <td>0.0</td>\n",
       "      <td>0.0</td>\n",
       "      <td>0.0</td>\n",
       "      <td>0.0</td>\n",
       "      <td>0.0</td>\n",
       "      <td>0.0</td>\n",
       "      <td>0.0</td>\n",
       "      <td>0.0</td>\n",
       "    </tr>\n",
       "  </tbody>\n",
       "</table>\n",
       "<p>73778 rows × 1160 columns</p>\n",
       "</div>"
      ],
      "text/plain": [
       "        price  compound    neg    neu    pos  Argentina  Armenia  Australia  \\\n",
       "107716   16.0    0.8847  0.000  0.704  0.296        0.0      0.0        0.0   \n",
       "80878    20.0    0.3182  0.000  0.938  0.062        0.0      0.0        0.0   \n",
       "38056    15.0    0.6705  0.000  0.893  0.107        0.0      0.0        0.0   \n",
       "66212    14.0    0.0000  0.000  1.000  0.000        0.0      0.0        0.0   \n",
       "98659    10.0    0.8553  0.000  0.749  0.251        0.0      0.0        0.0   \n",
       "...       ...       ...    ...    ...    ...        ...      ...        ...   \n",
       "6306     14.0   -0.0735  0.090  0.829  0.080        0.0      0.0        0.0   \n",
       "64671    16.0   -0.0516  0.125  0.758  0.117        0.0      0.0        0.0   \n",
       "64390    62.0    0.7430  0.000  0.826  0.174        1.0      0.0        0.0   \n",
       "28398    30.0    0.0000  0.000  1.000  0.000        0.0      0.0        0.0   \n",
       "100603   19.0    0.6908  0.000  0.856  0.144        0.0      0.0        0.0   \n",
       "\n",
       "        Austria  Bosnia and Herzegovina  ...  Xynisteri  Yapincak  Zibibbo  \\\n",
       "107716      0.0                     0.0  ...        0.0       0.0      0.0   \n",
       "80878       0.0                     0.0  ...        0.0       0.0      0.0   \n",
       "38056       0.0                     0.0  ...        0.0       0.0      0.0   \n",
       "66212       0.0                     0.0  ...        0.0       0.0      0.0   \n",
       "98659       0.0                     0.0  ...        0.0       0.0      0.0   \n",
       "...         ...                     ...  ...        ...       ...      ...   \n",
       "6306        0.0                     0.0  ...        0.0       0.0      0.0   \n",
       "64671       0.0                     0.0  ...        0.0       0.0      0.0   \n",
       "64390       0.0                     0.0  ...        0.0       0.0      0.0   \n",
       "28398       0.0                     0.0  ...        0.0       0.0      0.0   \n",
       "100603      0.0                     0.0  ...        0.0       0.0      0.0   \n",
       "\n",
       "        Zierfandler  Zierfandler-Rotgipfler  Zinfandel  Zlahtina  Zweigelt  \\\n",
       "107716          0.0                     0.0        0.0       0.0       0.0   \n",
       "80878           0.0                     0.0        0.0       0.0       0.0   \n",
       "38056           0.0                     0.0        0.0       0.0       0.0   \n",
       "66212           0.0                     0.0        0.0       0.0       0.0   \n",
       "98659           0.0                     0.0        0.0       0.0       0.0   \n",
       "...             ...                     ...        ...       ...       ...   \n",
       "6306            0.0                     0.0        0.0       0.0       0.0   \n",
       "64671           0.0                     0.0        0.0       0.0       0.0   \n",
       "64390           0.0                     0.0        0.0       0.0       0.0   \n",
       "28398           0.0                     0.0        0.0       0.0       0.0   \n",
       "100603          0.0                     0.0        0.0       0.0       0.0   \n",
       "\n",
       "        Çalkarası  Žilavka  \n",
       "107716        0.0      0.0  \n",
       "80878         0.0      0.0  \n",
       "38056         1.0      0.0  \n",
       "66212         0.0      0.0  \n",
       "98659         0.0      0.0  \n",
       "...           ...      ...  \n",
       "6306          0.0      0.0  \n",
       "64671         0.0      0.0  \n",
       "64390         0.0      0.0  \n",
       "28398         0.0      0.0  \n",
       "100603        0.0      0.0  \n",
       "\n",
       "[73778 rows x 1160 columns]"
      ]
     },
     "execution_count": 50,
     "metadata": {},
     "output_type": "execute_result"
    }
   ],
   "source": [
    "from sklearn.model_selection import train_test_split\n",
    "train, test = train_test_split(df_model, test_size = 0.3)\n",
    "x_train = train.iloc[0:,0:-1]#independent variables \n",
    "y_train = train['points']# last column \n",
    "x_test = test.iloc[0:,0:-1]\n",
    "y_test = test['points']\n",
    "x_train"
   ]
  },
  {
   "cell_type": "markdown",
   "metadata": {},
   "source": [
    "# Linear Regression"
   ]
  },
  {
   "cell_type": "code",
   "execution_count": 60,
   "metadata": {},
   "outputs": [
    {
     "data": {
      "text/plain": [
       "array([ 8.01595950e-02,  3.97065849e+00,  5.72292714e+01, ...,\n",
       "       -3.26016718e+06, -3.26017053e+06, -3.26017092e+06])"
      ]
     },
     "execution_count": 60,
     "metadata": {},
     "output_type": "execute_result"
    }
   ],
   "source": [
    "from sklearn import linear_model\n",
    "from sklearn.metrics import mean_squared_error\n",
    "\n",
    "model = linear_model.LinearRegression()\n",
    "model.fit(x_train,y_train)\n",
    "model.coef_"
   ]
  },
  {
   "cell_type": "code",
   "execution_count": 61,
   "metadata": {},
   "outputs": [
    {
     "data": {
      "text/plain": [
       "25097462584423.22"
      ]
     },
     "execution_count": 61,
     "metadata": {},
     "output_type": "execute_result"
    }
   ],
   "source": [
    "from sklearn.metrics import r2_score\n",
    "import math\n",
    "training_predictions = model.predict(x_train)\n",
    "testing_predictions  = model.predict(x_test)\n",
    "#r2_score(y_test, testing_predictions)\n",
    "mse = mean_squared_error(y_test, testing_predictions)\n",
    "rmse = math.sqrt(mse)\n",
    "mse\n",
    "#metrics.accuracy_score(y_test, y_pred)"
   ]
  },
  {
   "cell_type": "code",
   "execution_count": 62,
   "metadata": {},
   "outputs": [
    {
     "name": "stdout",
     "output_type": "stream",
     "text": [
      "Training R-Square 0.3983929879986058\n",
      "Testing R-Square -2911051368674.513\n"
     ]
    }
   ],
   "source": [
    "print(\"Training R-Square\",model.score(x_train,y_train))\n",
    "print(\"Testing R-Square\",model.score(x_test,y_test))"
   ]
  },
  {
   "cell_type": "code",
   "execution_count": 63,
   "metadata": {},
   "outputs": [
    {
     "data": {
      "text/plain": [
       "-2911051368674.513"
      ]
     },
     "execution_count": 63,
     "metadata": {},
     "output_type": "execute_result"
    }
   ],
   "source": [
    "\n",
    "r2_score(y_test, testing_predictions)\n"
   ]
  },
  {
   "cell_type": "markdown",
   "metadata": {},
   "source": [
    "# Logistic Regression"
   ]
  },
  {
   "cell_type": "code",
   "execution_count": 64,
   "metadata": {},
   "outputs": [],
   "source": [
    "from sklearn.linear_model import LogisticRegression\n",
    "from sklearn.metrics import accuracy_score\n",
    "\n",
    "logit = LogisticRegression()\n",
    "logit.fit(x_train,y_train)\n",
    "y_pred = logit.predict(x_test)\n"
   ]
  },
  {
   "cell_type": "code",
   "execution_count": 65,
   "metadata": {},
   "outputs": [
    {
     "data": {
      "text/plain": [
       "2.4740845264762625"
      ]
     },
     "execution_count": 65,
     "metadata": {},
     "output_type": "execute_result"
    }
   ],
   "source": [
    "mse = mean_squared_error(y_test, y_pred)\n",
    "rmse = math.sqrt(mse)\n",
    "rmse"
   ]
  },
  {
   "cell_type": "code",
   "execution_count": 66,
   "metadata": {},
   "outputs": [
    {
     "data": {
      "text/plain": [
       "0.29001508749008653"
      ]
     },
     "execution_count": 66,
     "metadata": {},
     "output_type": "execute_result"
    }
   ],
   "source": [
    "r2_score(y_test, y_pred)"
   ]
  },
  {
   "cell_type": "code",
   "execution_count": 68,
   "metadata": {},
   "outputs": [],
   "source": [
    "#from sklearn import metrics\n",
    "#metrics.accuracy_score(y_test, y_pred)"
   ]
  },
  {
   "cell_type": "markdown",
   "metadata": {},
   "source": [
    "# Decision Tree"
   ]
  },
  {
   "cell_type": "code",
   "execution_count": null,
   "metadata": {},
   "outputs": [],
   "source": [
    "from sklearn.tree import DecisionTreeRegressor\n",
    "from sklearn import tree\n",
    "\n",
    "\n",
    "for i in range(10,30):\n",
    "    dt_model = tree.DecisionTreeRegressor(max_depth=i)\n",
    "#model = DecisionTreeRegressor(max_depth = 3)\n",
    "    print(i,dt_model.fit(x_train,np.ravel(y_train)),dt_model.score(X=x_test, y=y_test))\n",
    "y_pred =dt_model.predict(x_test)"
   ]
  },
  {
   "cell_type": "code",
   "execution_count": 69,
   "metadata": {},
   "outputs": [
    {
     "name": "stdout",
     "output_type": "stream",
     "text": [
      "2.4133633467873823\n",
      "0.3244375862191127\n"
     ]
    }
   ],
   "source": [
    "from sklearn.metrics import accuracy_score\n",
    "from sklearn.tree import DecisionTreeRegressor\n",
    "from sklearn import tree\n",
    "dt_model = tree.DecisionTreeRegressor(max_depth=17)\n",
    "dt_model.fit(x_train,np.ravel(y_train))\n",
    "dt_model.score(X=x_test, y=y_test)\n",
    "y_pred =dt_model.predict(x_test)\n",
    "#metrics.accuracy_score(y_test, y_pred)\n",
    "\n",
    "mse = mean_squared_error(y_test, y_pred)\n",
    "rmse = math.sqrt(mse)\n",
    "print(rmse)\n",
    "print(r2_score(y_test, y_pred))"
   ]
  },
  {
   "cell_type": "code",
   "execution_count": null,
   "metadata": {},
   "outputs": [],
   "source": [
    "accuracy_score(y_test, y_pred)"
   ]
  },
  {
   "cell_type": "markdown",
   "metadata": {},
   "source": [
    "# RandomForestClassifier"
   ]
  },
  {
   "cell_type": "code",
   "execution_count": 55,
   "metadata": {},
   "outputs": [
    {
     "name": "stdout",
     "output_type": "stream",
     "text": [
      "2.522391814936409\n",
      "0.2639876218417384\n"
     ]
    }
   ],
   "source": [
    "from sklearn.ensemble import RandomForestClassifier\n",
    "\n",
    "rf_model = RandomForestClassifier(max_depth=20,min_samples_leaf=10,min_samples_split=10,n_estimators=100)\n",
    "#np.ravel flattens the pandas Series into an np array. That's what the classifier needs\n",
    "rf_model.fit(x_train,np.ravel(y_train))\n",
    "y_pred =rf_model.predict(x_test)\n",
    "mse = mean_squared_error(y_test, y_pred)\n",
    "rmse = math.sqrt(mse)\n",
    "print(rmse)\n",
    "print(r2_score(y_test, y_pred))"
   ]
  },
  {
   "cell_type": "code",
   "execution_count": 77,
   "metadata": {},
   "outputs": [
    {
     "data": {
      "text/plain": [
       "0.16192970365265336"
      ]
     },
     "execution_count": 77,
     "metadata": {},
     "output_type": "execute_result"
    }
   ],
   "source": [
    "y_pred =rf_model.predict(x_test).round()\n",
    "accuracy_score(y_test, y_pred)"
   ]
  },
  {
   "cell_type": "markdown",
   "metadata": {},
   "source": [
    "# BaggingClassifier"
   ]
  },
  {
   "cell_type": "code",
   "execution_count": 72,
   "metadata": {},
   "outputs": [
    {
     "name": "stdout",
     "output_type": "stream",
     "text": [
      "2.629450535792051\n",
      "0.19804487980909335\n"
     ]
    }
   ],
   "source": [
    "from sklearn.ensemble import BaggingClassifier\n",
    "b_model=BaggingClassifier()\n",
    "b_model.fit(x_train,np.ravel(y_train))\n",
    "y_pred =b_model.predict(x_test)\n",
    "mse = mean_squared_error(y_test, y_pred)\n",
    "rmse = math.sqrt(mse)\n",
    "print(rmse)\n",
    "print(r2_score(y_test, y_pred))"
   ]
  },
  {
   "cell_type": "code",
   "execution_count": 79,
   "metadata": {},
   "outputs": [
    {
     "data": {
      "text/plain": [
       "0.19354927636113026"
      ]
     },
     "execution_count": 79,
     "metadata": {},
     "output_type": "execute_result"
    }
   ],
   "source": [
    "accuracy_score(y_test, y_pred)"
   ]
  },
  {
   "cell_type": "markdown",
   "metadata": {},
   "source": [
    "# KNN"
   ]
  },
  {
   "cell_type": "code",
   "execution_count": 73,
   "metadata": {},
   "outputs": [
    {
     "name": "stdout",
     "output_type": "stream",
     "text": [
      "2.4691413642264064\n",
      "0.29284931935282754\n"
     ]
    }
   ],
   "source": [
    "from sklearn.neighbors import KNeighborsRegressor\n",
    "knn=KNeighborsRegressor(n_neighbors=5)\n",
    "knn.fit(x_train,y_train)\n",
    "knn.score(x_test, y_test)\n",
    "\n",
    "y_pred =knn.predict(x_test)\n",
    "mse = mean_squared_error(y_test, y_pred)\n",
    "rmse = math.sqrt(mse)\n",
    "print(rmse)\n",
    "print(r2_score(y_test, y_pred))"
   ]
  },
  {
   "cell_type": "code",
   "execution_count": 38,
   "metadata": {},
   "outputs": [
    {
     "data": {
      "text/plain": [
       "2.4199868428938744"
      ]
     },
     "execution_count": 38,
     "metadata": {},
     "output_type": "execute_result"
    }
   ],
   "source": [
    "mse = mean_squared_error(y_test, knn.predict(x_test))\n",
    "rmse = math.sqrt(mse)\n",
    "rmse"
   ]
  },
  {
   "cell_type": "code",
   "execution_count": 103,
   "metadata": {},
   "outputs": [
    {
     "data": {
      "text/plain": [
       "0.17739490006891798"
      ]
     },
     "execution_count": 103,
     "metadata": {},
     "output_type": "execute_result"
    }
   ],
   "source": [
    "accuracy_score(y_test, knn.predict(x_test).round())"
   ]
  },
  {
   "cell_type": "markdown",
   "metadata": {},
   "source": [
    "# Making Points Categorical"
   ]
  },
  {
   "cell_type": "code",
   "execution_count": 54,
   "metadata": {},
   "outputs": [],
   "source": [
    "# Assign levels base on points of the wine to make points categorical data\n",
    "for i in df_model['points']:\n",
    "    if i > 95:\n",
    "        df_model['level'] = 'A'\n",
    "    elif i < 95 and i>= 90:\n",
    "        df_model['level'] = 'B'\n",
    "    elif i < 90 and i >= 85:\n",
    "        df_model['level'] = 'C'\n",
    "    elif i < 85 and i>= 80:\n",
    "        df_model['level'] = 'D'\n"
   ]
  },
  {
   "cell_type": "code",
   "execution_count": 57,
   "metadata": {},
   "outputs": [],
   "source": [
    "df_classif = df_model"
   ]
  },
  {
   "cell_type": "markdown",
   "metadata": {},
   "source": [
    "# Split data"
   ]
  },
  {
   "cell_type": "code",
   "execution_count": 68,
   "metadata": {},
   "outputs": [
    {
     "data": {
      "text/plain": [
       "69292     85.0\n",
       "81157     84.0\n",
       "53668     88.0\n",
       "89058     92.0\n",
       "100898    87.0\n",
       "          ... \n",
       "101437    83.0\n",
       "102959    91.0\n",
       "63579     93.0\n",
       "79202     90.0\n",
       "17289     94.0\n",
       "Name: points, Length: 73778, dtype: float64"
      ]
     },
     "execution_count": 68,
     "metadata": {},
     "output_type": "execute_result"
    }
   ],
   "source": [
    "from sklearn.model_selection import train_test_split\n",
    "train, test = train_test_split(df_classif, test_size = 0.3)\n",
    "x_train = train.iloc[0:,0:-1]#independent variables \n",
    "y_train = train['points']# last column \n",
    "x_test = test.iloc[0:,0:-1]\n",
    "y_test = test['points']\n",
    "y_train"
   ]
  },
  {
   "cell_type": "code",
   "execution_count": null,
   "metadata": {},
   "outputs": [],
   "source": []
  },
  {
   "cell_type": "markdown",
   "metadata": {},
   "source": [
    "# RandomForestClassifier"
   ]
  },
  {
   "cell_type": "code",
   "execution_count": 67,
   "metadata": {},
   "outputs": [
    {
     "name": "stdout",
     "output_type": "stream",
     "text": [
      "0.6080318411050497\n",
      "0.9573852134621372\n"
     ]
    },
    {
     "data": {
      "text/plain": [
       "0.9022770398481973"
      ]
     },
     "execution_count": 67,
     "metadata": {},
     "output_type": "execute_result"
    }
   ],
   "source": [
    "from sklearn.ensemble import RandomForestClassifier\n",
    "from sklearn.metrics import accuracy_score\n",
    "\n",
    "rf_model = RandomForestClassifier(n_estimators=100)\n",
    "#np.ravel flattens the pandas Series into an np array. That's what the classifier needs\n",
    "rf_model.fit(x_train,np.ravel(y_train))\n",
    "y_pred =rf_model.predict(x_test)\n",
    "mse = mean_squared_error(y_test, y_pred)\n",
    "rmse = math.sqrt(mse)\n",
    "print(rmse)\n",
    "print(r2_score(y_test, y_pred))\n",
    "accuracy_score(y_test, y_pred)"
   ]
  },
  {
   "cell_type": "code",
   "execution_count": null,
   "metadata": {},
   "outputs": [],
   "source": []
  },
  {
   "cell_type": "code",
   "execution_count": null,
   "metadata": {},
   "outputs": [],
   "source": []
  },
  {
   "cell_type": "code",
   "execution_count": null,
   "metadata": {},
   "outputs": [],
   "source": [
    "from sklearn.svm import SVC # \"Support vector classifier\"\n",
    "model2 = SVC(kernel='linear', C=10) # kernel and C are the main args to adjust for linear SVC\n",
    "model2.fit(x_train, y_train)\n",
    "model2.score(x_train, y_train)"
   ]
  },
  {
   "cell_type": "markdown",
   "metadata": {},
   "source": [
    "# Recommendation system"
   ]
  },
  {
   "cell_type": "code",
   "execution_count": null,
   "metadata": {},
   "outputs": [],
   "source": [
    "from sklearn.neighbors import NearestNeighbors # KNN Clustering \n",
    "from scipy.sparse import csr_matrix # Compressed Sparse Row matrix\n",
    "from sklearn.decomposition import TruncatedSVD # Dimensional Reduction"
   ]
  },
  {
   "cell_type": "code",
   "execution_count": null,
   "metadata": {},
   "outputs": [],
   "source": [
    "col = ['province','variety','points']\n",
    "\n",
    "wine1 = df[col]\n",
    "wine1 = wine1.dropna(axis=0)\n",
    "wine1 = wine1.drop_duplicates(['province','variety'])\n",
    "wine1 = wine1[wine1['points'] > 85]\n",
    "\n",
    "wine_pivot = wine1.pivot(index= 'variety',columns='province',values='points').fillna(0)\n",
    "wine_pivot_matrix = csr_matrix(wine_pivot)\n"
   ]
  },
  {
   "cell_type": "code",
   "execution_count": null,
   "metadata": {},
   "outputs": [],
   "source": [
    "\n",
    "knn = NearestNeighbors(n_neighbors=10, algorithm= 'brute', metric= 'cosine')\n",
    "model_knn = knn.fit(wine_pivot_matrix)\n",
    "\n"
   ]
  },
  {
   "cell_type": "code",
   "execution_count": null,
   "metadata": {},
   "outputs": [],
   "source": [
    "\n",
    "for n in range(3):\n",
    "    query_index = np.random.choice(wine_pivot.shape[0])\n",
    "    #print(n, query_index)\n",
    "    distance, indice = model_knn.kneighbors(wine_pivot.iloc[query_index,:].values.reshape(1,-1), n_neighbors=6)\n",
    "    for i in range(0, len(distance.flatten())):\n",
    "        if  i == 0:\n",
    "            print('Recommendation for ## {0} ##:'.format(wine_pivot.index[query_index]))\n",
    "        else:\n",
    "            print('{0}: {1} with distance: {2}'.format(i,wine_pivot.index[indice.flatten()[i]],distance.flatten()[i]))\n",
    "    print('\\n')"
   ]
  }
 ],
 "metadata": {
  "kernelspec": {
   "display_name": "Python 3 (ipykernel)",
   "language": "python",
   "name": "python3"
  },
  "language_info": {
   "codemirror_mode": {
    "name": "ipython",
    "version": 3
   },
   "file_extension": ".py",
   "mimetype": "text/x-python",
   "name": "python",
   "nbconvert_exporter": "python",
   "pygments_lexer": "ipython3",
   "version": "3.9.12"
  }
 },
 "nbformat": 4,
 "nbformat_minor": 4
}
